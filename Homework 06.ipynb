{
 "metadata": {
  "name": "",
  "signature": "sha256:ccb003c6a279646e5c4b4b8b3fae3c11ce484c08a1e2e7a7add05ef8812baa95"
 },
 "nbformat": 3,
 "nbformat_minor": 0,
 "worksheets": [
  {
   "cells": [
    {
     "cell_type": "code",
     "collapsed": false,
     "input": [
      "%%javascript\n",
      "\n",
      "window.load_remote_theme = false\n",
      "var theme_url = \"https://drostehk.github.io/ipynb-theme/\";\n",
      "var asset_url = 'https://raw.githubusercontent.com/tijptjik/DS_assets/master/';\n",
      "\n",
      "window.load_local_theme = function(){\n",
      "    var hostname = document.location.hostname\n",
      "    return ((hostname == \"localhost\" || hostname == '127.0.0.1') && !load_remote_theme)\n",
      "}\n",
      "\n",
      "var url = load_local_theme() ? document.location.origin + \"/files/theme/custom.js\" : theme_url + 'custom.js'\n",
      "\n",
      "$.getScript(url)"
     ],
     "language": "python",
     "metadata": {},
     "outputs": [
      {
       "javascript": [
        "\n",
        "window.load_remote_theme = false\n",
        "var theme_url = \"https://drostehk.github.io/ipynb-theme/\";\n",
        "var asset_url = 'https://raw.githubusercontent.com/tijptjik/DS_assets/master/';\n",
        "\n",
        "window.load_local_theme = function(){\n",
        "    var hostname = document.location.hostname\n",
        "    return ((hostname == \"localhost\" || hostname == '127.0.0.1') && !load_remote_theme)\n",
        "}\n",
        "\n",
        "var url = load_local_theme() ? document.location.origin + \"/files/theme/custom.js\" : theme_url + 'custom.js'\n",
        "\n",
        "$.getScript(url)"
       ],
       "metadata": {},
       "output_type": "display_data",
       "text": [
        "<IPython.core.display.Javascript at 0x7f0b912a2690>"
       ]
      }
     ],
     "prompt_number": 1
    },
    {
     "cell_type": "code",
     "collapsed": false,
     "input": [
      "%matplotlib inline\n",
      "import pandas as pd\n",
      "import numpy as np\n",
      "import matplotlib.pyplot as plt\n",
      "from sklearn import linear_model\n",
      "import seaborn as sns\n",
      "from pylab import plot,show\n",
      "from scipy import stats\n",
      "\n",
      "DATA_DIR = '../data/'"
     ],
     "language": "python",
     "metadata": {},
     "outputs": [],
     "prompt_number": 1
    },
    {
     "cell_type": "markdown",
     "metadata": {},
     "source": [
      "## 1. Predicting stopping distance"
     ]
    },
    {
     "cell_type": "code",
     "collapsed": false,
     "input": [
      "cars = pd.read_csv(DATA_DIR + 'cars1920.csv')\n",
      "cars.info()"
     ],
     "language": "python",
     "metadata": {},
     "outputs": [
      {
       "output_type": "stream",
       "stream": "stdout",
       "text": [
        "<class 'pandas.core.frame.DataFrame'>\n",
        "Int64Index: 50 entries, 0 to 49\n",
        "Data columns (total 2 columns):\n",
        "speed    50 non-null int64\n",
        "dist     50 non-null int64\n",
        "dtypes: int64(2)"
       ]
      }
     ],
     "prompt_number": 2
    },
    {
     "cell_type": "markdown",
     "metadata": {},
     "source": [
      "##### A. Using LinearRegression model"
     ]
    },
    {
     "cell_type": "code",
     "collapsed": false,
     "input": [
      "lm = linear_model.LinearRegression()\n",
      "speed = [[x] for x in cars[\"speed\"].values]\n",
      "distance = cars[\"dist\"].values\n",
      "lm.fit(speed, distance)"
     ],
     "language": "python",
     "metadata": {},
     "outputs": [
      {
       "metadata": {},
       "output_type": "pyout",
       "prompt_number": 3,
       "text": [
        "LinearRegression(copy_X=True, fit_intercept=True, normalize=False)"
       ]
      }
     ],
     "prompt_number": 3
    },
    {
     "cell_type": "code",
     "collapsed": false,
     "input": [
      "lm.intercept_"
     ],
     "language": "python",
     "metadata": {},
     "outputs": [
      {
       "metadata": {},
       "output_type": "pyout",
       "prompt_number": 4,
       "text": [
        "-17.579094890510973"
       ]
      }
     ],
     "prompt_number": 4
    },
    {
     "cell_type": "code",
     "collapsed": false,
     "input": [
      "lm.coef_"
     ],
     "language": "python",
     "metadata": {},
     "outputs": [
      {
       "metadata": {},
       "output_type": "pyout",
       "prompt_number": 12,
       "text": [
        "array([ 3.93240876])"
       ]
      }
     ],
     "prompt_number": 12
    },
    {
     "cell_type": "code",
     "collapsed": false,
     "input": [
      "slope, intercept, r_value, p_value, std_err = stats.linregress(cars[\"dist\"], cars[\"speed\"])\n",
      "\n",
      "# H0\n",
      "print 'response mean', np.mean(distance)\n",
      "\n",
      "# Standard Deviation of Y\n",
      "print 'standard Deviation of Y', np.std(distance)\n",
      "\n",
      "# Coefficient of Determination\n",
      "print 'r-squared value', r_value**2\n",
      "\n",
      "# Is the statistic significant?\n",
      "print 'p_value', p_value\n",
      "\n",
      "print 'standard deviation of error terms', std_err\n",
      "\n",
      "line = slope*cars[\"dist\"]+intercept\n",
      "plot(cars[\"dist\"],line,'r-',cars[\"dist\"],cars[\"speed\"],'o')\n",
      "show()\n"
     ],
     "language": "python",
     "metadata": {},
     "outputs": [
      {
       "output_type": "stream",
       "stream": "stdout",
       "text": [
        "response mean 42.98\n",
        "standard Deviation of Y 25.5103822002\n",
        "r-squared value 0.651079380758\n",
        "p_value 1.4898364963e-12\n",
        "standard deviation of error terms 0.0174944790531\n"
       ]
      },
      {
       "metadata": {},
       "output_type": "display_data",
       "png": "[encoded data removed]",
       "text": [
        "<matplotlib.figure.Figure at 0x7faf76699190>"
       ]
      }
     ],
     "prompt_number": 11
    },
    {
     "cell_type": "markdown",
     "metadata": {},
     "source": [
      "##### B. Using RidgeRegression model with polynomials"
     ]
    },
    {
     "cell_type": "code",
     "collapsed": false,
     "input": [
      "speed_squared = [ [x, y] for x,y in zip(cars['speed'].values, (cars['speed'].values)**2)]\n",
      "speed_squared"
     ],
     "language": "python",
     "metadata": {},
     "outputs": [
      {
       "metadata": {},
       "output_type": "pyout",
       "prompt_number": 15,
       "text": [
        "[[4, 16],\n",
        " [4, 16],\n",
        " [7, 49],\n",
        " [7, 49],\n",
        " [8, 64],\n",
        " [9, 81],\n",
        " [10, 100],\n",
        " [10, 100],\n",
        " [10, 100],\n",
        " [11, 121],\n",
        " [11, 121],\n",
        " [12, 144],\n",
        " [12, 144],\n",
        " [12, 144],\n",
        " [12, 144],\n",
        " [13, 169],\n",
        " [13, 169],\n",
        " [13, 169],\n",
        " [13, 169],\n",
        " [14, 196],\n",
        " [14, 196],\n",
        " [14, 196],\n",
        " [14, 196],\n",
        " [15, 225],\n",
        " [15, 225],\n",
        " [15, 225],\n",
        " [16, 256],\n",
        " [16, 256],\n",
        " [17, 289],\n",
        " [17, 289],\n",
        " [17, 289],\n",
        " [18, 324],\n",
        " [18, 324],\n",
        " [18, 324],\n",
        " [18, 324],\n",
        " [19, 361],\n",
        " [19, 361],\n",
        " [19, 361],\n",
        " [20, 400],\n",
        " [20, 400],\n",
        " [20, 400],\n",
        " [20, 400],\n",
        " [20, 400],\n",
        " [22, 484],\n",
        " [23, 529],\n",
        " [24, 576],\n",
        " [24, 576],\n",
        " [24, 576],\n",
        " [24, 576],\n",
        " [25, 625]]"
       ]
      }
     ],
     "prompt_number": 15
    },
    {
     "cell_type": "code",
     "collapsed": false,
     "input": [
      "ridge = linear_model.Ridge()\n",
      "ridge.fit(speed_squared, distance)"
     ],
     "language": "python",
     "metadata": {},
     "outputs": [
      {
       "metadata": {},
       "output_type": "pyout",
       "prompt_number": 16,
       "text": [
        "Ridge(alpha=1.0, copy_X=True, fit_intercept=True, max_iter=None,\n",
        "   normalize=False, solver='auto', tol=0.001)"
       ]
      }
     ],
     "prompt_number": 16
    },
    {
     "cell_type": "code",
     "collapsed": false,
     "input": [
      "((ridge.coef_[1] * cars['speed'])**2) + ((ridge.coef_[0] * cars['dist'])) + ridge.intercept_"
     ],
     "language": "python",
     "metadata": {},
     "outputs": [
      {
       "metadata": {},
       "output_type": "pyout",
       "prompt_number": 17,
       "text": [
        "0       4.538500\n",
        "1      11.716296\n",
        "2       6.666055\n",
        "3      22.816095\n",
        "4      17.584160\n",
        "5      12.372413\n",
        "6      19.741997\n",
        "7      26.919793\n",
        "8      34.097588\n",
        "9      19.056749\n",
        "10     28.926218\n",
        "11     16.597240\n",
        "12     21.980587\n",
        "13     25.569485\n",
        "14     29.158382\n",
        "15     27.616286\n",
        "16     34.794082\n",
        "17     34.794082\n",
        "18     45.560775\n",
        "19     27.888827\n",
        "20     36.861072\n",
        "21     58.394459\n",
        "22     76.338948\n",
        "23     22.798210\n",
        "24     28.181556\n",
        "25     53.303841\n",
        "26     33.877821\n",
        "27     41.055616\n",
        "28     34.210926\n",
        "29     41.388722\n",
        "30     50.360966\n",
        "31     43.536465\n",
        "32     56.097607\n",
        "33     74.042096\n",
        "34     81.219892\n",
        "35     38.526600\n",
        "36     47.498844\n",
        "37     67.237782\n",
        "38     35.331372\n",
        "39     49.686964\n",
        "40     53.275861\n",
        "41     56.864759\n",
        "42     64.042555\n",
        "43     66.684909\n",
        "44     56.372451\n",
        "45     71.202465\n",
        "46     90.941403\n",
        "47     91.838627\n",
        "48    116.063688\n",
        "49     85.155443\n",
        "dtype: float64"
       ]
      }
     ],
     "prompt_number": 17
    },
    {
     "cell_type": "code",
     "collapsed": false,
     "input": [
      "ridge.score(speed_squared, distance)"
     ],
     "language": "python",
     "metadata": {},
     "outputs": [
      {
       "metadata": {},
       "output_type": "pyout",
       "prompt_number": 21,
       "text": [
        "0.66733037517842875"
       ]
      }
     ],
     "prompt_number": 21
    },
    {
     "cell_type": "markdown",
     "metadata": {},
     "source": [
      "This score is superior to the simple linear model"
     ]
    },
    {
     "cell_type": "markdown",
     "metadata": {},
     "source": [
      "## 2. Predicting MPG"
     ]
    },
    {
     "cell_type": "code",
     "collapsed": false,
     "input": [
      "mpg = pd.read_csv(DATA_DIR + 'cars93.csv')\n",
      "mpg.head()"
     ],
     "language": "python",
     "metadata": {},
     "outputs": [
      {
       "html": [
        "<div style=\"max-height:1000px;max-width:1500px;overflow:auto;\">\n",
        "<table border=\"1\" class=\"dataframe\">\n",
        "  <thead>\n",
        "    <tr style=\"text-align: right;\">\n",
        "      <th></th>\n",
        "      <th>Manufacturer</th>\n",
        "      <th>Model</th>\n",
        "      <th>Type</th>\n",
        "      <th>Min.Price</th>\n",
        "      <th>Price</th>\n",
        "      <th>Max.Price</th>\n",
        "      <th>MPG.city</th>\n",
        "      <th>MPG.highway</th>\n",
        "      <th>AirBags</th>\n",
        "      <th>DriveTrain</th>\n",
        "      <th>...</th>\n",
        "      <th>Passengers</th>\n",
        "      <th>Length</th>\n",
        "      <th>Wheelbase</th>\n",
        "      <th>Width</th>\n",
        "      <th>Turn.circle</th>\n",
        "      <th>Rear.seat.room</th>\n",
        "      <th>Luggage.room</th>\n",
        "      <th>Weight</th>\n",
        "      <th>Origin</th>\n",
        "      <th>Make</th>\n",
        "    </tr>\n",
        "  </thead>\n",
        "  <tbody>\n",
        "    <tr>\n",
        "      <th>0</th>\n",
        "      <td> Acura</td>\n",
        "      <td> Integra</td>\n",
        "      <td>   Small</td>\n",
        "      <td> 12.9</td>\n",
        "      <td> 15.9</td>\n",
        "      <td> 18.8</td>\n",
        "      <td> 25</td>\n",
        "      <td> 31</td>\n",
        "      <td>               None</td>\n",
        "      <td> Front</td>\n",
        "      <td>...</td>\n",
        "      <td> 5</td>\n",
        "      <td> 177</td>\n",
        "      <td> 102</td>\n",
        "      <td> 68</td>\n",
        "      <td> 37</td>\n",
        "      <td> 26.5</td>\n",
        "      <td> 11</td>\n",
        "      <td> 2705</td>\n",
        "      <td> non-USA</td>\n",
        "      <td> Acura Integra</td>\n",
        "    </tr>\n",
        "    <tr>\n",
        "      <th>1</th>\n",
        "      <td> Acura</td>\n",
        "      <td>  Legend</td>\n",
        "      <td> Midsize</td>\n",
        "      <td> 29.2</td>\n",
        "      <td> 33.9</td>\n",
        "      <td> 38.7</td>\n",
        "      <td> 18</td>\n",
        "      <td> 25</td>\n",
        "      <td> Driver &amp; Passenger</td>\n",
        "      <td> Front</td>\n",
        "      <td>...</td>\n",
        "      <td> 5</td>\n",
        "      <td> 195</td>\n",
        "      <td> 115</td>\n",
        "      <td> 71</td>\n",
        "      <td> 38</td>\n",
        "      <td> 30.0</td>\n",
        "      <td> 15</td>\n",
        "      <td> 3560</td>\n",
        "      <td> non-USA</td>\n",
        "      <td>  Acura Legend</td>\n",
        "    </tr>\n",
        "    <tr>\n",
        "      <th>2</th>\n",
        "      <td>  Audi</td>\n",
        "      <td>      90</td>\n",
        "      <td> Compact</td>\n",
        "      <td> 25.9</td>\n",
        "      <td> 29.1</td>\n",
        "      <td> 32.3</td>\n",
        "      <td> 20</td>\n",
        "      <td> 26</td>\n",
        "      <td>        Driver only</td>\n",
        "      <td> Front</td>\n",
        "      <td>...</td>\n",
        "      <td> 5</td>\n",
        "      <td> 180</td>\n",
        "      <td> 102</td>\n",
        "      <td> 67</td>\n",
        "      <td> 37</td>\n",
        "      <td> 28.0</td>\n",
        "      <td> 14</td>\n",
        "      <td> 3375</td>\n",
        "      <td> non-USA</td>\n",
        "      <td>       Audi 90</td>\n",
        "    </tr>\n",
        "    <tr>\n",
        "      <th>3</th>\n",
        "      <td>  Audi</td>\n",
        "      <td>     100</td>\n",
        "      <td> Midsize</td>\n",
        "      <td> 30.8</td>\n",
        "      <td> 37.7</td>\n",
        "      <td> 44.6</td>\n",
        "      <td> 19</td>\n",
        "      <td> 26</td>\n",
        "      <td> Driver &amp; Passenger</td>\n",
        "      <td> Front</td>\n",
        "      <td>...</td>\n",
        "      <td> 6</td>\n",
        "      <td> 193</td>\n",
        "      <td> 106</td>\n",
        "      <td> 70</td>\n",
        "      <td> 37</td>\n",
        "      <td> 31.0</td>\n",
        "      <td> 17</td>\n",
        "      <td> 3405</td>\n",
        "      <td> non-USA</td>\n",
        "      <td>      Audi 100</td>\n",
        "    </tr>\n",
        "    <tr>\n",
        "      <th>4</th>\n",
        "      <td>   BMW</td>\n",
        "      <td>    535i</td>\n",
        "      <td> Midsize</td>\n",
        "      <td> 23.7</td>\n",
        "      <td> 30.0</td>\n",
        "      <td> 36.2</td>\n",
        "      <td> 22</td>\n",
        "      <td> 30</td>\n",
        "      <td>        Driver only</td>\n",
        "      <td>  Rear</td>\n",
        "      <td>...</td>\n",
        "      <td> 4</td>\n",
        "      <td> 186</td>\n",
        "      <td> 109</td>\n",
        "      <td> 69</td>\n",
        "      <td> 39</td>\n",
        "      <td> 27.0</td>\n",
        "      <td> 13</td>\n",
        "      <td> 3640</td>\n",
        "      <td> non-USA</td>\n",
        "      <td>      BMW 535i</td>\n",
        "    </tr>\n",
        "  </tbody>\n",
        "</table>\n",
        "<p>5 rows \u00d7 27 columns</p>\n",
        "</div>"
       ],
       "metadata": {},
       "output_type": "pyout",
       "prompt_number": 23,
       "text": [
        "  Manufacturer    Model     Type  Min.Price  Price  Max.Price  MPG.city  \\\n",
        "0        Acura  Integra    Small       12.9   15.9       18.8        25   \n",
        "1        Acura   Legend  Midsize       29.2   33.9       38.7        18   \n",
        "2         Audi       90  Compact       25.9   29.1       32.3        20   \n",
        "3         Audi      100  Midsize       30.8   37.7       44.6        19   \n",
        "4          BMW     535i  Midsize       23.7   30.0       36.2        22   \n",
        "\n",
        "   MPG.highway             AirBags DriveTrain    ...     Passengers  Length  \\\n",
        "0           31                None      Front    ...              5     177   \n",
        "1           25  Driver & Passenger      Front    ...              5     195   \n",
        "2           26         Driver only      Front    ...              5     180   \n",
        "3           26  Driver & Passenger      Front    ...              6     193   \n",
        "4           30         Driver only       Rear    ...              4     186   \n",
        "\n",
        "   Wheelbase  Width  Turn.circle Rear.seat.room  Luggage.room  Weight  \\\n",
        "0        102     68           37           26.5            11    2705   \n",
        "1        115     71           38           30.0            15    3560   \n",
        "2        102     67           37           28.0            14    3375   \n",
        "3        106     70           37           31.0            17    3405   \n",
        "4        109     69           39           27.0            13    3640   \n",
        "\n",
        "    Origin           Make  \n",
        "0  non-USA  Acura Integra  \n",
        "1  non-USA   Acura Legend  \n",
        "2  non-USA        Audi 90  \n",
        "3  non-USA       Audi 100  \n",
        "4  non-USA       BMW 535i  \n",
        "\n",
        "[5 rows x 27 columns]"
       ]
      }
     ],
     "prompt_number": 23
    },
    {
     "cell_type": "code",
     "collapsed": false,
     "input": [
      "from sklearn import feature_selection\n",
      "\n",
      "def f_regression_feature_selection(input, response):    \n",
      "    feature_selection.univariate_selection.f_regression(input, response)    "
     ],
     "language": "python",
     "metadata": {},
     "outputs": []
    },
    {
     "cell_type": "markdown",
     "metadata": {},
     "source": [
      "We want to use the p values from feature-selection that are as low as possible.  These are the more significant features\n",
      "\n",
      "... I've run out of time..."
     ]
    }
   ],
   "metadata": {}
  }
 ]
}