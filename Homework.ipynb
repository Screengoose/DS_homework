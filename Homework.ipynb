{
 "metadata": {
  "name": "",
  "signature": "sha256:e65210884c6ae847a5405a0c6bca0bc5e47206db099d37b2103eee8132be8878"
 },
 "nbformat": 3,
 "nbformat_minor": 0,
 "worksheets": [
  {
   "cells": [
    {
     "cell_type": "markdown",
     "metadata": {},
     "source": [
      "####Download all 30 NYT data sets:"
     ]
    },
    {
     "cell_type": "code",
     "collapsed": false,
     "input": [
      "for x in range(1,31):\n",
      "    !curl -O http://stat.columbia.edu/~rachel/datasets/nyt{x}.csv"
     ],
     "language": "python",
     "metadata": {},
     "outputs": [
      {
       "output_type": "stream",
       "stream": "stdout",
       "text": [
        "  % Total    % Received % Xferd  Average Speed   Time    Time     Time  Current\r\n",
        "                                 Dload  Upload   Total   Spent    Left  Speed\r\n",
        "\r",
        "  0     0    0     0    0     0      0      0 --:--:-- --:--:-- --:--:--     0"
       ]
      },
      {
       "output_type": "stream",
       "stream": "stdout",
       "text": [
        "\r",
        "  0     0    0     0    0     0      0      0 --:--:-- --:--:-- --:--:--     0"
       ]
      },
      {
       "output_type": "stream",
       "stream": "stdout",
       "text": [
        "\r",
        "  0     0    0     0    0     0      0      0 --:--:--  0:00:01 --:--:--     0"
       ]
      },
      {
       "output_type": "stream",
       "stream": "stdout",
       "text": [
        "\r",
        "  0 4805k    0  5208    0     0   1941      0  0:42:14  0:00:02  0:42:12  1941"
       ]
      },
      {
       "output_type": "stream",
       "stream": "stdout",
       "text": [
        "\r",
        "  0 4805k    0 17520    0     0   5293      0  0:15:29  0:00:03  0:15:26  5293"
       ]
      },
      {
       "output_type": "stream",
       "stream": "stdout",
       "text": [
        "\r",
        "  0 4805k    0 39408    0     0   8706      0  0:09:25  0:00:04  0:09:21  8705"
       ]
      },
      {
       "output_type": "stream",
       "stream": "stdout",
       "text": [
        "\r",
        "  1 4805k    1 55824    0     0  10476      0  0:07:49  0:00:05  0:07:44 11028"
       ]
      },
      {
       "output_type": "stream",
       "stream": "stdout",
       "text": [
        "\r",
        "  1 4805k    1 84552    0     0  13471      0  0:06:05  0:00:06  0:05:59 17811"
       ]
      },
      {
       "output_type": "stream",
       "stream": "stdout",
       "text": [
        "\r",
        "  2 4805k    2  121k    0     0  17020      0  0:04:49  "
       ]
      },
      {
       "output_type": "stream",
       "stream": "stdout",
       "text": [
        "0:00:07  0:04:42 25777"
       ]
      },
      {
       "output_type": "stream",
       "stream": "stdout",
       "text": [
        "\r",
        "  3 4805k    3  165k    0     0  20397      0  0:04:01  0:00:08  0:03:53 30400"
       ]
      },
      {
       "output_type": "stream",
       "stream": "stdout",
       "text": [
        "\r",
        "  4 4805k    4  228k    0     0  24901      0  0:03:17  0:00:09  0:03:08 39995"
       ]
      },
      {
       "output_type": "stream",
       "stream": "stdout",
       "text": [
        "\r",
        "  6 4805k    6  293k    0     0  29313      0  0:02:47  0:00:10  0:02:37 49669"
       ]
      },
      {
       "output_type": "stream",
       "stream": "stdout",
       "text": [
        "\r",
        "  8 4805k    8  427k    0     0  38733      0  0:02:07  0:00:11  0:01:56 70335"
       ]
      },
      {
       "output_type": "stream",
       "stream": "stdout",
       "text": [
        "\r",
        " 14 4805k   14  706k    0     0  58824      0  0:01:23  0:00:12  0:01:11  117k"
       ]
      },
      {
       "output_type": "stream",
       "stream": "stdout",
       "text": [
        "\r",
        " 25 4805k   25 1203k    0     0  91872      0  0:00:"
       ]
      },
      {
       "output_type": "stream",
       "stream": "stdout",
       "text": [
        "53  0:00:13  0:00:40  203k"
       ]
      },
      {
       "output_type": "stream",
       "stream": "stdout",
       "text": [
        "\r",
        " 35 4805k   35 1692k    0     0   118k      0  0:00:40  0:00:14  0:00:26  301k"
       ]
      },
      {
       "output_type": "stream",
       "stream": "stdout",
       "text": [
        "\r",
        " 48 4805k   48 2348k    0     0   154k      0  0:00:31  0:00:15  0:00:16  412k"
       ]
      },
      {
       "output_type": "stream",
       "stream": "stdout",
       "text": [
        "\r",
        " 58 4805k   58 2805k    0     0   171k      0  0:00:27  0:00:16  0:00:11  472k"
       ]
      },
      {
       "output_type": "stream",
       "stream": "stdout",
       "text": [
        "\r",
        " 63 4805k   63 3045k    0     0   175k      0  0:00:27  0:00:17  0:00:10  464k"
       ]
      },
      {
       "output_type": "stream",
       "stream": "stdout",
       "text": [
        "\r",
        " 69 4805k   69 3355k    0     0   182k      0  0:00:26  0:00:18  0:00:08  431k"
       ]
      },
      {
       "output_type": "stream",
       "stream": "stdout",
       "text": [
        "\r",
        " 75 4805k   75 3648k    0     0   187k      0  0:00:25  0:00:19  0:00:06  375k"
       ]
      },
      {
       "output_type": "stream",
       "stream": "stdout",
       "text": [
        "\r",
        " 79 4805k   79 3803k    0     0   187k      0  0:00:25  0:00:20  0:00:05  287k"
       ]
      },
      {
       "output_type": "stream",
       "stream": "stdout",
       "text": [
        "\r",
        " 82 4805k   82 3971k    0     0   185k      0  0:00:25  0:00:21  0:00:04  231k"
       ]
      },
      {
       "output_type": "stream",
       "stream": "stdout",
       "text": [
        "\r",
        " 86 4805k   86 4139k    0     0   184k      0  0:00:26  0:00:22  0:00:04  212k"
       ]
      },
      {
       "output_type": "stream",
       "stream": "stdout",
       "text": [
        "\r",
        " 88 4805k   88 4234k    0     0   181k      0  0:00:26  0:00:23  0:00:03  178k"
       ]
      },
      {
       "output_type": "stream",
       "stream": "stdout",
       "text": [
        "\r",
        " 89 4805k   89 4322k    0     0   177k      0  0:00:26  0:00:24  0:00:02  139k"
       ]
      },
      {
       "output_type": "stream",
       "stream": "stdout",
       "text": [
        "\r",
        " 92 4805k   92 4451k    0     0   175k      0  0:00:27  0:00:25  0:00:02  129k"
       ]
      },
      {
       "output_type": "stream",
       "stream": "stdout",
       "text": [
        "\r",
        " 95 4805k   95 4586k    0     0   174k      0  0:00:27  0:00:26  0:00:01  124k"
       ]
      },
      {
       "output_type": "stream",
       "stream": "stdout",
       "text": [
        "\r",
        " 97 4805k   97 4698k    0     0   171k      0  0:00:28  0:00:27  0:00:01  112k"
       ]
      },
      {
       "output_type": "stream",
       "stream": "stdout",
       "text": [
        "\r",
        "100 4805k  100 4805k    0     0   170k      0  0:00:28  0:00:28 --:--:--  116k\r\n"
       ]
      },
      {
       "output_type": "stream",
       "stream": "stdout",
       "text": [
        "  % Total    % Received % Xferd  Average Speed   Time    Time     Time  Current\r\n",
        "                                 Dload  Upload   Total   Spent    Left  Speed\r\n",
        "\r",
        "  0     0    0     0    0     0      0      0 --:--:-- --:--:-- --:--:--     0"
       ]
      },
      {
       "output_type": "stream",
       "stream": "stdout",
       "text": [
        "\r",
        "  0 4715k    0 12048    0     0  13058      0  0:06:09 --:--:--  0:06:09 13053"
       ]
      },
      {
       "output_type": "stream",
       "stream": "stdout",
       "text": [
        "\r",
        "  1 4715k    1 92760    0     0  46572      0  0:01:43  0:00:01  0:01:42 46566"
       ]
      },
      {
       "output_type": "stream",
       "stream": "stdout",
       "text": [
        "\r",
        "  7 4715k    7  347k    0     0   116k      0  0:00:40  0:00:02  0:00:38  116k"
       ]
      },
      {
       "output_type": "stream",
       "stream": "stdout",
       "text": [
        "\r",
        " 13 4715k   13  651k    0     0   165k      0  0:00:28  0:00:03  0:00:25  165k"
       ]
      },
      {
       "output_type": "stream",
       "stream": "stdout",
       "text": [
        "\r",
        " 20 4715k   20  954k    0     0   190k      0  0:00:24  0:00:05  0:00:19  190k"
       ]
      },
      {
       "output_type": "stream",
       "stream": "stdout",
       "text": [
        "\r",
        " 23 4715k   23 1116k    0     0   186k      0  0:00:25  0:00:05  0:00:20  218k"
       ]
      },
      {
       "output_type": "stream",
       "stream": "stdout",
       "text": [
        "\r",
        " 26 4715k   26 1240k    0     0   179k      0  0:00:26  0:00:06  0:00:20  233k"
       ]
      },
      {
       "output_type": "stream",
       "stream": "stdout",
       "text": [
        "\r",
        " 29 4715k   29 1381k    0     0   171k      0  0:00:27  0:00:08  0:00:19  203k"
       ]
      },
      {
       "output_type": "stream",
       "stream": "stdout",
       "text": [
        "\r",
        " 31 4715k   31 1505k    0     0   167k      0  0:00:28  0:00:08  0:00:20  169k"
       ]
      },
      {
       "output_type": "stream",
       "stream": "stdout",
       "text": [
        "\r",
        " 34 4715k   34 1632k    0     0   164k      0  0:00:28  0:00:09  0:00:19  138k"
       ]
      },
      {
       "output_type": "stream",
       "stream": "stdout",
       "text": [
        "\r",
        " 37 4715k   37 1791k    0     0   161k      0  0:00:29  0:00:11  0:00:18  132k"
       ]
      },
      {
       "output_type": "stream",
       "stream": "stdout",
       "text": [
        "\r",
        " 40 4715k   40 1908k    0     0   158k      0  0:00:29  0:00:12  0:00:17  131k"
       ]
      },
      {
       "output_type": "stream",
       "stream": "stdout",
       "text": [
        "\r",
        " 42 4715k   42 2015k    0     0   154k      0  0:00:30  0:00:13  0:00:17  127k"
       ]
      },
      {
       "output_type": "stream",
       "stream": "stdout",
       "text": [
        "\r",
        " 44 4715k   44 2105k    0     0   150k      0  0:00:31  0:00:13  0:00:18  120k"
       ]
      },
      {
       "output_type": "stream",
       "stream": "stdout",
       "text": [
        "\r",
        " 47 4715k   47 2220k    0     0   147k      0  0:00:32  0:00:15  0:00:17  114k"
       ]
      },
      {
       "output_type": "stream",
       "stream": "stdout",
       "text": [
        "\r",
        " 49 4715k   49 2349k    0     0   146k      0  0:00:32  0:00:16  0:00:16  113k"
       ]
      },
      {
       "output_type": "stream",
       "stream": "stdout",
       "text": [
        "\r",
        " 52 4715k   52 2475k    0     0   146k      0  0:00:32  0:00:16  0:00:16  115k"
       ]
      },
      {
       "output_type": "stream",
       "stream": "stdout",
       "text": [
        "\r",
        " 55 4715k   55 2620k    0     0   146k      0  0:00:32  0:00:17  0:00:15  123k"
       ]
      },
      {
       "output_type": "stream",
       "stream": "stdout",
       "text": [
        "\r",
        " 58 4715k   58 2762k    0     0   145k      0  0:00:32  0:00:19  0:00:13  129k"
       ]
      },
      {
       "output_type": "stream",
       "stream": "stdout",
       "text": [
        "\r",
        " 61 4715k   61 2889k    0     0   144k      0  0:00:32  0:00:19  0:00:13  136k"
       ]
      },
      {
       "output_type": "stream",
       "stream": "stdout",
       "text": [
        "\r",
        " 64 4715k   64 3029k    0     0   144k      "
       ]
      },
      {
       "output_type": "stream",
       "stream": "stdout",
       "text": [
        "0  0:00:32  0:00:20  0:00:12  137k"
       ]
      },
      {
       "output_type": "stream",
       "stream": "stdout",
       "text": [
        "\r",
        " 66 4715k   66 3153k    0     0   143k      0  0:00:32  0:00:21  0:00:11  136k"
       ]
      },
      {
       "output_type": "stream",
       "stream": "stdout",
       "text": [
        "\r",
        " 69 4715k   69 3282k    0     0   142k      0  0:00:33  0:00:23  0:00:10  128k"
       ]
      },
      {
       "output_type": "stream",
       "stream": "stdout",
       "text": [
        "\r",
        " 71 4715k   71 3391k    0     0   141k      0  0:00:33  0:00:23  0:00:10  129k"
       ]
      },
      {
       "output_type": "stream",
       "stream": "stdout",
       "text": [
        "\r",
        " 74 4715k   74 3515k    0     0   140k   "
       ]
      },
      {
       "output_type": "stream",
       "stream": "stdout",
       "text": [
        "   0  0:00:33  0:00:25  0:00:08  123k"
       ]
      },
      {
       "output_type": "stream",
       "stream": "stdout",
       "text": [
        "\r",
        " 76 4715k   76 3586k    0     0   137k      0  0:00:34  0:00:26  0:00:08  108k"
       ]
      },
      {
       "output_type": "stream",
       "stream": "stdout",
       "text": [
        "\r",
        " 78 4715k   78 3697k    0     0   136k      0  0:00:34  0:00:27  0:00:07  106k"
       ]
      },
      {
       "output_type": "stream",
       "stream": "stdout",
       "text": [
        "\r",
        " 80 4715k   80 3800k    0     0   136k      0  0:00:34  0:00:27  0:00:07  107k"
       ]
      },
      {
       "output_type": "stream",
       "stream": "stdout",
       "text": [
        "\r",
        " 82 4715k   82 3902k    0     0   134k      0  0:00:34  0:00:28  0:00:06  102k"
       ]
      },
      {
       "output_type": "stream",
       "stream": "stdout",
       "text": [
        "\r",
        " 85 4715k   85 4028k    0     0   133k      0  0:00:35  0:00:30  0:00:05  102k"
       ]
      },
      {
       "output_type": "stream",
       "stream": "stdout",
       "text": [
        "\r",
        " 87 4715k   87 4126k    0     0   133k      0  0:00:35  0:00:30  0:00:05  112k"
       ]
      },
      {
       "output_type": "stream",
       "stream": "stdout",
       "text": [
        "\r",
        " 90 4715k   90 4253k    0     0   132k      0  0:00:35  0:00:31  0:00:04  111k"
       ]
      },
      {
       "output_type": "stream",
       "stream": "stdout",
       "text": [
        "\r",
        " 92 4715k   92 4378k    0     0   132k      0  0:00:35  0:00:32  0:00:03  115k"
       ]
      },
      {
       "output_type": "stream",
       "stream": "stdout",
       "text": [
        "\r",
        " 95 4715k   95 4519k    0     0   133k      0  0:00:35  0:00:33  0:00:02  122k"
       ]
      },
      {
       "output_type": "stream",
       "stream": "stdout",
       "text": [
        "\r",
        "100 4715k  100 4715k    0     0   135k      0  0:00:34  0:00:34 --:--:--  142k\r\n"
       ]
      },
      {
       "output_type": "stream",
       "stream": "stdout",
       "text": [
        "  % Total    % Received % Xferd  Average Speed   Time    Time     Time  Current\r\n",
        "                                 Dload  Upload   Total   Spent    Left  Speed\r\n",
        "\r",
        "  0     0    0     0    0     0      0      0 --:--:-- --:--:-- --:--:--     0"
       ]
      },
      {
       "output_type": "stream",
       "stream": "stdout",
       "text": [
        "\r",
        "  0 4615k    0 12048    0     0  10709      0  0:07:21  0:00:01  0:07:20 10718"
       ]
      },
      {
       "output_type": "stream",
       "stream": "stdout",
       "text": [
        "\r",
        "  1 4615k    1 88656    0     0  45748      0  0:01:43  0:00:01  0:01:42 45746"
       ]
      },
      {
       "output_type": "stream",
       "stream": "stdout",
       "text": [
        "\r",
        "  5 4615k    5  273k    0     0  93139      0"
       ]
      },
      {
       "output_type": "stream",
       "stream": "stdout",
       "text": [
        "  0:00:50  0:00:03  0:00:47 93143"
       ]
      },
      {
       "output_type": "stream",
       "stream": "stdout",
       "text": [
        "\r",
        "  8 4615k    8  408k    0     0   103k      0  0:00:44  0:00:03  0:00:41  103k"
       ]
      },
      {
       "output_type": "stream",
       "stream": "stdout",
       "text": [
        "\r",
        " 15 4615k   15  709k    0     0   142k      0  0:00:32  0:00:04  0:00:28  142k"
       ]
      },
      {
       "output_type": "stream",
       "stream": "stdout",
       "text": [
        "\r",
        " 22 4615k   22 1056k    0     0   175k      0  0:00:26  0:00:06  0:00:20  214k"
       ]
      },
      {
       "output_type": "stream",
       "stream": "stdout",
       "text": [
        "\r",
        " 29 4615k   29 1361k    0     0   197k      0  0:00:23  0:00:06  0:00:17  256k"
       ]
      },
      {
       "output_type": "stream",
       "stream": "stdout",
       "text": [
        "\r",
        " 37 4615k   37 1721k    0     0   217k      0  0:00:21  0:00:07  0:00:14  295k"
       ]
      },
      {
       "output_type": "stream",
       "stream": "stdout",
       "text": [
        "\r",
        " 44 4615k   44 2070k    0     0   230k      0  0:00:20  0:00:08  0:00:12  331k"
       ]
      },
      {
       "output_type": "stream",
       "stream": "stdout",
       "text": [
        "\r",
        " 52 4615k   52 2439k    0     0   243k      0  0:00:18  0:00:10  0:00:08  341k"
       ]
      },
      {
       "output_type": "stream",
       "stream": "stdout",
       "text": [
        "\r",
        " 61 4615k   61 2823k    0     0   255k      0  0:00:18  0:00:11  0:00:07  350k"
       ]
      },
      {
       "output_type": "stream",
       "stream": "stdout",
       "text": [
        "\r",
        " 67 4615k   67 3095k    0     0   258k      0  0:00:17  0:00:11  0:00:06  341k"
       ]
      },
      {
       "output_type": "stream",
       "stream": "stdout",
       "text": [
        "\r",
        " 75 4615k   75 3471k    0     0   267k      0  0:00:17  0:00:12  0:00:05  343k"
       ]
      },
      {
       "output_type": "stream",
       "stream": "stdout",
       "text": [
        "\r",
        " 80 4615k   80 3732k    0     0   268k      0  0:00:17  0:00:13  0:00:04  337k"
       ]
      },
      {
       "output_type": "stream",
       "stream": "stdout",
       "text": [
        "\r",
        " 88 4615k   88 4099k    0     0   272k      0  0:00:16  0:00:15  0:00:01  332k"
       ]
      },
      {
       "output_type": "stream",
       "stream": "stdout",
       "text": [
        "\r",
        " 95 4615k   95 4407k    0     0   277k      0  0:00:16  0:00:15  0:00:01  325k"
       ]
      },
      {
       "output_type": "stream",
       "stream": "stdout",
       "text": [
        "\r",
        "100 4615k  100 4615k    0     0   281k      0  0:00:16  0:00:16 --:--:--  343k\r\n"
       ]
      },
      {
       "output_type": "stream",
       "stream": "stdout",
       "text": [
        "  % Total    % Received % Xferd  Average Speed   Time    Time     Time  Current\r\n",
        "                                 Dload  Upload   Total   Spent    Left  Speed\r\n",
        "\r",
        "  0     0    0     0    0     0      0      0 --:--:-- --:--:-- --:--:--     0"
       ]
      },
      {
       "output_type": "stream",
       "stream": "stdout",
       "text": [
        "\r",
        "  0     0    0     0    0     0      0      0 --:--:--  0:00:01 --:--:--     0"
       ]
      },
      {
       "output_type": "stream",
       "stream": "stdout",
       "text": [
        "\r",
        "  0 4640k    0  1104    0     0    698      0  1:53:28  0:00:01  1:53:27   698"
       ]
      },
      {
       "output_type": "stream",
       "stream": "stdout",
       "text": [
        "\r",
        "  0 4640k    0 22992    0     0   9695      0  0:08:10  0:00:02  0:08:08  9693"
       ]
      },
      {
       "output_type": "stream",
       "stream": "stdout",
       "text": [
        "\r",
        "  2 4640k    2 99600    0     0  29362      0  0:02:41  0:00:03  0:02:38 29354"
       ]
      },
      {
       "output_type": "stream",
       "stream": "stdout",
       "text": [
        "\r",
        "  9 4640k    9  420k    0     0  98570      0  0:00:48  0:00:04  0:00:44 98570"
       ]
      },
      {
       "output_type": "stream",
       "stream": "stdout",
       "text": [
        "\r",
        " 16 4640k   16  761k    0     0   141k      0  0:00:32  0:00:05  0:00:27  181k"
       ]
      },
      {
       "output_type": "stream",
       "stream": "stdout",
       "text": [
        "\r",
        " 30 4640k   30 1422k    0     0   223k      0  0:00:20  0:00:06  0:00:14  296k"
       ]
      },
      {
       "output_type": "stream",
       "stream": "stdout",
       "text": [
        "\r",
        " 38 4640k   38 1792k    0     0   242k      0  0:00:19  0:00:07  0:00:12  351k"
       ]
      },
      {
       "output_type": "stream",
       "stream": "stdout",
       "text": [
        "\r",
        " 45 4640k   45 2111k    0     0   252k      0  0:00:18  0:00:08  0:00:10  404k"
       ]
      },
      {
       "output_type": "stream",
       "stream": "stdout",
       "text": [
        "\r",
        " 53 4640k   53 2463k    0     0   262k      0  0:00:17  0:00:09  0:00:08  408k"
       ]
      },
      {
       "output_type": "stream",
       "stream": "stdout",
       "text": [
        "\r",
        " 61 4640k   61 2839k    0     0   272k      0  0:00:17  0:00:10  0:00:07  414k"
       ]
      },
      {
       "output_type": "stream",
       "stream": "stdout",
       "text": [
        "\r",
        " 69 4640k   69 3215k    0     0   282k      0  0:00:16  0:00:11  0:00:05  358k"
       ]
      },
      {
       "output_type": "stream",
       "stream": "stdout",
       "text": [
        "\r",
        " 78 4640k   78 3622k    0     0   292k      0  0:00:15  0:00:12  0:00:03  368k"
       ]
      },
      {
       "output_type": "stream",
       "stream": "stdout",
       "text": [
        "\r",
        " 85 4640k   85 3990k    0     0   298k      0  0:00:15  0:00:13  0:00:02  375k"
       ]
      },
      {
       "output_type": "stream",
       "stream": "stdout",
       "text": [
        "\r",
        " 95 4640k   95 4429k    0     0   305k      0  0:00:15  0:00:14  0:00:01  383k"
       ]
      },
      {
       "output_type": "stream",
       "stream": "stdout",
       "text": [
        "\r",
        "100 4640k  100 4640k    0     0   311k      0  0:00:14  0:00:14 --:--:--  402k\r\n"
       ]
      },
      {
       "output_type": "stream",
       "stream": "stdout",
       "text": [
        "  % Total    % Received % Xferd  Average Speed   Time    Time     Time  Current\r\n",
        "                                 Dload  Upload   Total   Spent    Left  Speed\r\n",
        "\r",
        "  0     0    0     0    0     0      0      0 --:--:-- --:--:-- --:--:--     0"
       ]
      },
      {
       "output_type": "stream",
       "stream": "stdout",
       "text": [
        "\r",
        "  0 3880k    0  1104    0     0   1815      0  0:36:29 --:--:--  0:36:29  1812"
       ]
      },
      {
       "output_type": "stream",
       "stream": "stdout",
       "text": [
        "\r",
        "  0 3880k    0 22992    0     0  14436      0  0:04:35  0:00:01  0:04:34 14433"
       ]
      },
      {
       "output_type": "stream",
       "stream": "stdout",
       "text": [
        "\r",
        "  3 3880k    3  150k    0     0  60871      0  0:01:05  0:00:02  0:01:03 60851"
       ]
      },
      {
       "output_type": "stream",
       "stream": "stdout",
       "text": [
        "\r",
        " 13 3880k   13  522k    0     0   154k      0  0:00:25  0:00:03  0:00:22  154k"
       ]
      },
      {
       "output_type": "stream",
       "stream": "stdout",
       "text": [
        "\r",
        " 28 3880k   28 1112k    0     0   237k      0  0:00:16  0:00:04  0:00:12  237k"
       ]
      },
      {
       "output_type": "stream",
       "stream": "stdout",
       "text": [
        "\r",
        " 41 3880k   41 1593k    0     0   288k      0  0:00:13  0:00:05  0:00:08  323k"
       ]
      },
      {
       "output_type": "stream",
       "stream": "stdout",
       "text": [
        "\r",
        " 51 3880k   51 1983k    0     0   310k      0  0:00:12  0:00:06  0:00:06  409k"
       ]
      },
      {
       "output_type": "stream",
       "stream": "stdout",
       "text": [
        "\r",
        " 59 3880k   59 2293k    0     0   311k      0  0:00:12  0:00:07  0:00:05  442k"
       ]
      },
      {
       "output_type": "stream",
       "stream": "stdout",
       "text": [
        "\r",
        " 68 3880k   68 2670k    0     0   316k      0  0:00:12  0:00:08  0:00:04  424k"
       ]
      },
      {
       "output_type": "stream",
       "stream": "stdout",
       "text": [
        "\r",
        " 76 3880k   76 2950k    0     0   304k      0  0:00:12  0:00:09  0:00:03  366k"
       ]
      },
      {
       "output_type": "stream",
       "stream": "stdout",
       "text": [
        "\r",
        " 84 3880k   84 3262k    0     0   309k      0  0:00:12  0:00:10  0:00:02  333k"
       ]
      },
      {
       "output_type": "stream",
       "stream": "stdout",
       "text": [
        "\r",
        " 89 3880k   89 3454k    0     0   303k      0  0:00:12  0:00:11  0:00:01  295k"
       ]
      },
      {
       "output_type": "stream",
       "stream": "stdout",
       "text": [
        "\r",
        " 95 3880k   95 3702k    0     0   297k      0  0:00:13  0:00:12  0:00:01  277k"
       ]
      },
      {
       "output_type": "stream",
       "stream": "stdout",
       "text": [
        "\r",
        "100 3880k  100 3880k    0     0   297k      0  0:00:13  0:00:13 --:--:--  262k\r\n"
       ]
      },
      {
       "output_type": "stream",
       "stream": "stdout",
       "text": [
        "  % Total    % Received % Xferd  Average Speed   Time    Time     Time  Current\r\n",
        "                                 Dload  Upload   Total   Spent    Left  Speed\r\n",
        "\r",
        "  0     0    0     0    0     0      0      0 --:--:-- --:--:-- --:--:--     0"
       ]
      },
      {
       "output_type": "stream",
       "stream": "stdout",
       "text": [
        "\r",
        "  0     0    0     0    0     0      0      0 --:--:-- --:--:-- --:--:--     0"
       ]
      },
      {
       "output_type": "stream",
       "stream": "stdout",
       "text": [
        "\r",
        "  0     0    0     0    0     0      0      0 --:--:--  0:00:01 --:--:--     0"
       ]
      },
      {
       "output_type": "stream",
       "stream": "stdout",
       "text": [
        "\r",
        "  0 8012k    0 22992    0     0   9472      0  0:14:26  0:00:02  0:14:24  9469"
       ]
      },
      {
       "output_type": "stream",
       "stream": "stdout",
       "text": [
        "\r",
        "  1 8012k    1  133k    0     0  42636      0  0:03:12  0:00:03  0:03:09 42627"
       ]
      },
      {
       "output_type": "stream",
       "stream": "stdout",
       "text": [
        "\r",
        "  4 8012k    4  375k    0     0  85905      0  0:01:35  0:00:04  0:01:31 85899"
       ]
      },
      {
       "output_type": "stream",
       "stream": "stdout",
       "text": [
        "\r",
        "  7 8012k    7  567k    0     0   102k      0  0:01:17  0:00:05  0:01:12  106k"
       ]
      },
      {
       "output_type": "stream",
       "stream": "stdout",
       "text": [
        "\r",
        "  9 8012k    9  779k    0     0   122k      0  0:01:05  0:00:06  0:00:59  150k"
       ]
      },
      {
       "output_type": "stream",
       "stream": "stdout",
       "text": [
        "\r",
        " 11 8012k   11  894k    0     0   123k      0  0:01:04  0:00:07  0:00:57  182k"
       ]
      },
      {
       "output_type": "stream",
       "stream": "stdout",
       "text": [
        "\r",
        " 14 8012k   14 1196k    0     0   145k      0  0:00:54  0:00:08  0:00:46  212k"
       ]
      },
      {
       "output_type": "stream",
       "stream": "stdout",
       "text": [
        "\r",
        " 16 8012k   16 1355k    0     0   144k      0  0:00:55  0:00:09  0:00:46  199k"
       ]
      },
      {
       "output_type": "stream",
       "stream": "stdout",
       "text": [
        "\r",
        " 18 8012k   18 1487k    0     0   144k      0  0:00:55  0:00:10  0:00:45  192k"
       ]
      },
      {
       "output_type": "stream",
       "stream": "stdout",
       "text": [
        "\r",
        " 20 8012k   20 1616k    0     0   143k      0  0:00:55  0:00:11  0:00:44  171k"
       ]
      },
      {
       "output_type": "stream",
       "stream": "stdout",
       "text": [
        "\r",
        " 21 8012k   21 1743k    0     0   142k      0  0:00:56  0:00:12  0:00:44  170k"
       ]
      },
      {
       "output_type": "stream",
       "stream": "stdout",
       "text": [
        "\r",
        " 23 8012k   23 1911k    0     0   143k      0  0:00:55  0:00:13  0:00:42  138k"
       ]
      },
      {
       "output_type": "stream",
       "stream": "stdout",
       "text": [
        "\r",
        " 25 8012k   25 2041k    0     0   143k      0  0:00:55  0:00:14  0:00:41  142k"
       ]
      },
      {
       "output_type": "stream",
       "stream": "stdout",
       "text": [
        "\r",
        " 27 8012k   27 2196k    0     0   144k      0  0:00:55  0:00:15  0:00:40  144k"
       ]
      },
      {
       "output_type": "stream",
       "stream": "stdout",
       "text": [
        "\r",
        " 29 8012k   29 2388k    0     0   146k      0  0:00:54  0:00:16  0:00:38  154k"
       ]
      },
      {
       "output_type": "stream",
       "stream": "stdout",
       "text": [
        "\r",
        " 30 8012k   30 2463k    0     0   142k      0  0:00:56  0:00:17  0:00:39  141k"
       ]
      },
      {
       "output_type": "stream",
       "stream": "stdout",
       "text": [
        "\r",
        " 32 8012k   32 2587k    0     0   142k      0  0:00:56  0:00:18  0:00:38  138k"
       ]
      },
      {
       "output_type": "stream",
       "stream": "stdout",
       "text": [
        "\r",
        " 33 8012k   33 2709k    0     0   141k      0  0:00:56  0:00:19  0:00:37  133k"
       ]
      },
      {
       "output_type": "stream",
       "stream": "stdout",
       "text": [
        "\r",
        " 35 8012k   35 2880k    0     0   140k      0  0:00:56  0:00:20  0:00:36  130k"
       ]
      },
      {
       "output_type": "stream",
       "stream": "stdout",
       "text": [
        "\r",
        " 37 8012k   37 3001k    0     0   141k      0  0:00:56  0:00:21  0:00:35  122k"
       ]
      },
      {
       "output_type": "stream",
       "stream": "stdout",
       "text": [
        "\r",
        " 39 8012k   39 3171k    0     0   141k      0  0:00:56  0:00:22  0:00:34  140k"
       ]
      },
      {
       "output_type": "stream",
       "stream": "stdout",
       "text": [
        "\r",
        " 41 8012k   41 3307k    0     0   142k      0  0:00:56  0:00:23  0:00:33  142k"
       ]
      },
      {
       "output_type": "stream",
       "stream": "stdout",
       "text": [
        "\r",
        " 42 8012k   42 3430k    0     0   141k      0  0:00:56  0:00:24  0:00:32  141k"
       ]
      },
      {
       "output_type": "stream",
       "stream": "stdout",
       "text": [
        "\r",
        " 44 8012k   44 3552k    0     0   140k      0  0:00:57  0:00:25  0:00:32  136k"
       ]
      },
      {
       "output_type": "stream",
       "stream": "stdout",
       "text": [
        "\r",
        " 45 8012k   45 3628k    0     0   138k      0  0:00:57  0:00:26  0:00:31"
       ]
      },
      {
       "output_type": "stream",
       "stream": "stdout",
       "text": [
        "  127k"
       ]
      },
      {
       "output_type": "stream",
       "stream": "stdout",
       "text": [
        "\r",
        " 47 8012k   47 3784k    0     0   138k      0  0:00:57  0:00:27  0:00:30  123k"
       ]
      },
      {
       "output_type": "stream",
       "stream": "stdout",
       "text": [
        "\r",
        " 49 8012k   49 3951k    0     0   139k      0  0:00:57  0:00:28  0:00:29  128k"
       ]
      },
      {
       "output_type": "stream",
       "stream": "stdout",
       "text": [
        "\r",
        " 50 8012k   50 4070k    0     0   138k      0  0:00:57  0:00:29  0:00:28  127k"
       ]
      },
      {
       "output_type": "stream",
       "stream": "stdout",
       "text": [
        "\r",
        " 52 8012k   52 4202k    0     0   138k      0  0:00:57  0:00:30  0:00:27  132k"
       ]
      },
      {
       "output_type": "stream",
       "stream": "stdout",
       "text": [
        "\r",
        " 54 8012k   54 4381k    0     0   140k      0  0:00:57  0:00:31  0:00:26  150k"
       ]
      },
      {
       "output_type": "stream",
       "stream": "stdout",
       "text": [
        "\r",
        " 58 8012k   58 4658k    0     0   144k      0  0:00:55  0:00:"
       ]
      },
      {
       "output_type": "stream",
       "stream": "stdout",
       "text": [
        "32  0:00:23  177k"
       ]
      },
      {
       "output_type": "stream",
       "stream": "stdout",
       "text": [
        "\r",
        " 61 8012k   61 4902k    0     0   147k      0  0:00:54  0:00:33  0:00:21  188k"
       ]
      },
      {
       "output_type": "stream",
       "stream": "stdout",
       "text": [
        "\r",
        " 64 8012k   64 5133k    0     0   149k      0  0:00:53  0:00:34  0:00:19  207k"
       ]
      },
      {
       "output_type": "stream",
       "stream": "stdout",
       "text": [
        "\r",
        " 65 8012k   65 5255k    0     0   148k      0  0:00:53  0:00:35  0:00:18  205k"
       ]
      },
      {
       "output_type": "stream",
       "stream": "stdout",
       "text": [
        "\r",
        " 67 8012k   67 5383k    0     0   148k      0  0:00:54  0:00:36  0:00:18  196k"
       ]
      },
      {
       "output_type": "stream",
       "stream": "stdout",
       "text": [
        "\r",
        " 69 8012k   69 5531k    0     0   148"
       ]
      },
      {
       "output_type": "stream",
       "stream": "stdout",
       "text": [
        "k      0  0:00:53  0:00:37  0:00:16  174k"
       ]
      },
      {
       "output_type": "stream",
       "stream": "stdout",
       "text": [
        "\r",
        " 71 8012k   71 5693k    0     0   148k      0  0:00:53  0:00:38  0:00:15  158k"
       ]
      },
      {
       "output_type": "stream",
       "stream": "stdout",
       "text": [
        "\r",
        " 73 8012k   73 5863k    0     0   149k      0  0:00:53  0:00:39  0:00:14  151k"
       ]
      },
      {
       "output_type": "stream",
       "stream": "stdout",
       "text": [
        "\r",
        " 76 8012k   76 6115k    0     0   151k      0  0:00:52  0:00:40  0:00:12  175k"
       ]
      },
      {
       "output_type": "stream",
       "stream": "stdout",
       "text": [
        "\r",
        " 79 8012k   79 6368k    0     0   153k      0  0:00:52  0:00:41  0:00:11  192k"
       ]
      },
      {
       "output_type": "stream",
       "stream": "stdout",
       "text": [
        "\r",
        " 81 8012k   81 6551k    0     0   155k      0  0:00:51  0:00:42  0:0"
       ]
      },
      {
       "output_type": "stream",
       "stream": "stdout",
       "text": [
        "0:09  206k"
       ]
      },
      {
       "output_type": "stream",
       "stream": "stdout",
       "text": [
        "\r",
        " 83 8012k   83 6714k    0     0   154k      0  0:00:51  0:00:43  0:00:08  198k"
       ]
      },
      {
       "output_type": "stream",
       "stream": "stdout",
       "text": [
        "\r",
        " 85 8012k   85 6846k    0     0   153k      0  0:00:52  0:00:44  0:00:08  188k"
       ]
      },
      {
       "output_type": "stream",
       "stream": "stdout",
       "text": [
        "\r",
        " 86 8012k   86 6962k    0     0   153k      0  0:00:52  0:00:45  0:00:07  168k"
       ]
      },
      {
       "output_type": "stream",
       "stream": "stdout",
       "text": [
        "\r",
        " 88 8012k   88 7093k    0     0   153k      0  0:00:52  0:00:46  0:00:06  150k"
       ]
      },
      {
       "output_type": "stream",
       "stream": "stdout",
       "text": [
        "\r",
        " 90 8012k   90 7255k    0     0   153k      0  0:00:52  0:00:47  0:00:05  138k"
       ]
      },
      {
       "output_type": "stream",
       "stream": "stdout",
       "text": [
        "\r",
        " 92 8012k   92 7426k    0     0   153k      0  0:00:52  0:00:48  0:00:04  145k"
       ]
      },
      {
       "output_type": "stream",
       "stream": "stdout",
       "text": [
        "\r",
        " 94 8012k   94 7593k    0     0   153k      0  0:00:52  0:00:49  0:00:03  154k"
       ]
      },
      {
       "output_type": "stream",
       "stream": "stdout",
       "text": [
        "\r",
        " 96 8012k   96 7758k    0     0   154k      0  0:00:51  0:00:50  0:00:01  159k"
       ]
      },
      {
       "output_type": "stream",
       "stream": "stdout",
       "text": [
        "\r",
        " 98 8012k   98 7884k    0     0   153k      0  0:00:52  0:00:51  0:00:01  155k"
       ]
      },
      {
       "output_type": "stream",
       "stream": "stdout",
       "text": [
        "\r",
        "100 8012k  100 8012k    0     0   153k      0  0:00:52  0:00:52 --:--:--  160k\r\n"
       ]
      },
      {
       "output_type": "stream",
       "stream": "stdout",
       "text": [
        "  % Total    % Received % Xferd  Average Speed   Time    Time     Time  Current\r\n",
        "                                 Dload  Upload   Total   Spent    Left  Speed\r\n",
        "\r",
        "  0     0    0     0    0     0      0      0 --:--:-- --:--:-- --:--:--     0"
       ]
      },
      {
       "output_type": "stream",
       "stream": "stdout",
       "text": [
        "\r",
        "  0     0    0     0    0     0      0      0 --:--:-- --:--:-- --:--:--     0"
       ]
      },
      {
       "output_type": "stream",
       "stream": "stdout",
       "text": [
        "\r",
        "  0     0    0     0    0     0      0      0 --:--:--  0:00:01 --:--:--     0"
       ]
      },
      {
       "output_type": "stream",
       "stream": "stdout",
       "text": [
        "\r",
        "  0     0    0     0    0     0      0      0 --:--:--  0:00:02 --:--:--     0"
       ]
      },
      {
       "output_type": "stream",
       "stream": "stdout",
       "text": [
        "\r",
        "  0 4742k    0  1104    0     0    347      0  3:53:14  0:00:03  3:53:11   347"
       ]
      },
      {
       "output_type": "stream",
       "stream": "stdout",
       "text": [
        "\r",
        "  0 4742k    0 33936    0     0   8339      0  0:09:42"
       ]
      },
      {
       "output_type": "stream",
       "stream": "stdout",
       "text": [
        "  0:00:04  0:09:38  8338"
       ]
      },
      {
       "output_type": "stream",
       "stream": "stdout",
       "text": [
        "\r",
        "  1 4742k    1 64032    0     0  12518      0  0:06:27  0:00:05  0:06:22 12694"
       ]
      },
      {
       "output_type": "stream",
       "stream": "stdout",
       "text": [
        "\r",
        "  3 4742k    3  189k    0     0  31866      0  0:02:32  0:00:06  0:02:26 42598"
       ]
      },
      {
       "output_type": "stream",
       "stream": "stdout",
       "text": [
        "\r",
        "  5 4742k    5  266k    0     0  38131      0  0:02:07  0:00:07  0:02:00 61715"
       ]
      },
      {
       "output_type": "stream",
       "stream": "stdout",
       "text": [
        "\r",
        "  6 4742k    6  297k    0     0  36121      0  0:02:14  0:00:08  0:02:06 57682"
       ]
      },
      {
       "output_type": "stream",
       "stream": "stdout",
       "text": [
        "\r",
        "  6 4742k    6  300k    0     0  31539      0  0:02:33  0:00:09  0:02:24 48160"
       ]
      },
      {
       "output_type": "stream",
       "stream": "stdout",
       "text": [
        "\r",
        "  6 4742k    6  301k    0     0  30199      0  0:02:40  0:00:10  0:02:30 47892"
       ]
      },
      {
       "output_type": "stream",
       "stream": "stdout",
       "text": [
        "\r",
        "  6 4742k    6  301k    0     0  27498      0  0:02:56  0:00:11  0:02:45 22334"
       ]
      },
      {
       "output_type": "stream",
       "stream": "stdout",
       "text": [
        "\r",
        "  6 4742k    6  301k    0     0  25241      0  0:03:12  0:00:12  0:03:00  7016"
       ]
      },
      {
       "output_type": "stream",
       "stream": "stdout",
       "text": [
        "\r",
        "  6 4742k    6  301k    0     0  23326      0  0:03:28  0:00:13  0:03:15   854"
       ]
      },
      {
       "output_type": "stream",
       "stream": "stdout",
       "text": [
        "\r",
        "  6 4742k    6  301k    0     0  21682      0  0:03:43  0:00:14  0:03:29   304"
       ]
      },
      {
       "output_type": "stream",
       "stream": "stdout",
       "text": [
        "\r",
        "  6 4742k    6  301k    0     0  20254      0  0:03:59  0:00:15  0:03:44     0"
       ]
      },
      {
       "output_type": "stream",
       "stream": "stdout",
       "text": [
        "\r",
        "  6 4742k    6  301k    0     0  19002      0  0:04:15  0:00:16  0:03:59     0"
       ]
      },
      {
       "output_type": "stream",
       "stream": "stdout",
       "text": [
        "\r",
        "  6 4742k    6  301k    0     0  17897      0  0:04:31  0:00:17  0:04:14     0"
       ]
      },
      {
       "output_type": "stream",
       "stream": "stdout",
       "text": [
        "\r",
        "  6 4742k    6  301k    0     0  16913      0  0:04:47  0:00:18  0:04:29     0"
       ]
      },
      {
       "output_type": "stream",
       "stream": "stdout",
       "text": [
        "\r",
        "  6 4742k    6  301k    0     0  16031      0  0:05:02  0:00:19  0:04:43     0"
       ]
      },
      {
       "output_type": "stream",
       "stream": "stdout",
       "text": [
        "\r",
        "  6 4742k    6  304k    0     0  15514      0  0:05:13  0:00:20  0:04:53   565"
       ]
      },
      {
       "output_type": "stream",
       "stream": "stdout",
       "text": [
        "\r",
        "  6 4742k    6  319k    0     0  15488      0  0:05:13  0:00:21  0:04:52  3676"
       ]
      },
      {
       "output_type": "stream",
       "stream": "stdout",
       "text": [
        "\r",
        "  8 4742k    8  381k    0     0  17679      0  0:04:34  0:00:22  0:04:12 16902"
       ]
      },
      {
       "output_type": "stream",
       "stream": "stdout",
       "text": [
        "\r",
        " 11 4742k   11  522k    0     0  23122      0  0:03:30  0:00:23  0:03:07 46463"
       ]
      },
      {
       "output_type": "stream",
       "stream": "stdout",
       "text": [
        "\r",
        " 16 4742k   16  775k    0     0  32716      0  0:02:28  0:00:24  0:02:04 96798"
       ]
      },
      {
       "output_type": "stream",
       "stream": "stdout",
       "text": [
        "\r",
        " 21 4742k   21 1012k    0     0  41386      0  0:01:57  0:00:25  0:01:32  142k"
       ]
      },
      {
       "output_type": "stream",
       "stream": "stdout",
       "text": [
        "\r",
        " 32 4742k   32 1522k    0     0  59604      0  0:01:21  0:00:26  0:00:55  237k"
       ]
      },
      {
       "output_type": "stream",
       "stream": "stdout",
       "text": [
        "\r",
        " 44 4742k   44 2106k    0     0  79694      0  0:01:00  0:00:27  0:00:33  348k"
       ]
      },
      {
       "output_type": "stream",
       "stream": "stdout",
       "text": [
        "\r",
        " 50 4742k   50 2413k    0     0  87973      0  0:00:55  0:00:28  0:00:27  380k"
       ]
      },
      {
       "output_type": "stream",
       "stream": "stdout",
       "text": [
        "\r",
        " 60 4742k   60 2882k    0     0    99k      0  0:00:47  0:00:29  0:00:18  442k"
       ]
      },
      {
       "output_type": "stream",
       "stream": "stdout",
       "text": [
        "\r",
        " 69 4742k   69 3274k    0     0   108k      0  0:00:43  0:00:30  0:00:13  442k"
       ]
      },
      {
       "output_type": "stream",
       "stream": "stdout",
       "text": [
        "\r",
        " 78 4742k   78 3717k    0     0   119k      0  0:00:39  0:00:31  0:00:08  432k"
       ]
      },
      {
       "output_type": "stream",
       "stream": "stdout",
       "text": [
        "\r",
        " 86 4742k   86 4087k    0     0   127k      0  0:00:37  0:00:32  0:00:05  398k"
       ]
      },
      {
       "output_type": "stream",
       "stream": "stdout",
       "text": [
        "\r",
        " 94 4742k   94 4468k    0     0   134k      0  0:00:35  0:00:33  0:00:02  406k"
       ]
      },
      {
       "output_type": "stream",
       "stream": "stdout",
       "text": [
        "\r",
        " 97 4742k   97 4626k    0     0   135k      0  0:00:34  0:00:34 --:--:--  345k"
       ]
      },
      {
       "output_type": "stream",
       "stream": "stdout",
       "text": [
        "\r",
        " 99 4742k   99 4727k    0     0   134k      0  0:00:35  0:00:35 --:--:--  293k"
       ]
      },
      {
       "output_type": "stream",
       "stream": "stdout",
       "text": [
        "\r",
        " 99 4742k   99 4730k    0     0   131k      0  0:00:36  0:00:36 --:--:--  209k"
       ]
      },
      {
       "output_type": "stream",
       "stream": "stdout",
       "text": [
        "\r",
        " 99 4742k   99 4736k    0     0   127k      0  0:00:37  0:00:37 --:--:--  124k"
       ]
      },
      {
       "output_type": "stream",
       "stream": "stdout",
       "text": [
        "\r",
        " 99 4742k   99 4740k    0     0   123k      0  0:00:38  0:00:38 --:--:-- 54241"
       ]
      },
      {
       "output_type": "stream",
       "stream": "stdout",
       "text": [
        "\r",
        "100 4742k  100 4742k    0     0   122k      0  0:00:38  0:00:38 --:--:-- 25833\r\n"
       ]
      },
      {
       "output_type": "stream",
       "stream": "stdout",
       "text": [
        "  % Total    % Received % Xferd  Average Speed   Time    Time     Time  Current\r\n",
        "                                 Dload  Upload   Total   Spent    Left  Speed\r\n",
        "\r",
        "  0     0    0     0    0     0      0      0 --:--:-- --:--:-- --:--:--     0"
       ]
      },
      {
       "output_type": "stream",
       "stream": "stdout",
       "text": [
        "\r",
        "  0     0    0     0    0     0      0      0 --:--:-- --:--:-- --:--:--     0"
       ]
      },
      {
       "output_type": "stream",
       "stream": "stdout",
       "text": [
        "\r",
        "  0 4853k    0 22992    0     0  17513      0  0:04:43  0:00:01  0:04:42 17511"
       ]
      },
      {
       "output_type": "stream",
       "stream": "stdout",
       "text": [
        "\r",
        "  3 4853k    3  168k    0     0  75129      0  0:01:06  0:00:02  0:01:04 75121"
       ]
      },
      {
       "output_type": "stream",
       "stream": "stdout",
       "text": [
        "\r",
        " 12 4853k   12  620k    0     0   188k      0  0:00:25  0:00:03  0:00:22  188k"
       ]
      },
      {
       "output_type": "stream",
       "stream": "stdout",
       "text": [
        "\r",
        " 25 4853k   25 1258k    0     0   289k      0  0:00:16  0:00:04  0:00:12  289k"
       ]
      },
      {
       "output_type": "stream",
       "stream": "stdout",
       "text": [
        "\r",
        " 36 4853k   36 1795k    0     0   343k      0  0:00:14  0:00:05  0:00:09  365k"
       ]
      },
      {
       "output_type": "stream",
       "stream": "stdout",
       "text": [
        "\r",
        " 47 4853k   47 2316k    0     0   371k      0  0:00:13  0:00:06  0:00:07  466k"
       ]
      },
      {
       "output_type": "stream",
       "stream": "stdout",
       "text": [
        "\r",
        " 58 4853k   58 2817k    0     0   389k      0  0:00:12  0:00:07  0:00:05  536k"
       ]
      },
      {
       "output_type": "stream",
       "stream": "stdout",
       "text": [
        "\r",
        " 69 4853k   69 3386k    0     0   411k      0  0:00:11  0:00:08  0:00:03  561k"
       ]
      },
      {
       "output_type": "stream",
       "stream": "stdout",
       "text": [
        "\r",
        " 78 4853k   78 3823k    0     0   414k      0  0:00:11  0:00:09  0:00:02  525k"
       ]
      },
      {
       "output_type": "stream",
       "stream": "stdout",
       "text": [
        "\r",
        " 89 4853k   89 4325k    0     0   422k      0  0:00:11  0:00:10  0:00:01  505k"
       ]
      },
      {
       "output_type": "stream",
       "stream": "stdout",
       "text": [
        "\r",
        " 98 4853k   98 4785k    0     0   425k      0  0:00:11  0:00:11 --:--:--  493k"
       ]
      },
      {
       "output_type": "stream",
       "stream": "stdout",
       "text": [
        "\r",
        "100 4853k  100 4853k    0     0   429k      0  0:00:11  0:00:11 --:--:--  499k\r\n"
       ]
      },
      {
       "output_type": "stream",
       "stream": "stdout",
       "text": [
        "  % Total    % Received % Xferd  Average Speed   Time    Time     Time  Current\r\n",
        "                                 Dload  Upload   Total   Spent    Left  Speed\r\n",
        "\r",
        "  0     0    0     0    0     0      0      0 --:--:-- --:--:-- --:--:--     0"
       ]
      },
      {
       "output_type": "stream",
       "stream": "stdout",
       "text": [
        "\r",
        "  0 4815k    0  5208    0     0   5315      0  0:15:27 --:--:--  0:15:27  5314"
       ]
      },
      {
       "output_type": "stream",
       "stream": "stdout",
       "text": [
        "\r",
        "  0 4815k    0 36672    0     0  20264      0  0:04:03  0:00:01  0:04:02 20260"
       ]
      },
      {
       "output_type": "stream",
       "stream": "stdout",
       "text": [
        "\r",
        "  4 4815k    4  240k    0     0  86188      0  0:00:57  0:00:02  0:00:55 86186"
       ]
      },
      {
       "output_type": "stream",
       "stream": "stdout",
       "text": [
        "\r",
        " 15 4815k   15  739k    0     0   186k      0  0:00:25  0:00:03  0:00:22  186k"
       ]
      },
      {
       "output_type": "stream",
       "stream": "stdout",
       "text": [
        "\r",
        " 20 4815k   20 1009k    0     0   210k      0  0:00:22  0:00:04  0:00:18  210k"
       ]
      },
      {
       "output_type": "stream",
       "stream": "stdout",
       "text": [
        "\r",
        " 31 4815k   31 1506k    0     0   251k      0  0:00:19  0:00:05  0:00:14  299k"
       ]
      },
      {
       "output_type": "stream",
       "stream": "stdout",
       "text": [
        "\r",
        " 40 4815k   40 1928k    0     0   282k      0  0:00:17  0:00:06  0:00:11  377k"
       ]
      },
      {
       "output_type": "stream",
       "stream": "stdout",
       "text": [
        "\r",
        " 50 4815k   50 2429k    0     0   309k      0  0:00:15  0:00:07  0:00:08  437k"
       ]
      },
      {
       "output_type": "stream",
       "stream": "stdout",
       "text": [
        "\r",
        " 60 4815k   60 2916k    0     0   329k      0  0:00:14  0:00:08  0:00:06  446k"
       ]
      },
      {
       "output_type": "stream",
       "stream": "stdout",
       "text": [
        "\r",
        " 69 4815k   69 3363k    0     0   339k   "
       ]
      },
      {
       "output_type": "stream",
       "stream": "stdout",
       "text": [
        "   0  0:00:14  0:00:09  0:00:05  459k"
       ]
      },
      {
       "output_type": "stream",
       "stream": "stdout",
       "text": [
        "\r",
        " 78 4815k   78 3800k    0     0   350k      0  0:00:13  0:00:10  0:00:03  474k"
       ]
      },
      {
       "output_type": "stream",
       "stream": "stdout",
       "text": [
        "\r",
        " 88 4815k   88 4244k    0     0   359k      0  0:00:13  0:00:11  0:00:02  464k"
       ]
      },
      {
       "output_type": "stream",
       "stream": "stdout",
       "text": [
        "\r",
        " 94 4815k   94 4528k    0     0   346k      0  0:00:13  0:00:13 --:--:--  "
       ]
      },
      {
       "output_type": "stream",
       "stream": "stdout",
       "text": [
        "401k"
       ]
      },
      {
       "output_type": "stream",
       "stream": "stdout",
       "text": [
        "\r",
        "100 4815k  100 4815k    0     0   357k      0  0:00:13  0:00:13 --:--:--  410k\r\n"
       ]
      },
      {
       "output_type": "stream",
       "stream": "stdout",
       "text": [
        "  % Total    % Received % Xferd  Average Speed   Time    Time     Time  Current\r\n",
        "                                 Dload  Upload   Total   Spent    Left  Speed\r\n",
        "\r",
        "  0     0    0     0    0     0      0      0 --:--:-- --:--:-- --:--:--     0"
       ]
      },
      {
       "output_type": "stream",
       "stream": "stdout",
       "text": [
        "\r",
        "  0     0    0     0    0     0      0      0 --:--:-- --:--:-- --:--:--     0"
       ]
      },
      {
       "output_type": "stream",
       "stream": "stdout",
       "text": [
        "\r",
        "  0     0    0     0    0     0      0      0 --:--:--  0:00:01 --:--:--     0"
       ]
      },
      {
       "output_type": "stream",
       "stream": "stdout",
       "text": [
        "\r",
        "  0 4745k    0  9312    0     0   4220      0  0:19:11  0:00:02  0:19:09  4219"
       ]
      },
      {
       "output_type": "stream",
       "stream": "stdout",
       "text": [
        "\r",
        "  1 4745k    1 54456    0     0  16989      0  0:04:46  0:00:03  0:04:43 16985"
       ]
      },
      {
       "output_type": "stream",
       "stream": "stdout",
       "text": [
        "\r",
        "  7 4745k    7  352k    0     0  86037      0  0"
       ]
      },
      {
       "output_type": "stream",
       "stream": "stdout",
       "text": [
        ":00:56  0:00:04  0:00:52 86028"
       ]
      },
      {
       "output_type": "stream",
       "stream": "stdout",
       "text": [
        "\r",
        " 11 4745k   11  566k    0     0   107k      0  0:00:44  0:00:05 "
       ]
      },
      {
       "output_type": "stream",
       "stream": "stdout",
       "text": [
        " 0:00:39  111k"
       ]
      },
      {
       "output_type": "stream",
       "stream": "stdout",
       "text": [
        "\r",
        " 18 4745k   18  885k    0     0   141k      0  0:00:33  0:00:06  0:00:27  175k"
       ]
      },
      {
       "output_type": "stream",
       "stream": "stdout",
       "text": [
        "\r",
        " 25 4745k   25 1215k    0     0   167k      0  0:00:28  0:00:07  0:00:21  239k"
       ]
      },
      {
       "output_type": "stream",
       "stream": "stdout",
       "text": [
        "\r",
        " 32 4745k   32 1550k    0     0   183k      0  0:00:25  0:00:08  0:00:17  286k"
       ]
      },
      {
       "output_type": "stream",
       "stream": "stdout",
       "text": [
        "\r",
        " 38 4745k   38 1848k    0     0   197k      0  0:00:24  0:00:09  0:00:15  289k"
       ]
      },
      {
       "output_type": "stream",
       "stream": "stdout",
       "text": [
        "\r",
        " 46 4745k   46 2208k    0     0   212k      0  0:00:22  0:00:10  0:00:12  321k"
       ]
      },
      {
       "output_type": "stream",
       "stream": "stdout",
       "text": [
        "\r",
        " 52 4745k   52 2487k    0     0   221k      0  0:00:21  0:00:11  0:00:10  323k"
       ]
      },
      {
       "output_type": "stream",
       "stream": "stdout",
       "text": [
        "\r",
        " 58 4745k   58 2767k    0     0   218k      0  0:00:21  0:00:12  0:00:09  284k"
       ]
      },
      {
       "output_type": "stream",
       "stream": "stdout",
       "text": [
        "\r",
        " 61 4745k   61 2916k    0     0   219k      0  0:00:21  0:00:13  0:00:08  280k"
       ]
      },
      {
       "output_type": "stream",
       "stream": "stdout",
       "text": [
        "\r",
        " 65 4745k   65 3111k    0     0   218k      0  0:00:21  0:00:14  0:00:07  257k"
       ]
      },
      {
       "output_type": "stream",
       "stream": "stdout",
       "text": [
        "\r",
        " 70 4745k   70 3362k    0     0   220k      0  0:00:21  0:00:15  0:00:06  236k"
       ]
      },
      {
       "output_type": "stream",
       "stream": "stdout",
       "text": [
        "\r",
        " 76 4745k   76 3612k    0     0   222k      0  0:00:21  0:00:16  0:00:05  224k"
       ]
      },
      {
       "output_type": "stream",
       "stream": "stdout",
       "text": [
        "\r",
        " 81 4745k   81 3857k    0     0   220k      0  0:00:21  0:00:17  0:00:04  228k"
       ]
      },
      {
       "output_type": "stream",
       "stream": "stdout",
       "text": [
        "\r",
        " 86 4745k   86 4098k    0     0   225k      0  0:00:21  0:00:18  0:00:03  241k"
       ]
      },
      {
       "output_type": "stream",
       "stream": "stdout",
       "text": [
        "\r",
        " 90 4745k   90 4285k    0     0   223k      0  0:00:21  0:00:19  0:00:02  238k"
       ]
      },
      {
       "output_type": "stream",
       "stream": "stdout",
       "text": [
        "\r",
        " 93 4745k   93 4445k    0     0   219k      0  0:00:21  0:00:20  0:00:01  216k"
       ]
      },
      {
       "output_type": "stream",
       "stream": "stdout",
       "text": [
        "\r",
        " 98 4745k   98 4654k    0     0   217k      0  0:00:21  0:00:21 --:--:--  203k"
       ]
      },
      {
       "output_type": "stream",
       "stream": "stdout",
       "text": [
        "\r",
        "100 4745k  100 4745k    0     0   221k      0  0:00:21  0:00:21 --:--:--  225k\r\n"
       ]
      },
      {
       "output_type": "stream",
       "stream": "stdout",
       "text": [
        "  % Total    % Received % Xferd  Average Speed   Time    Time     Time  Current\r\n",
        "                                 Dload  Upload   Total   Spent    Left  Speed\r\n",
        "\r",
        "  0     0    0     0    0     0      0      0 --:--:-- --:--:-- --:--:--     0"
       ]
      },
      {
       "output_type": "stream",
       "stream": "stdout",
       "text": [
        "\r",
        "  0 5010k    0  5208    0     0   6872      0  0:12:26 --:--:--  0:12:26  6870"
       ]
      },
      {
       "output_type": "stream",
       "stream": "stdout",
       "text": [
        "\r",
        "  1 5010k    1 57192    0     0  31782      0  0:02:41  0:00:01  0:02:40 31773"
       ]
      },
      {
       "output_type": "stream",
       "stream": "stdout",
       "text": [
        "\r",
        "  2 5010k    2  101k    0     0  38175      0  0:02:14  0:00:02  0:02:12 38170"
       ]
      },
      {
       "output_type": "stream",
       "stream": "stdout",
       "text": [
        "\r",
        "  5 5010k    5  265k    0     0  71347      0  0:01:11  0:00:03  0:01:08 71345"
       ]
      },
      {
       "output_type": "stream",
       "stream": "stdout",
       "text": [
        "\r",
        "  6 5010k    6  348k    0     0  74339      0  0:01:09  0:00:04  0:01:05 74330"
       ]
      },
      {
       "output_type": "stream",
       "stream": "stdout",
       "text": [
        "\r",
        "  8 5010k    8  441k    0     0  75787      0  0:01:07  0:00:05  0:01:02 85811"
       ]
      },
      {
       "output_type": "stream",
       "stream": "stdout",
       "text": [
        "\r",
        " 10 5010k   10  515k    0     0  78427      0  0:01:05  0:00:06  0:00:59 95435"
       ]
      },
      {
       "output_type": "stream",
       "stream": "stdout",
       "text": [
        "\r",
        " 12 5010k   12  620k    0     0  82801      0  0:01:01  0:00:07  0:00:54  104k"
       ]
      },
      {
       "output_type": "stream",
       "stream": "stdout",
       "text": [
        "\r",
        " 14 5010k   14  730k    0     0  85518      0  0:00:59  0:00:08  0:00:51 96447"
       ]
      },
      {
       "output_type": "stream",
       "stream": "stdout",
       "text": [
        "\r",
        " 16 5010k   16  834k    0     0  87811      0  0:00:58  0:00:09  0:00:49   98k"
       ]
      },
      {
       "output_type": "stream",
       "stream": "stdout",
       "text": [
        "\r",
        " 18 5010k   18  934k    0     0  89437      0  0:00:57  0:00:10  0:00:47  104k"
       ]
      },
      {
       "output_type": "stream",
       "stream": "stdout",
       "text": [
        "\r",
        " 21 5010k   21 1056k    0     0  91532      0  0:00:56  0:00:11  0:00:45  106k"
       ]
      },
      {
       "output_type": "stream",
       "stream": "stdout",
       "text": [
        "\r",
        " 23 5010k   23 1166k    0     0  93884      0  0:00:54  0:00:12  0:00:42  108k"
       ]
      },
      {
       "output_type": "stream",
       "stream": "stdout",
       "text": [
        "\r",
        " 25 5010k   25 1272k    0     0  95047      0  0:00:53  0:00:13  0:00:40  109k"
       ]
      },
      {
       "output_type": "stream",
       "stream": "stdout",
       "text": [
        "\r",
        " 28 5010k   28 1437k    0     0    97k      0  0:00:51  0:00:14  0:00:37  121k"
       ]
      },
      {
       "output_type": "stream",
       "stream": "stdout",
       "text": [
        "\r",
        " 33 5010k   33 1661k    0     0   105k      0  0:00:47  0:00:15  0:00:32  144k"
       ]
      },
      {
       "output_type": "stream",
       "stream": "stdout",
       "text": [
        "\r",
        " 41 5010k   41 2087k    0     0   125k      0  0:00:40  0:00:16  0:00:24  211k"
       ]
      },
      {
       "output_type": "stream",
       "stream": "stdout",
       "text": [
        "\r",
        " 54 5010k   54 2729k    0     0   153k      0  0:00:32  0:00:17  0:00:15  311k"
       ]
      },
      {
       "output_type": "stream",
       "stream": "stdout",
       "text": [
        "\r",
        " 73 5010k   73 3670k    0     0   196k      0  0:00:25  0:00:18  0:00:07  478k"
       ]
      },
      {
       "output_type": "stream",
       "stream": "stdout",
       "text": [
        "\r",
        " 94 5010k   94 4738k    0     0   240k      0  0:00:20  0:00:19  0:00:01  656k"
       ]
      },
      {
       "output_type": "stream",
       "stream": "stdout",
       "text": [
        "\r",
        "100 5010k  100 5010k    0     0   252k      0  0:00:19  0:00:19 --:--:--  806k\r\n"
       ]
      },
      {
       "output_type": "stream",
       "stream": "stdout",
       "text": [
        "  % Total    % Received % Xferd  Average Speed   Time    Time     Time  Current\r\n",
        "                                 Dload  Upload   Total   Spent    Left  Speed\r\n",
        "\r",
        "  0     0    0     0    0     0      0      0 --:--:-- --:--:-- --:--:--     0"
       ]
      },
      {
       "output_type": "stream",
       "stream": "stdout",
       "text": [
        "\r",
        "  0 4152k    0  9312    0     0  10244      0  0:06:55 --:--:--  0:06:55 10244"
       ]
      },
      {
       "output_type": "stream",
       "stream": "stdout",
       "text": [
        "\r",
        "  0 4152k    0 40776    0     0  23469      0  0:03:01  0:00:01  0:03:00 23461"
       ]
      },
      {
       "output_type": "stream",
       "stream": "stdout",
       "text": [
        "\r",
        "  5 4152k    5  222k    0     0  84905      0  0:00:50  0:00:02  0:00:48 84892"
       ]
      },
      {
       "output_type": "stream",
       "stream": "stdout",
       "text": [
        "\r",
        " 11 4152k   11  471k    0     0   127k      0  0:00:32  0:00:03  0:00:29  127k"
       ]
      },
      {
       "output_type": "stream",
       "stream": "stdout",
       "text": [
        "\r",
        " 17 4152k   17  723k    0     0   153k      0  0:00:27  0:00:04  0:00:23  153k"
       ]
      },
      {
       "output_type": "stream",
       "stream": "stdout",
       "text": [
        "\r",
        " 18 4152k   18  783k    0     0   137k      0  0:00:30  0:00:05  0:00:25  162k"
       ]
      },
      {
       "output_type": "stream",
       "stream": "stdout",
       "text": [
        "\r",
        " 25 4152k   25 1039k    0     0   152k      0  0:00:27  0:00:06  0:00:21  196k"
       ]
      },
      {
       "output_type": "stream",
       "stream": "stdout",
       "text": [
        "\r",
        " 31 4152k   31 1299k    0     0   166k      0  0:00:24  0:00:07  0:00:17  210k"
       ]
      },
      {
       "output_type": "stream",
       "stream": "stdout",
       "text": [
        "\r",
        " 38 4152k   38 1604k    0     0   183k      0  0:00:22  0:00:08  0:00:14  223k"
       ]
      },
      {
       "output_type": "stream",
       "stream": "stdout",
       "text": [
        "\r",
        " 47 4152k   47 1980k    0     0   203k      0  0:00:20  0:00:09  0:00:11  250k"
       ]
      },
      {
       "output_type": "stream",
       "stream": "stdout",
       "text": [
        "\r",
        " 56 4152k   56 2330k    0     0   217k      0  0:00:19  0:00:10  0:00:09  308k"
       ]
      },
      {
       "output_type": "stream",
       "stream": "stdout",
       "text": [
        "\r",
        " 65 4152k   65 2734k    0     0   232k      0  0:00:17  0:00:11  0:00:06  343k"
       ]
      },
      {
       "output_type": "stream",
       "stream": "stdout",
       "text": [
        "\r",
        " 74 4152k   74 3085k    0     0   242k      0  0:00:17  0:00:12  0:00:05  364k"
       ]
      },
      {
       "output_type": "stream",
       "stream": "stdout",
       "text": [
        "\r",
        " 83 4152k   83 3459k    0     0   251k      0  0:00:16  0:00:13  0:00:03  373k"
       ]
      },
      {
       "output_type": "stream",
       "stream": "stdout",
       "text": [
        "\r",
        " 91 4152k   91 3801k    0     0   258k      0  0:00:16  0:00:14  0:00:02  367k"
       ]
      },
      {
       "output_type": "stream",
       "stream": "stdout",
       "text": [
        "\r",
        "100 4152k  100 4152k    0     0   269k      0  0:00:15  0:00:15 --:--:--  384k\r\n"
       ]
      },
      {
       "output_type": "stream",
       "stream": "stdout",
       "text": [
        "  % Total    % Received % Xferd  Average Speed   Time    Time     Time  Current\r\n",
        "                                 Dload  Upload   Total   Spent    Left  Speed\r\n",
        "\r",
        "  0     0    0     0    0     0      0      0 --:--:-- --:--:-- --:--:--     0"
       ]
      },
      {
       "output_type": "stream",
       "stream": "stdout",
       "text": [
        "\r",
        "  0     0    0     0    0     0      0      0 --:--:-- --:--:-- --:--:--     0"
       ]
      },
      {
       "output_type": "stream",
       "stream": "stdout",
       "text": [
        "\r",
        "  0 8237k    0 12048    0     0   9939      0  0:14:08  0:00:01  0:14:07  9932"
       ]
      },
      {
       "output_type": "stream",
       "stream": "stdout",
       "text": [
        "\r",
        "  1 8237k    1 95496    0     0  43923      0  0:03:12  0:00:02  0:03:10 43906"
       ]
      },
      {
       "output_type": "stream",
       "stream": "stdout",
       "text": [
        "\r",
        "  4 8237k    4  407k    0     0   127k      0  0:01:04  0:00:03  0:01:01  127k"
       ]
      },
      {
       "output_type": "stream",
       "stream": "stdout",
       "text": [
        "\r",
        "  7 8237k    7  643k    0     0   155k      0  0:00:52  0:00:04  0:00:48  155k"
       ]
      },
      {
       "output_type": "stream",
       "stream": "stdout",
       "text": [
        "\r",
        " 14 8237k   14 1223k    0     0   231k      0  0:00:35  0:00:05  0:00:30  241k"
       ]
      },
      {
       "output_type": "stream",
       "stream": "stdout",
       "text": [
        "\r",
        " 20 8237k   20 1713k    0     0   274k      0  0:00:30  0:00:06  0:00:24  338k"
       ]
      },
      {
       "output_type": "stream",
       "stream": "stdout",
       "text": [
        "\r",
        " 26 8237k   26 2210k    0     0   295k      0  0:00:27  0:00:07  0:00:20  399k"
       ]
      },
      {
       "output_type": "stream",
       "stream": "stdout",
       "text": [
        "\r",
        " 29 8237k   29 2439k    0     0   293k      0  0:00:28  0:00:08  0:00:20  398k"
       ]
      },
      {
       "output_type": "stream",
       "stream": "stdout",
       "text": [
        "\r",
        " 34 8237k   34 2843k    0     0   308k      0  0:00:26  0:00:09  0:00:17  432k"
       ]
      },
      {
       "output_type": "stream",
       "stream": "stdout",
       "text": [
        "\r",
        " 42 8237k   42 3483k    0     0   341k      0  0:00:24  0:00:10  0:00:14  460k"
       ]
      },
      {
       "output_type": "stream",
       "stream": "stdout",
       "text": [
        "\r",
        " 49 8237k   49 4086k    0     0   367k      0  0:00:22  0:00:11  0:00:11  486k"
       ]
      },
      {
       "output_type": "stream",
       "stream": "stdout",
       "text": [
        "\r",
        " 59 8237k   59 4903k    0     0   397k      0  0:00:20  0:00:12  0:00:08  555k"
       ]
      },
      {
       "output_type": "stream",
       "stream": "stdout",
       "text": [
        "\r",
        " 66 8237k   66 5507k    0     0   419k      "
       ]
      },
      {
       "output_type": "stream",
       "stream": "stdout",
       "text": [
        "0  0:00:19  0:00:13  0:00:06  635k"
       ]
      },
      {
       "output_type": "stream",
       "stream": "stdout",
       "text": [
        "\r",
        " 73 8237k   73 6020k    0     0   425k      0  0:00:19  0:00:14  0:00:05  644k"
       ]
      },
      {
       "output_type": "stream",
       "stream": "stdout",
       "text": [
        "\r",
        " 79 8237k   79 6523k    0     0   430k      0  0:00:19  0:00:15  0:00:04  613k"
       ]
      },
      {
       "output_type": "stream",
       "stream": "stdout",
       "text": [
        "\r",
        " 85 8237k   85 7026k    0     0   435k      0  0:00:18  0:00:16  0:00:02  588k"
       ]
      },
      {
       "output_type": "stream",
       "stream": "stdout",
       "text": [
        "\r",
        " 88 8237k   88 7272k    0     0   424k      0  0:00:19  0:00:17  0:00:02  494k"
       ]
      },
      {
       "output_type": "stream",
       "stream": "stdout",
       "text": [
        "\r",
        " 91 8237k   91 7514k    0     0   413k      0  0:00:19  0:00:18  0:00:01  399k"
       ]
      },
      {
       "output_type": "stream",
       "stream": "stdout",
       "text": [
        "\r",
        " 94 8237k   94 7768k    0     0   405k      0  0:00:20  0:00:19  0:00:01  348k"
       ]
      },
      {
       "output_type": "stream",
       "stream": "stdout",
       "text": [
        "\r",
        " 96 8237k   96 7976k    0     0   395k      0  0:00:20  0:00:20 --:--:--  290k"
       ]
      },
      {
       "output_type": "stream",
       "stream": "stdout",
       "text": [
        "\r",
        " 99 8237k   99 8225k    0     0   389k      0  0:00:21  0:00:21 --:--:--  239k\r",
        "100 8237k  100 8237k    0     0   389k      0  0:00:21  0:00:21 --:--:--  239k\r\n"
       ]
      },
      {
       "output_type": "stream",
       "stream": "stdout",
       "text": [
        "  % Total    % Received % Xferd  Average Speed   Time    Time     Time  Current\r\n",
        "                                 Dload  Upload   Total   Spent    Left  Speed\r\n",
        "\r",
        "  0     0    0     0    0     0      0      0 --:--:-- --:--:-- --:--:--     0"
       ]
      },
      {
       "output_type": "stream",
       "stream": "stdout",
       "text": [
        "\r",
        "  0     0    0     0    0     0      0      0 --:--:--  0:00:01 --:--:--     0"
       ]
      },
      {
       "output_type": "stream",
       "stream": "stdout",
       "text": [
        "\r",
        "  0     0    0     0    0     0      0      0 --:--:--  0:00:02 --:--:--     0"
       ]
      },
      {
       "output_type": "stream",
       "stream": "stdout",
       "text": [
        "\r",
        "  0     0    0     0    0     0      0      0 --:--:--  0:00:03 --:-"
       ]
      },
      {
       "output_type": "stream",
       "stream": "stdout",
       "text": [
        "-:--     0"
       ]
      },
      {
       "output_type": "stream",
       "stream": "stdout",
       "text": [
        "\r",
        "  0     0    0     0    0     0      0      0 --:--:--  0:00:04 --:--:--     0"
       ]
      },
      {
       "output_type": "stream",
       "stream": "stdout",
       "text": [
        "\r",
        "  0 4614k    0  5208    0     0    969      0  1:21:16  0:00:05  1:21:11   969"
       ]
      },
      {
       "output_type": "stream",
       "stream": "stdout",
       "text": [
        "\r",
        "  0 4614k    0  6576    0     0   1005      0  1:18:21  0:00:06  1:18:15  1313"
       ]
      },
      {
       "output_type": "stream",
       "stream": "stdout",
       "text": [
        "\r",
        "  0 4614k    0  6576    0     0    871      0  1:30:25  0:00:07  1:30:18  1368"
       ]
      },
      {
       "output_type": "stream",
       "stream": "stdout",
       "text": [
        "\r",
        "  0 4614k    0  6576    0     0    769      0  1:42:24  0:00:08  1:42:16  1197"
       ]
      },
      {
       "output_type": "stream",
       "stream": "stdout",
       "text": [
        "\r",
        "  0 4614k    0  9312    0     0   1049      0  1:15:04  0:00:08  1:14:56  1931"
       ]
      },
      {
       "output_type": "stream",
       "stream": "stdout",
       "text": [
        "\r",
        "  0 4614k    0 13416    0     0   1353      0  0:58:12  0:00:09  0:58:03  1809"
       ]
      },
      {
       "output_type": "stream",
       "stream": "stdout",
       "text": [
        "\r",
        "  0 4614k    0 22992    0     0   2104      0  0:37:25  0:00:10  0:37:15  3742"
       ]
      },
      {
       "output_type": "stream",
       "stream": "stdout",
       "text": [
        "\r",
        "  1 4614k    1 65400    0     0   5514      0  0:14:16  0:00:11  0:14:05 13619"
       ]
      },
      {
       "output_type": "stream",
       "stream": "stdout",
       "text": [
        "\r",
        "  2 4614k    2  122k    0     0   9746      0  0:08:04  0:00:12  0:07:52 27416"
       ]
      },
      {
       "output_type": "stream",
       "stream": "stdout",
       "text": [
        "\r",
        "  6 4614k    6  300k    0     0  22166      0  0:03:33  0:0"
       ]
      },
      {
       "output_type": "stream",
       "stream": "stdout",
       "text": [
        "0:13  0:03:20 59656"
       ]
      },
      {
       "output_type": "stream",
       "stream": "stdout",
       "text": [
        "\r",
        " 12 4614k   12  571k    0     0  38931      0  0:02:01  0:00:15  0:01:46  109k"
       ]
      },
      {
       "output_type": "stream",
       "stream": "stdout",
       "text": [
        "\r",
        " 17 4614k   17  817k    0     0  52695      0  0:01:29  0:00:15  0:01:14  160k"
       ]
      },
      {
       "output_type": "stream",
       "stream": "stdout",
       "text": [
        "\r",
        " 25 4614k   25 1196k    0     0  72008      0  0:01:05  0:00:17  0:00:48  219k"
       ]
      },
      {
       "output_type": "stream",
       "stream": "stdout",
       "text": [
        "\r",
        " 26 4614k   26 1222k    0     0  69912      0  0:01:07  0:00:17  0:00:50  219k"
       ]
      },
      {
       "output_type": "stream",
       "stream": "stdout",
       "text": [
        "\r",
        " 30 4614k   30 1413k    0     0  76231      0  0:01:01  0:00:18  0:00:43  217k"
       ]
      },
      {
       "output_type": "stream",
       "stream": "stdout",
       "text": [
        "\r",
        " 36 4614k   36 1661k    0     0  84883      0  0:00:55  0:00:20  0:00:35  217k"
       ]
      },
      {
       "output_type": "stream",
       "stream": "stdout",
       "text": [
        "\r",
        " 39 4614k   39 1843k    0     0  90562      0  0:00:52  0:00:20  0:00:32  206k"
       ]
      },
      {
       "output_type": "stream",
       "stream": "stdout",
       "text": [
        "\r",
        " 41 4614k   41 1931k    0     0  89060      0  0:00:53  0:00:22  0:00:31  141k"
       ]
      },
      {
       "output_type": "stream",
       "stream": "stdout",
       "text": [
        "\r",
        " 45 4614k   45 2079k    0     0  92831      0  0:00:50  0:00:22  0:00:28  170k"
       ]
      },
      {
       "output_type": "stream",
       "stream": "stdout",
       "text": [
        "\r",
        " 48 4614k   48 2218k    0     0  93384      0  0:00:50  0:00:24  0:00:26  150k"
       ]
      },
      {
       "output_type": "stream",
       "stream": "stdout",
       "text": [
        "\r",
        " 50 4614k   50 2349k    0     0  96662      0  0:00:48  0:00:24  0:00:24  141k"
       ]
      },
      {
       "output_type": "stream",
       "stream": "stdout",
       "text": [
        "\r",
        " 53 4614k   53 2485k    0     0  98507      0  0:00:47  0:00:25  0:00:22  128k"
       ]
      },
      {
       "output_type": "stream",
       "stream": "stdout",
       "text": [
        "\r",
        " 56 4614k   56 2618k    0     0  99702      0  0:00:47  0:00:26  0:00:21  146k"
       ]
      },
      {
       "output_type": "stream",
       "stream": "stdout",
       "text": [
        "\r",
        " 59 4614k   59 2743k    0     0    98k      0  0:00:47  0:00:27  0:00:20  132k"
       ]
      },
      {
       "output_type": "stream",
       "stream": "stdout",
       "text": [
        "\r",
        " 62 4614k   62 2881k    0     0    98k      0  0:00:46  0:00:29  0:00:17  137k"
       ]
      },
      {
       "output_type": "stream",
       "stream": "stdout",
       "text": [
        "\r",
        " 63 4614k   63 2932k    0     0    97k      0  0:00:47  0:00:29  0:00:18  114k"
       ]
      },
      {
       "output_type": "stream",
       "stream": "stdout",
       "text": [
        "\r",
        " 65 4614k   65 3029k    0     0    98k      0  0:00:47  0:00:30  0:00:17  107k"
       ]
      },
      {
       "output_type": "stream",
       "stream": "stdout",
       "text": [
        "\r",
        " 67 4614k   67 3120k    0     0    97k      0  0:00:47  0:00:31  0:00:16  101k"
       ]
      },
      {
       "output_type": "stream",
       "stream": "stdout",
       "text": [
        "\r",
        " 70 4614k   70 3250k    0     0    98k      0  0:00:46  0:00:32  0:00:14  101k"
       ]
      },
      {
       "output_type": "stream",
       "stream": "stdout",
       "text": [
        "\r",
        " 72 4614k   72 3367k    0     0    99k      0  0:00:46  0:00:33  0:00:13  103k"
       ]
      },
      {
       "output_type": "stream",
       "stream": "stdout",
       "text": [
        "\r",
        " 75 4614k   75 3469k    0     0    99k      0  0:00:46  0:00:34  0:00:12  108k"
       ]
      },
      {
       "output_type": "stream",
       "stream": "stdout",
       "text": [
        "\r",
        " 77 4614k   77 3596k    0     0   100k      0  0:00:46  0:00:35  0:00:11  112k"
       ]
      },
      {
       "output_type": "stream",
       "stream": "stdout",
       "text": [
        "\r",
        " 80 4614k   80 3705k    0     0   100k      0  0:00:45  0:00:36  0:00:09  116k"
       ]
      },
      {
       "output_type": "stream",
       "stream": "stdout",
       "text": [
        "\r",
        " 83 4614k   83 3869k    0     0   102k      0  0:00:45  0:00:37  0:00:08  125k"
       ]
      },
      {
       "output_type": "stream",
       "stream": "stdout",
       "text": [
        "\r",
        " 88 4614k   88 4099k    0     0   105k      0  0:00:43  0:00:38  0:00:05  146k"
       ]
      },
      {
       "output_type": "stream",
       "stream": "stdout",
       "text": [
        "\r",
        " 96 4614k   96 4443k    0     0   111k      0  0:00:41  0:00:39  0:"
       ]
      },
      {
       "output_type": "stream",
       "stream": "stdout",
       "text": [
        "00:02  198k"
       ]
      },
      {
       "output_type": "stream",
       "stream": "stdout",
       "text": [
        "\r",
        "100 4614k  100 4614k    0     0   114k      0  0:00:"
       ]
      },
      {
       "output_type": "stream",
       "stream": "stdout",
       "text": [
        "40  0:00:40 --:--:--  239k\r\n"
       ]
      },
      {
       "output_type": "stream",
       "stream": "stdout",
       "text": [
        "  % Total    % Received % Xferd  Average Speed   Time    Time     Time  Current\r\n",
        "                                 Dload  Upload   Total   Spent    Left  Speed\r\n",
        "\r",
        "  0     0    0     0    0     0      0      0 --:--:-- --:--:-- --:--:--     0"
       ]
      },
      {
       "output_type": "stream",
       "stream": "stdout",
       "text": [
        "\r",
        "  0 4521k    0  7944    0     0   9810      0  0:07:52 --:--:--  0:07:52  9807"
       ]
      },
      {
       "output_type": "stream",
       "stream": "stdout",
       "text": [
        "\r",
        "  0 4521k    0 35304    0     0  23055      0  0:03:20  0:00:01  0:03:19 23044"
       ]
      },
      {
       "output_type": "stream",
       "stream": "stdout",
       "text": [
        "\r",
        "  5 4521k    5  228k    0     0  93427      0  0:00:49  0:00:02  0:00:47 93428"
       ]
      },
      {
       "output_type": "stream",
       "stream": "stdout",
       "text": [
        "\r",
        "  9 4521k    9  441k    0     0   118k      0  0:00:38  0:00:03  0:00:35  118k"
       ]
      },
      {
       "output_type": "stream",
       "stream": "stdout",
       "text": [
        "\r",
        " 16 4521k   16  758k    0     0   162k      0  0:00:27  0:00:04  0:00:23  162k"
       ]
      },
      {
       "output_type": "stream",
       "stream": "stdout",
       "text": [
        "\r",
        " 21 4521k   21  957k    0     0   168k      0  0:00:26  0:00:05  0:00:21  195k"
       ]
      },
      {
       "output_type": "stream",
       "stream": "stdout",
       "text": [
        "\r",
        " 25 4521k   25 1132k    0     0   173k      0  0:00:26  0:00:06  0:00:20  219k"
       ]
      },
      {
       "output_type": "stream",
       "stream": "stdout",
       "text": [
        "\r",
        " 31 4521k   31 1409k    0     0   184k      0  0:00:24  0:00:07  0:00:17  230k"
       ]
      },
      {
       "output_type": "stream",
       "stream": "stdout",
       "text": [
        "\r",
        " 34 4521k   34 1578k    0     0   182k      0  0:00:24  0:00:08  0:00:16  231k"
       ]
      },
      {
       "output_type": "stream",
       "stream": "stdout",
       "text": [
        "\r",
        " 37 4521k   37 1704k    0     0   178k      0  0:00:25  0:00:09  0:00:16  194k"
       ]
      },
      {
       "output_type": "stream",
       "stream": "stdout",
       "text": [
        "\r",
        " 41 4521k   41 1879k    0     0   178k      0  0:00:25  0:00:10  0:00:15  190k"
       ]
      },
      {
       "output_type": "stream",
       "stream": "stdout",
       "text": [
        "\r",
        " 45 4521k   45 2039k    0     0   171k      0  0:00:26  0:00:11  0:00:15  168k"
       ]
      },
      {
       "output_type": "stream",
       "stream": "stdout",
       "text": [
        "\r",
        " 48 4521k   48 2201k    0     0   176k      0  0:00:25  0:00:12  0:00:13  162k"
       ]
      },
      {
       "output_type": "stream",
       "stream": "stdout",
       "text": [
        "\r",
        " 51 4521k   51 2321k    0     0   171k      0  0:00:26  0:00:13  0:00:13  152k"
       ]
      },
      {
       "output_type": "stream",
       "stream": "stdout",
       "text": [
        "\r",
        " 54 4521k   54 2455k    0     0   167k      0  0:00:26  0:00:14  0:00:12  147k"
       ]
      },
      {
       "output_type": "stream",
       "stream": "stdout",
       "text": [
        "\r",
        " 56 4521k   56 2540k    0     0   163k      0  0:00:27  0:00:15  0:00:12  131k"
       ]
      },
      {
       "output_type": "stream",
       "stream": "stdout",
       "text": [
        "\r",
        " 57 4521k   57 2580k    0     0   153k      0  0:00:29  0:00:16  0:00:13  110k"
       ]
      },
      {
       "output_type": "stream",
       "stream": "stdout",
       "text": [
        "\r",
        " 58 4521k   58 2651k    0     0   151k      0  0:00:29  0:00:17  0:00:12 91453"
       ]
      },
      {
       "output_type": "stream",
       "stream": "stdout",
       "text": [
        "\r",
        " 60 4521k   60 2719k    0     0   146k      0  0:00:30  0:00:18  0:00:12 81745"
       ]
      },
      {
       "output_type": "stream",
       "stream": "stdout",
       "text": [
        "\r",
        " 61 4521k   61 2793k    0     0   142k      0  0:00:31  0:00:19  0:00:12 70217"
       ]
      },
      {
       "output_type": "stream",
       "stream": "stdout",
       "text": [
        "\r",
        " 63 4521k   63 2877k    0     0   140k      0  0:00:32  0:00:20  0:00:12 69085"
       ]
      },
      {
       "output_type": "stream",
       "stream": "stdout",
       "text": [
        "\r",
        " 65 4521k   65 2966k    0     0   136k      0  0:00:33  0:00:21  0:00:"
       ]
      },
      {
       "output_type": "stream",
       "stream": "stdout",
       "text": [
        "12 81348"
       ]
      },
      {
       "output_type": "stream",
       "stream": "stdout",
       "text": [
        "\r",
        " 67 4521k   67 3051k    0     0   135k      0  0:00:33  0:00:22  0:00:11 81028"
       ]
      },
      {
       "output_type": "stream",
       "stream": "stdout",
       "text": [
        "\r",
        " 69 4521k   69 3129k    0     0   133k      0  0:00:33  0:00:23  0:00:10 83727"
       ]
      },
      {
       "output_type": "stream",
       "stream": "stdout",
       "text": [
        "\r",
        " 71 4521k   71 3242k    0     0   132k      0  0:00:34  0:00:24  0:00:10 92858"
       ]
      },
      {
       "output_type": "stream",
       "stream": "stdout",
       "text": [
        "\r",
        " 74 4521k   74 3381k    0     0   132k      0  0:00:34  0:00:25  0:00:09  101k"
       ]
      },
      {
       "output_type": "stream",
       "stream": "stdout",
       "text": [
        "\r",
        " 78 4521k   78 3558k    0     0   133k      0  0:00:33  0:00:26  0:00:07  119k"
       ]
      },
      {
       "output_type": "stream",
       "stream": "stdout",
       "text": [
        "\r",
        " 81 4521k   81 3694k    0     0   133k      0  0:00:33  0:00:27  0:00:06  127k"
       ]
      },
      {
       "output_type": "stream",
       "stream": "stdout",
       "text": [
        "\r",
        " 83 4521k   83 3780k    0     0   130k      0  0:00:34  0:00:28  0:00:06  120k"
       ]
      },
      {
       "output_type": "stream",
       "stream": "stdout",
       "text": [
        "\r",
        " 83 4521k   83 3796k    0     0   127k      0  0:00:35  0:00:29  0:00:06  102k"
       ]
      },
      {
       "output_type": "stream",
       "stream": "stdout",
       "text": [
        "\r",
        " 85 4521k   85 3868k    0     0   126k      0  0:00:35  0:00:30  0:00:05 95930"
       ]
      },
      {
       "output_type": "stream",
       "stream": "stdout",
       "text": [
        "\r",
        " 86 4521k   86 3911k    0     0   124k      0  0:00:36  0:00:31  0:00:05 73434"
       ]
      },
      {
       "output_type": "stream",
       "stream": "stdout",
       "text": [
        "\r",
        " 90 4521k   90 4114k    0     0   125k      0  0:00:36  0:00:32  0:00:04 83929"
       ]
      },
      {
       "output_type": "stream",
       "stream": "stdout",
       "text": [
        "\r",
        " 95 4521k   95 4317k    0     0   128k      0  0:00:35  0:00:33  0:00:02  117k"
       ]
      },
      {
       "output_type": "stream",
       "stream": "stdout",
       "text": [
        "\r",
        "100 4521k  100 4521k    0     0   132k      0  0:00:34  0:00:34 --:--:--  167k\r\n"
       ]
      },
      {
       "output_type": "stream",
       "stream": "stdout",
       "text": [
        "  % Total    % Received % Xferd  Average Speed   Time    Time     Time  Current\r\n",
        "                                 Dload  Upload   Total   Spent    Left  Speed\r\n",
        "\r",
        "  0     0    0     0    0     0      0      0 --:--:-- --:--:-- --:--:--     0"
       ]
      },
      {
       "output_type": "stream",
       "stream": "stdout",
       "text": [
        "\r",
        "  0     0    0     0    0     0      0      0 --:--:-- --:--:-- --:--:--     0"
       ]
      },
      {
       "output_type": "stream",
       "stream": "stdout",
       "text": [
        "\r",
        "  0 4639k    0 20256    0     0  15017      0  0:05:16  0:00:01  0:05:15 15015"
       ]
      },
      {
       "output_type": "stream",
       "stream": "stdout",
       "text": [
        "\r",
        "  1 4639k    1 69472    0     0  30646      0  0:02:35  0:00:02  0:02:33 30644"
       ]
      },
      {
       "output_type": "stream",
       "stream": "stdout",
       "text": [
        "\r",
        "  3 4639k    3  172k    0     0  54949      0  0:01:26  0:00:03  0:01:23 54944"
       ]
      },
      {
       "output_type": "stream",
       "stream": "stdout",
       "text": [
        "\r",
        "  6 4639k    6  284k    0     0  68423      0  0:01:09  0:00:04  0:01:05 68418"
       ]
      },
      {
       "output_type": "stream",
       "stream": "stdout",
       "text": [
        "\r",
        "  8 4639k    8  375k    0     0  73056      0  0:01:05  0:00:05  0:01:00 76083"
       ]
      },
      {
       "output_type": "stream",
       "stream": "stdout",
       "text": [
        "\r",
        " 10 4639k   10  468k    0     0  77567      0  0:01:01  0:00:06  0:00:55 94988"
       ]
      },
      {
       "output_type": "stream",
       "stream": "stdout",
       "text": [
        "\r",
        " 12 4639k   12  587k    0     0  83370      0  0:00:56  0:00:07  0:00:49  104k"
       ]
      },
      {
       "output_type": "stream",
       "stream": "stdout",
       "text": [
        "\r",
        " 15 4639k   15  702k    0     0  88162      0  0:00:53  0:00:08  0:00:45  107k"
       ]
      },
      {
       "output_type": "stream",
       "stream": "stdout",
       "text": [
        "\r",
        " 17 4639k   17  810k    0     0  88941      0  0:00:53  0:00:09  0:00:44  103k"
       ]
      },
      {
       "output_type": "stream",
       "stream": "stdout",
       "text": [
        "\r",
        " 20 4639k   20  934k    0     0  92902      0  0:00:51  0:00:10  0:00:41  110k"
       ]
      },
      {
       "output_type": "stream",
       "stream": "stdout",
       "text": [
        "\r",
        " 22 4639k   22 1021k    0     0  92994      0  0:00:51  0:00:11  0:00:40  109k"
       ]
      },
      {
       "output_type": "stream",
       "stream": "stdout",
       "text": [
        "\r",
        " 23 4639k   23 1080k    0     0  90760      0  0:00:52  0:00:12  0"
       ]
      },
      {
       "output_type": "stream",
       "stream": "stdout",
       "text": [
        ":00:40   99k"
       ]
      },
      {
       "output_type": "stream",
       "stream": "stdout",
       "text": [
        "\r",
        " 25 4639k   25 1182k    0     0  91232      0  0:00:52  0:00:13  0:00:39 96145"
       ]
      },
      {
       "output_type": "stream",
       "stream": "stdout",
       "text": [
        "\r",
        " 27 4639k   27 1280k    0     0  92361      0  0:00:51  0:00:14  0:00:37 98918"
       ]
      },
      {
       "output_type": "stream",
       "stream": "stdout",
       "text": [
        "\r",
        " 29 4639k   29 1381k    0     0  93257      0  0:00:50  0:00:15  0:00:35 93995"
       ]
      },
      {
       "output_type": "stream",
       "stream": "stdout",
       "text": [
        "\r",
        " 31 4639k   31 1459k    0     0  91733      0  0:00:51  0:00:16  0:00:35 88922"
       ]
      },
      {
       "output_type": "stream",
       "stream": "stdout",
       "text": [
        "\r",
        " 33 4639k   33 1542k    0     0  91153      0  0:00:52  0:00:17  0:00:35 92087"
       ]
      },
      {
       "output_type": "stream",
       "stream": "stdout",
       "text": [
        "\r",
        " 36 4639k   36 1693k    0     0  94826      0  0:00:50  0:00:18  0:00:32  101k"
       ]
      },
      {
       "output_type": "stream",
       "stream": "stdout",
       "text": [
        "\r",
        " 42 4639k   42 1964k    0     0   101k      0  0:00:45  0:00:19  0:00:26  131k"
       ]
      },
      {
       "output_type": "stream",
       "stream": "stdout",
       "text": [
        "\r",
        " 49 4639k   49 2293k    0     0   113k      0  0:00:40  0:00:20  0:00:20  180k"
       ]
      },
      {
       "output_type": "stream",
       "stream": "stdout",
       "text": [
        "\r",
        " 58 4639k   58 2711k    0     0   128k      0  0:00:36  0:00:21  0:00:15  257k"
       ]
      },
      {
       "output_type": "stream",
       "stream": "stdout",
       "text": [
        "\r",
        " 68 4639k   68 3173k    0     0   143k      0  0:00:32  0:00:22  0:00:10  339k"
       ]
      },
      {
       "output_type": "stream",
       "stream": "stdout",
       "text": [
        "\r",
        " 80 4639k   80 3737k    0     0   161k      0  0:00:28  0:00:23  0:00:05  422k"
       ]
      },
      {
       "output_type": "stream",
       "stream": "stdout",
       "text": [
        "\r",
        " 92 4639k   92 4308k    0     0   177k      0  0:00:26  0:00:24  0:00:02  475k"
       ]
      },
      {
       "output_type": "stream",
       "stream": "stdout",
       "text": [
        "\r",
        "100 4639k  100 4639k    0     0   186k      0  0:00:24  0:00:24 --:--:--  510k\r\n"
       ]
      },
      {
       "output_type": "stream",
       "stream": "stdout",
       "text": [
        "  % Total    % Received % Xferd  Average Speed   Time    Time     Time  Current\r\n",
        "                                 Dload  Upload   Total   Spent    Left  Speed\r\n",
        "\r",
        "  0     0    0     0    0     0      0      0 --:--:-- --:--:-- --:--:--     0"
       ]
      },
      {
       "output_type": "stream",
       "stream": "stdout",
       "text": [
        "\r",
        "  0     0    0     0    0     0      0      0 --:--:-- --:--:-- --:--:--     0"
       ]
      },
      {
       "output_type": "stream",
       "stream": "stdout",
       "text": [
        "\r",
        "  0 4601k    0 22992    0     0  16815      0  0:04:40  0:00:01  0:04:39 16807"
       ]
      },
      {
       "output_type": "stream",
       "stream": "stdout",
       "text": [
        "\r",
        "  3 4601k    3  154k    0     0  67794      0  0:01:09  0:00:02  0:01:07 67789"
       ]
      },
      {
       "output_type": "stream",
       "stream": "stdout",
       "text": [
        "\r",
        " 12 4601k   12  575k    0     0   167k      0  0:00:27  0:00:03  0:00:24  167k"
       ]
      },
      {
       "output_type": "stream",
       "stream": "stdout",
       "text": [
        "\r",
        " 18 4601k   18  837k    0     0   198k      0  0:00:23  0:00:04 "
       ]
      },
      {
       "output_type": "stream",
       "stream": "stdout",
       "text": [
        " 0:00:19  198k"
       ]
      },
      {
       "output_type": "stream",
       "stream": "stdout",
       "text": [
        "\r",
        " 29 4601k   29 1343k    0     0   259k      0  0:00:17  0:00:05  0:00:12  270k"
       ]
      },
      {
       "output_type": "stream",
       "stream": "stdout",
       "text": [
        "\r",
        " 39 4601k   39 1811k    0     0   290k      0  0:00:15  0:00:06  0:00:09  367k"
       ]
      },
      {
       "output_type": "stream",
       "stream": "stdout",
       "text": [
        "\r",
        " 50 4601k   50 2324k    0     0   320k      0  0:00:14  0:00:07  0:00:07  441k"
       ]
      },
      {
       "output_type": "stream",
       "stream": "stdout",
       "text": [
        "\r",
        " 61 4601k   61 2815k    0     0   342k      0  0:00:13  0:00:08  0:00:05"
       ]
      },
      {
       "output_type": "stream",
       "stream": "stdout",
       "text": [
        "  467k"
       ]
      },
      {
       "output_type": "stream",
       "stream": "stdout",
       "text": [
        "\r",
        " 72 4601k   72 3319k    0     0   361k      0  0:00:12  0:00:09  0:00:03  499k"
       ]
      },
      {
       "output_type": "stream",
       "stream": "stdout",
       "text": [
        "\r",
        " 82 4601k   82 3783k    0     0   361k "
       ]
      },
      {
       "output_type": "stream",
       "stream": "stdout",
       "text": [
        "     0  0:00:12  0:00:10  0:00:02  460k"
       ]
      },
      {
       "output_type": "stream",
       "stream": "stdout",
       "text": [
        "\r",
        " 89 4601k   89 4138k    0     0   364k      0  0:00:12  0:00:11  0:00:01  455k"
       ]
      },
      {
       "output_type": "stream",
       "stream": "stdout",
       "text": [
        "\r",
        " 97 4601k   97 4505k    0     0   366k      0  0:00:12  0:00:12 --:--:--  431k"
       ]
      },
      {
       "output_type": "stream",
       "stream": "stdout",
       "text": [
        "\r",
        "100 4601k  100 4601k    0     0   373k      0  0:00:12  0:00:12 --:--:--  434k\r\n"
       ]
      },
      {
       "output_type": "stream",
       "stream": "stdout",
       "text": [
        "  % Total    % Received % Xferd  Average Speed   Time    Time     Time  Current\r\n",
        "                                 Dload  Upload   Total   Spent    Left  Speed\r\n",
        "\r",
        "  0     0    0     0    0     0      0      0 --:--:-- --:--:-- --:--:--     0"
       ]
      },
      {
       "output_type": "stream",
       "stream": "stdout",
       "text": [
        "\r",
        "  0 4668k    0  5208    0     0   6629      0  0:12:01 --:--:--  0:12:01  6625"
       ]
      },
      {
       "output_type": "stream",
       "stream": "stdout",
       "text": [
        "\r",
        "  1 4668k    1 64032    0     0  34920      0  0:02:16  0:00:01  0:02:15 34913"
       ]
      },
      {
       "output_type": "stream",
       "stream": "stdout",
       "text": [
        "\r",
        "  5 4668k    5  244k    0     0  91657      0  0:00:52  0:00:02  0:00:50 91637"
       ]
      },
      {
       "output_type": "stream",
       "stream": "stdout",
       "text": [
        "\r",
        "  8 4668k    8  388k    0     0   103k      0  0:00:45  0:00:03  0:00:42  103k"
       ]
      },
      {
       "output_type": "stream",
       "stream": "stdout",
       "text": [
        "\r",
        " 12 4668k   12  571k    0     0   121k      0  0:00:38  0:00:04  0:00:34  121k"
       ]
      },
      {
       "output_type": "stream",
       "stream": "stdout",
       "text": [
        "\r",
        " 15 4668k   15  709k    0     0   120k      0  0:00:38  0:00:05  0:00:33  138k"
       ]
      },
      {
       "output_type": "stream",
       "stream": "stdout",
       "text": [
        "\r",
        " 18 4668k   18  857k    0     0   123k      0  0:00:37  0:00:06  0:00:31  156k"
       ]
      },
      {
       "output_type": "stream",
       "stream": "stdout",
       "text": [
        "\r",
        " 20 4668k   20  953k    0     0   123k      0  0:00:37  0:00:07  0:00:30  142k"
       ]
      },
      {
       "output_type": "stream",
       "stream": "stdout",
       "text": [
        "\r",
        " 22 4668k   22 1055k    0     0   119k      0  0:00:39  0:00:08  0:00:31  131k"
       ]
      },
      {
       "output_type": "stream",
       "stream": "stdout",
       "text": [
        "\r",
        " 24 4668k   24 1166k    0     0   117k      0  0:00:39  0:00:09  0:00:30  115k"
       ]
      },
      {
       "output_type": "stream",
       "stream": "stdout",
       "text": [
        "\r",
        " 27 4668k   27 1271k    0     0   118k      0  0:00:39  0:00:10  0:00:29  115k"
       ]
      },
      {
       "output_type": "stream",
       "stream": "stdout",
       "text": [
        "\r",
        " 30 4668k   30 1410k    0     0   119k      0  0:00:39  0:00:11  0:00:28  112k"
       ]
      },
      {
       "output_type": "stream",
       "stream": "stdout",
       "text": [
        "\r",
        " 32 4668k   32 1537k    0     0   120k      0  0:00:38  0:00:12  0:00:26  115k"
       ]
      },
      {
       "output_type": "stream",
       "stream": "stdout",
       "text": [
        "\r",
        " 35 4668k   35 1679k    0     0   121k      0  0:00:38  0:00:13  0:00:25  124k"
       ]
      },
      {
       "output_type": "stream",
       "stream": "stdout",
       "text": [
        "\r",
        " 37 4668k   37 1773k    0     0   120k      0  0:00:38  0:00:14  0:00:24  125k"
       ]
      },
      {
       "output_type": "stream",
       "stream": "stdout",
       "text": [
        "\r",
        " 41 4668k   41 1931k    0     0   122k      0  0:00:38  0:00:15  0:00:23  131k"
       ]
      },
      {
       "output_type": "stream",
       "stream": "stdout",
       "text": [
        "\r",
        " 46 4668k   46 2155k    0     0   128k      0  0:00:36  0:00:16  0:00:20  150k"
       ]
      },
      {
       "output_type": "stream",
       "stream": "stdout",
       "text": [
        "\r",
        " 51 4668k   51 2387k    0     0   133k      0  0:00:34  0:00:17  0:00:17  168k"
       ]
      },
      {
       "output_type": "stream",
       "stream": "stdout",
       "text": [
        "\r",
        " 59 4668k   59 2798k    0     0   149k      0  0:00:31  0:00:18  0:00:13  229k"
       ]
      },
      {
       "output_type": "stream",
       "stream": "stdout",
       "text": [
        "\r",
        " 69 4668k   69 3234k    0     0   162k      0  0:00:28  0:00:19  0:00:09 "
       ]
      },
      {
       "output_type": "stream",
       "stream": "stdout",
       "text": [
        " 285k"
       ]
      },
      {
       "output_type": "stream",
       "stream": "stdout",
       "text": [
        "\r",
        " 80 4668k   80 3743k    0     0   179k      0  0:00:26  0:00:20  0:00:06  354k"
       ]
      },
      {
       "output_type": "stream",
       "stream": "stdout",
       "text": [
        "\r",
        " 88 4668k   88 4121k    0     0   189k      0  0:00:24  0:00:21  0:00:03  393k"
       ]
      },
      {
       "output_type": "stream",
       "stream": "stdout",
       "text": [
        "\r",
        " 98 4668k   98 4622k    0     0   202k      0  0:00:23  0:00:22  0:00:01  446k\r",
        "100 4668k  100 4668k    0     0   204k      0  0:00:22  0:00:22 --:--:--  453k\r\n"
       ]
      },
      {
       "output_type": "stream",
       "stream": "stdout",
       "text": [
        "  % Total    % Received % Xferd  Average Speed   Time    Time     Time  Current\r\n",
        "                                 Dload  Upload   Total   Spent    Left  Speed\r\n",
        "\r",
        "  0     0    0     0    0     0      0      0 --:--:-- --:--:-- --:--:--     0"
       ]
      },
      {
       "output_type": "stream",
       "stream": "stdout",
       "text": [
        "\r",
        "  0 4360k    0  3840    0     0   4318      0  0:17:14 --:--:--  0:17:14  4314"
       ]
      },
      {
       "output_type": "stream",
       "stream": "stdout",
       "text": [
        "\r",
        "  0 4360k    0 35304    0     0  18741      0  0:03:58  0:00:01  0:03:57 18738"
       ]
      },
      {
       "output_type": "stream",
       "stream": "stdout",
       "text": [
        "\r",
        "  4 4360k    4  213k    0     0  76691      0  0:00:58  0:00:02  0:00:56 76680"
       ]
      },
      {
       "output_type": "stream",
       "stream": "stdout",
       "text": [
        "\r",
        " 14 4360k   14  645k    0     0   167k      0  0:00:25  0:00:03  0:00:22  167k"
       ]
      },
      {
       "output_type": "stream",
       "stream": "stdout",
       "text": [
        "\r",
        " 28 4360k   28 1236k    0     0   241k      0  0:00:18  0:00:05  0:00:13  241k"
       ]
      },
      {
       "output_type": "stream",
       "stream": "stdout",
       "text": [
        "\r",
        " 40 4360k   40 1787k    0     0   308k      0  0:00:14  0:00:05  0:00:09  363k"
       ]
      },
      {
       "output_type": "stream",
       "stream": "stdout",
       "text": [
        "\r",
        " 58 4360k   58 2540k    0     0   368k      0  0:00:11  0:00:06  0:00:05  499k"
       ]
      },
      {
       "output_type": "stream",
       "stream": "stdout",
       "text": [
        "\r",
        " 75 4360k   75 3294k    0     0   414k      0  0:00:10  0:00:07  0:00:03  603k"
       ]
      },
      {
       "output_type": "stream",
       "stream": "stdout",
       "text": [
        "\r",
        " 86 4360k   86 3760k    0     0   427k      0  0:00:10  0:00:08  0:00:02  630k"
       ]
      },
      {
       "output_type": "stream",
       "stream": "stdout",
       "text": [
        "\r",
        " 95 4360k   95 4162k    0     0   418k      0  0:00:10  0:00:09  0:00:01  607k"
       ]
      },
      {
       "output_type": "stream",
       "stream": "stdout",
       "text": [
        "\r",
        "100 4360k  100 4360k    0     0   427k      0  0:00:10  0:00:10 --:--:--  585k\r\n"
       ]
      },
      {
       "output_type": "stream",
       "stream": "stdout",
       "text": [
        "  % Total    % Received % Xferd  Average Speed   Time    Time     Time  Current\r\n",
        "                                 Dload  Upload   Total   Spent    Left  Speed\r\n",
        "\r",
        "  0     0    0     0    0     0      0      0 --:--:-- --:--:-- --:--:--     0"
       ]
      },
      {
       "output_type": "stream",
       "stream": "stdout",
       "text": [
        "\r",
        "  0 7610k    0  1104    0     0   2251      0  0:57:41 --:--:--  0:57:41  2248"
       ]
      },
      {
       "output_type": "stream",
       "stream": "stdout",
       "text": [
        "\r",
        "  0 7610k    0 44880    0     0  27446      0  0:04:43  0:00:01  0:04:42 27432"
       ]
      },
      {
       "output_type": "stream",
       "stream": "stdout",
       "text": [
        "\r",
        "  2 7610k    2  158k    0     0  63099      0  0:02:03  0:00:02  0:02:01 63093"
       ]
      },
      {
       "output_type": "stream",
       "stream": "stdout",
       "text": [
        "\r",
        "  5 7610k    5  452k    0     0   128k      0  0:00:59  0:00:03  0:00:56  128k"
       ]
      },
      {
       "output_type": "stream",
       "stream": "stdout",
       "text": [
        "\r",
        " 10 7610k   10  769k    0     0   166k      0  0:00:45  0:00:04  0:00:41  166k"
       ]
      },
      {
       "output_type": "stream",
       "stream": "stdout",
       "text": [
        "\r",
        " 12 7610k   12  970k    0     0   178k      0  0:00:42  0:00:05  0:00:37  196k"
       ]
      },
      {
       "output_type": "stream",
       "stream": "stdout",
       "text": [
        "\r",
        " 15 7610k   15 1186k    0     0   176k      0  0:00:43  0:00:06  0:00:37  223k"
       ]
      },
      {
       "output_type": "stream",
       "stream": "stdout",
       "text": [
        "\r",
        " 19 7610k   19 1483k    0     0   199k      0  0:00:38  0:00:07  0:00:31  273k"
       ]
      },
      {
       "output_type": "stream",
       "stream": "stdout",
       "text": [
        "\r",
        " 21 7610k   21 1613k    0     0   188k      0  0:00:40  0:00:08  0:00:32  229k"
       ]
      },
      {
       "output_type": "stream",
       "stream": "stdout",
       "text": [
        "\r",
        " 25 7610k   25 1914k    0     0   203k      0  0:00:37  0:00:09  0:00:28  238k"
       ]
      },
      {
       "output_type": "stream",
       "stream": "stdout",
       "text": [
        "\r",
        " 27 7610k   27 2091k    0     0   200k      0  0:00:37  0:00:10  0:00:27  224k"
       ]
      },
      {
       "output_type": "stream",
       "stream": "stdout",
       "text": [
        "\r",
        " 30 7610k   30 2337k    0     0   202k      0  0:00:37  0:00:11  0:00:26  238k"
       ]
      },
      {
       "output_type": "stream",
       "stream": "stdout",
       "text": [
        "\r",
        " 33 7610k   33 2520k    0     0   202k      0  0:00:37  0:00:12  0:00:25  207k"
       ]
      },
      {
       "output_type": "stream",
       "stream": "stdout",
       "text": [
        "\r",
        " 36 7610k   36 2777k    0     0   206k      0  0:00:36  0:00:13  0:00:23  238k"
       ]
      },
      {
       "output_type": "stream",
       "stream": "stdout",
       "text": [
        "\r",
        " 40 7610k   40 3067k    0     0   211k      0  0:00:36  0:00:14  0:00:22  225k"
       ]
      },
      {
       "output_type": "stream",
       "stream": "stdout",
       "text": [
        "\r",
        " 43 7610k   43 3318k    0     0   214k      0  0:00:35  0:00:15  0:00:20  242k"
       ]
      },
      {
       "output_type": "stream",
       "stream": "stdout",
       "text": [
        "\r",
        " 46 7610k   46 3569k    0     0   217k      0  0:00:35  0:00:16  0:00:19  253k"
       ]
      },
      {
       "output_type": "stream",
       "stream": "stdout",
       "text": [
        "\r",
        " 50 7610k   50 3849k    0     0   220k      0  0:00:34  0:00:17  0:00:17  262k"
       ]
      },
      {
       "output_type": "stream",
       "stream": "stdout",
       "text": [
        "\r",
        " 54 7610k   54 4111k    0     0   223k    "
       ]
      },
      {
       "output_type": "stream",
       "stream": "stdout",
       "text": [
        "  0  0:00:34  0:00:18  0:00:16  267k"
       ]
      },
      {
       "output_type": "stream",
       "stream": "stdout",
       "text": [
        "\r",
        " 57 7610k   57 4386k    0     0   225k      0  0:00:33  0:00:19  0:00:14  266k"
       ]
      },
      {
       "output_type": "stream",
       "stream": "stdout",
       "text": [
        "\r",
        " 60 7610k   60 4595k    0     0   221k      0  0:00:34  0:00:20  0:00:14  243k"
       ]
      },
      {
       "output_type": "stream",
       "stream": "stdout",
       "text": [
        "\r",
        " 63 7610k   63 4846k    0     0   225k      0  0:00:33  0:00:21  0:00:12  253k"
       ]
      },
      {
       "output_type": "stream",
       "stream": "stdout",
       "text": [
        "\r",
        " 66 7610k   66 5096k    0     0   227k      0  0:00:33  0:00:22  0:00:11  251k"
       ]
      },
      {
       "output_type": "stream",
       "stream": "stdout",
       "text": [
        "\r",
        " 70 7610k   70 5371k    0     0   229k      0  0:00:33  0:00:23  0:00:10  252k"
       ]
      },
      {
       "output_type": "stream",
       "stream": "stdout",
       "text": [
        "\r",
        " 73 7610k   73 5599k    0     0   228k      0  0:00:33  0:00:24  0:00:09  241k"
       ]
      },
      {
       "output_type": "stream",
       "stream": "stdout",
       "text": [
        "\r",
        " 76 7610k   76 5851k    0     0   228k      0  0:00:33  0:00:25  0:00:08  259k"
       ]
      },
      {
       "output_type": "stream",
       "stream": "stdout",
       "text": [
        "\r",
        " 80 7610k   80 6104k    0     0   229k      0  0:00:33  0:00:26  0:00:07  245k"
       ]
      },
      {
       "output_type": "stream",
       "stream": "stdout",
       "text": [
        "\r",
        " 82 7610k   82 6294k    0     0   228k      0  0:00:33  0:00:27  0:00:06  236k"
       ]
      },
      {
       "output_type": "stream",
       "stream": "stdout",
       "text": [
        "\r",
        " 85 7610k   85 6528k    0     0   226k      0  0:00:33  0:00:28  0:00:05  213k"
       ]
      },
      {
       "output_type": "stream",
       "stream": "stdout",
       "text": [
        "\r",
        " 86 7610k   86 6549k    0     0   221k      0  0:00:34  0:00:29  0:00:05  188k"
       ]
      },
      {
       "output_type": "stream",
       "stream": "stdout",
       "text": [
        "\r",
        " 87 7610k   87 6676k    0     0   219k      0  0:00:34  0:00:30  0:00:04  169k"
       ]
      },
      {
       "output_type": "stream",
       "stream": "stdout",
       "text": [
        "\r",
        " 88 7610k   88 6740k    0     0   214k      0  0:00:35  0:00:31  0:00:04"
       ]
      },
      {
       "output_type": "stream",
       "stream": "stdout",
       "text": [
        "  131k"
       ]
      },
      {
       "output_type": "stream",
       "stream": "stdout",
       "text": [
        "\r",
        " 91 7610k   91 6970k    0     0   214k      0  0:00:35  0:00:32  0:00:03  136k"
       ]
      },
      {
       "output_type": "stream",
       "stream": "stdout",
       "text": [
        "\r",
        " 97 7610k   97 7427k    0     0   221k      0  0:00:34  0:00:33  0:00:01  193k"
       ]
      },
      {
       "output_type": "stream",
       "stream": "stdout",
       "text": [
        "\r",
        " 99 7610k   99 7601k    0     0   220k      0  0:00:34  0:00:34 --:--:--  214k"
       ]
      },
      {
       "output_type": "stream",
       "stream": "stdout",
       "text": [
        "\r",
        "100 7610k  100 7610k    0     0   215k      0  0:00:35  0:00:35 --:--:--  193k\r\n"
       ]
      },
      {
       "output_type": "stream",
       "stream": "stdout",
       "text": [
        "  % Total    % Received % Xferd  Average Speed   Time    Time     Time  Current\r\n",
        "                                 Dload  Upload   Total   Spent    Left  Speed\r\n",
        "\r",
        "  0     0    0     0    0     0      0      0 --:--:-- --:--:-- --:--:--     0"
       ]
      },
      {
       "output_type": "stream",
       "stream": "stdout",
       "text": [
        "\r",
        "  0     0    0     0    0     0      0      0 --:--:-- --:--:-- --:--:--     0"
       ]
      },
      {
       "output_type": "stream",
       "stream": "stdout",
       "text": [
        "\r",
        "  0 4705k    0 20256    0     0  19251      0  0:04:10  0:00:01  0:04:09 19236"
       ]
      },
      {
       "output_type": "stream",
       "stream": "stdout",
       "text": [
        "\r",
        "  3 4705k    3  150k    0     0  68298      0  0:01:10  0:00:02  0:01:08 68283"
       ]
      },
      {
       "output_type": "stream",
       "stream": "stdout",
       "text": [
        "\r",
        "  6 4705k    6  320k    0     0   101k      0  0:00:46  0:00:03  0:00:43  101k"
       ]
      },
      {
       "output_type": "stream",
       "stream": "stdout",
       "text": [
        "\r",
        " 10 4705k   10  480k    0     0   115k      0  0:00:40  0:00:04  0:00:36  115k"
       ]
      },
      {
       "output_type": "stream",
       "stream": "stdout",
       "text": [
        "\r",
        " 14 4705k   14  674k    0     0   128k      0  0:00:36  0:00:05  0:00:31  134k"
       ]
      },
      {
       "output_type": "stream",
       "stream": "stdout",
       "text": [
        "\r",
        " 16 4705k   16  777k    0     0   128k      0  0:00:36  0:00:06  0:00:30  151k"
       ]
      },
      {
       "output_type": "stream",
       "stream": "stdout",
       "text": [
        "\r",
        " 19 4705k   19  900k    0     0   122k      0  0:00:38  0:00:07  0:00:31  147k"
       ]
      },
      {
       "output_type": "stream",
       "stream": "stdout",
       "text": [
        "\r",
        " 21 4705k   21  992k    0     0   122k      0  0:00:38  0:00:08  0:00:30  136k"
       ]
      },
      {
       "output_type": "stream",
       "stream": "stdout",
       "text": [
        "\r",
        " 24 4705k   24 1136k    0     0   123k      0  0:00:37  0:00:09  0:00:28  130k"
       ]
      },
      {
       "output_type": "stream",
       "stream": "stdout",
       "text": [
        "\r",
        " 26 4705k   26 1260k    0     0   123k      0  0:00:38  0:00:10  0:00:28  118k"
       ]
      },
      {
       "output_type": "stream",
       "stream": "stdout",
       "text": [
        "\r",
        " 29 4705k   29 1386k    0     0   123k      0  0:00:37  0:00:11  0:00:26  119k"
       ]
      },
      {
       "output_type": "stream",
       "stream": "stdout",
       "text": [
        "\r",
        " 31 4705k   31 1505k    0     0   123k      0  0:00:37  0:00:12  0:00:25  126k"
       ]
      },
      {
       "output_type": "stream",
       "stream": "stdout",
       "text": [
        "\r",
        " 34 4705k   34 1614k    0     0   123k      0  0:00:38  0:00:13  0:00:25  123k"
       ]
      },
      {
       "output_type": "stream",
       "stream": "stdout",
       "text": [
        "\r",
        " 37 4705k   37 1748k    0     0   123k      0  0:00:38  0:00:14  0:00:24  121k"
       ]
      },
      {
       "output_type": "stream",
       "stream": "stdout",
       "text": [
        "\r",
        " 39 4705k   39 1852k    0     0   122k      0  0:00:38  0:00:15  0:00:23  120k"
       ]
      },
      {
       "output_type": "stream",
       "stream": "stdout",
       "text": [
        "\r",
        " 42 4705k   42 1979k    0     0   122k      0  0:00:38  0:00:16  0:00:22  120k"
       ]
      },
      {
       "output_type": "stream",
       "stream": "stdout",
       "text": [
        "\r",
        " 44 4705k   44 2115k    0     0   124k      0  0:00:37  0:00:17  0:00:20  124k"
       ]
      },
      {
       "output_type": "stream",
       "stream": "stdout",
       "text": [
        "\r",
        " 47 4705k   47 2248k    0     0   124k      0  0:00:37  0:00:18  0:00:19  127k"
       ]
      },
      {
       "output_type": "stream",
       "stream": "stdout",
       "text": [
        "\r",
        " 50 4705k   50 2391k    0     0   124k      0  0:00:37  0:00:19  0:00:18  129k"
       ]
      },
      {
       "output_type": "stream",
       "stream": "stdout",
       "text": [
        "\r",
        " 53 4705k   53 2532k    0     0   125k      0  0:00:37  0:00:20  0:00:17  134k"
       ]
      },
      {
       "output_type": "stream",
       "stream": "stdout",
       "text": [
        "\r",
        " 56 4705k   56 2659k    0     0   126k      0  0:00:37  0:00:21  0:00:16  136k"
       ]
      },
      {
       "output_type": "stream",
       "stream": "stdout",
       "text": [
        "\r",
        " 59 4705k   59 2799k    0     0   126k      0  0:00:37  0:00:22  0:00:15  136k"
       ]
      },
      {
       "output_type": "stream",
       "stream": "stdout",
       "text": [
        "\r",
        " 63 4705k   63 2973k    0     0   128k      0  0:00:36  0:00:23  0:00:13  143k"
       ]
      },
      {
       "output_type": "stream",
       "stream": "stdout",
       "text": [
        "\r",
        " 66 4705k   66 3148k    0     0   130k      0  0:00:36  0:00:24  0:00:12  150k"
       ]
      },
      {
       "output_type": "stream",
       "stream": "stdout",
       "text": [
        "\r",
        " 69 4705k   69 3292k    0     0   131k      0  0:00:35  0:00:25  0:00:10  154k"
       ]
      },
      {
       "output_type": "stream",
       "stream": "stdout",
       "text": [
        "\r",
        " 73 4705k   73 3478k    0     0   133k      0  0:00:35  0:00:26  0:00:09  165k"
       ]
      },
      {
       "output_type": "stream",
       "stream": "stdout",
       "text": [
        "\r",
        " 80 4705k   80 3773k    0     0   139k      0  0:00:33  0:00:27  0:00:06  191k"
       ]
      },
      {
       "output_type": "stream",
       "stream": "stdout",
       "text": [
        "\r",
        " 90 4705k   90 4274k    0     0   151k      0  0:00:31  0:00:28  0:00:03  255k"
       ]
      },
      {
       "output_type": "stream",
       "stream": "stdout",
       "text": [
        "\r",
        " 99 4705k   99 4698k    0     0   159k      0  0:00:29  0:00:29 --:--:--  293k"
       ]
      },
      {
       "output_type": "stream",
       "stream": "stdout",
       "text": [
        "\r",
        "100 4705k  100 4705k    0     0   155k      0  0:00:30  0:00:30 --:--:--  270k\r",
        "100 4705k  100 4705k    0     0   155k      0  0:00:30  0:00:30 --:--:--  289k\r\n"
       ]
      },
      {
       "output_type": "stream",
       "stream": "stdout",
       "text": [
        "  % Total    % Received % Xferd  Average Speed   Time    Time     Time  Current\r\n",
        "                                 Dload  Upload   Total   Spent    Left  Speed\r\n",
        "\r",
        "  0     0    0     0    0     0      0      0 --:--:-- --:--:-- --:--:--     0"
       ]
      },
      {
       "output_type": "stream",
       "stream": "stdout",
       "text": [
        "\r",
        "  0 4527k    0  9312    0     0  11433      0  0:06:45 --:--:--  0:06:45 11425"
       ]
      },
      {
       "output_type": "stream",
       "stream": "stdout",
       "text": [
        "\r",
        "  0 4527k    0 33936    0     0  20243      0  0:03:49  0:00:01  0:03:48 20236"
       ]
      },
      {
       "output_type": "stream",
       "stream": "stdout",
       "text": [
        "\r",
        "  4 4527k    4  213k    0     0  81358      0  0:00:56  0:00:02  0:00:54 81360"
       ]
      },
      {
       "output_type": "stream",
       "stream": "stdout",
       "text": [
        "\r",
        " 15 4527k   15  686k    0     0   180k      0  0:00:25  0:00:03  0:00:22  180k"
       ]
      },
      {
       "output_type": "stream",
       "stream": "stdout",
       "text": [
        "\r",
        " 21 4527k   21  969k    0     0   207k      0  0:00:21  0:00:04  0:00:17  207k"
       ]
      },
      {
       "output_type": "stream",
       "stream": "stdout",
       "text": [
        "\r",
        " 30 4527k   30 1366k    0     0   242k      0  0:00:18  0:00:05  0:00:13  281k"
       ]
      },
      {
       "output_type": "stream",
       "stream": "stdout",
       "text": [
        "\r",
        " 39 4527k   39 1801k    0     0   271k      0  0:00:16  0:00:06  0:00:10  357k"
       ]
      },
      {
       "output_type": "stream",
       "stream": "stdout",
       "text": [
        "\r",
        " 48 4527k   48 2198k    0     0   285k      0  0:00:15  0:00:07  0:00:08  395k"
       ]
      },
      {
       "output_type": "stream",
       "stream": "stdout",
       "text": [
        "\r",
        " 56 4527k   56 2570k    0     0   296k      0  0:00:15  0:00:08  0:00:07  386k"
       ]
      },
      {
       "output_type": "stream",
       "stream": "stdout",
       "text": [
        "\r",
        " 65 4527k   65 2949k    0     0   300k      0  0:00:15  0:00:09  0:00:06  386k"
       ]
      },
      {
       "output_type": "stream",
       "stream": "stdout",
       "text": [
        "\r",
        " 70 4527k   70 3180k    0     0   298k      0  0:00:15  0:00:10  0:00:05  362k"
       ]
      },
      {
       "output_type": "stream",
       "stream": "stdout",
       "text": [
        "\r",
        " 75 4527k   75 3438k    0     0   294k      0  0:00:15  0:00:11  0:00:04  324k"
       ]
      },
      {
       "output_type": "stream",
       "stream": "stdout",
       "text": [
        "\r",
        " 81 4527k   81 3690k    0     0   290k      0  0:00:15  0:00:12  0:00:03  298k"
       ]
      },
      {
       "output_type": "stream",
       "stream": "stdout",
       "text": [
        "\r",
        " 86 4527k   86 3936k    0     0   285k      0  0:00:15  0:00:13  0:00:02  266k"
       ]
      },
      {
       "output_type": "stream",
       "stream": "stdout",
       "text": [
        "\r",
        " 92 4527k   92 4193k    0     0   281k      0  0:00:16  0:00:14  0:00:02  243k"
       ]
      },
      {
       "output_type": "stream",
       "stream": "stdout",
       "text": [
        "\r",
        " 96 4527k   96 4386k    0     0   276k      0  0:00:16  0:00:15  0:00:01  231k"
       ]
      },
      {
       "output_type": "stream",
       "stream": "stdout",
       "text": [
        "\r",
        "100 4527k  100 4527k    0     0   275k      0  0:00:16  0:00:16 --:--:--  229k\r\n"
       ]
      },
      {
       "output_type": "stream",
       "stream": "stdout",
       "text": [
        "  % Total    % Received % Xferd  Average Speed   Time    Time     Time  Current\r\n",
        "                                 Dload  Upload   Total   Spent    Left  Speed\r\n",
        "\r",
        "  0     0    0     0    0     0      0      0 --:--:-- --:--:-- --:--:--     0"
       ]
      },
      {
       "output_type": "stream",
       "stream": "stdout",
       "text": [
        "\r",
        "  0     0    0     0    0     0      0      0 --:--:-- --:--:-- --:--:--     0"
       ]
      },
      {
       "output_type": "stream",
       "stream": "stdout",
       "text": [
        "\r",
        "  0 4426k    0 13416    0     0  11999      0  0:06:17  0:00:01  0:06:16 12000"
       ]
      },
      {
       "output_type": "stream",
       "stream": "stdout",
       "text": [
        "\r",
        "  2 4426k    2 94128    0     0  40159      0  0:01:52  0:00:02  0:01:50 40156"
       ]
      },
      {
       "output_type": "stream",
       "stream": "stdout",
       "text": [
        "\r",
        "  7 4426k    7  337k    0     0   109k      0  0:00:40  0:00:03  0:00:37  109k"
       ]
      },
      {
       "output_type": "stream",
       "stream": "stdout",
       "text": [
        "\r",
        " 19 4426k   19  842k    0     0   "
       ]
      },
      {
       "output_type": "stream",
       "stream": "stdout",
       "text": [
        "203k      0  0:00:21  0:00:04  0:00:17  203k"
       ]
      },
      {
       "output_type": "stream",
       "stream": "stdout",
       "text": [
        "\r",
        " 30 4426k   30 1345k    0     0   262k      0  0:00:16  0:00:05  0:00:11  273k"
       ]
      },
      {
       "output_type": "stream",
       "stream": "stdout",
       "text": [
        "\r",
        " 32 4426k   32 1447k    0     0   234k      0  0:00:18  0:00:06  0:00:12  283k"
       ]
      },
      {
       "output_type": "stream",
       "stream": "stdout",
       "text": [
        "\r",
        " 41 4426k   41 1839k    0     0   257k      0  0:00:17  0:00:07  0:00:10  363k"
       ]
      },
      {
       "output_type": "stream",
       "stream": "stdout",
       "text": [
        "\r",
        " 53 4426k   53 2350k    0     0   286k      0  0:00:15  0:00:08  0:00:07  394k"
       ]
      },
      {
       "output_type": "stream",
       "stream": "stdout",
       "text": [
        "\r",
        " 65 4426k   65 2901k    0     0   307k      0  0:00:14  0:00:09  0:00:05  387k"
       ]
      },
      {
       "output_type": "stream",
       "stream": "stdout",
       "text": [
        "\r",
        " 74 4426k   74 3296k    0     0   325k      0  0:00:13  0:00:10  0:00:03  389k"
       ]
      },
      {
       "output_type": "stream",
       "stream": "stdout",
       "text": [
        "\r",
        " 85 4426k   85 3784k    0     0   337k      0  0:00:13  0:00:11  0:00:02  463k"
       ]
      },
      {
       "output_type": "stream",
       "stream": "stdout",
       "text": [
        "\r",
        " 96 4426k   96 4286k    0     0   351k      0  0:00:12  0:00:12 --:--:--  486k"
       ]
      },
      {
       "output_type": "stream",
       "stream": "stdout",
       "text": [
        "\r",
        "100 4426k  100 4426k    0     0   356k      0  0:00:12  0:00:12 --:--:--  489k\r\n"
       ]
      },
      {
       "output_type": "stream",
       "stream": "stdout",
       "text": [
        "  % Total    % Received % Xferd  Average Speed   Time    Time     Time  Current\r\n",
        "                                 Dload  Upload   Total   Spent    Left  Speed\r\n",
        "\r",
        "  0     0    0     0    0     0      0      0 --:--:-- --:--:-- --:--:--     0"
       ]
      },
      {
       "output_type": "stream",
       "stream": "stdout",
       "text": [
        "\r",
        "  0 4649k    0  1104    0     0   2030      0  0:39:05 --:--:--  0:39:05  2029"
       ]
      },
      {
       "output_type": "stream",
       "stream": "stdout",
       "text": [
        "\r",
        "  0 4649k    0 43512    0     0  24188      0  0:03:16  0:00:01  0:03:15 24186"
       ]
      },
      {
       "output_type": "stream",
       "stream": "stdout",
       "text": [
        "\r",
        "  3 4649k    3  140k    0     0  54383      0  0:01:27  0:00:02  0:01:25 54370"
       ]
      },
      {
       "output_type": "stream",
       "stream": "stdout",
       "text": [
        "\r",
        " 10 4649k   10  508k    0     0   138k      0  0:00:33  0:00:03  0:00:30  138k"
       ]
      },
      {
       "output_type": "stream",
       "stream": "stdout",
       "text": [
        "\r",
        " 22 4649k   22 1064k    0     0   227k      0  0:00:20  0:00:04  0:00:16  227k"
       ]
      },
      {
       "output_type": "stream",
       "stream": "stdout",
       "text": [
        "\r",
        " 29 4649k   29 1374k    0     0   247k      0  0:00:18  0:00:05  0:00:13  274k"
       ]
      },
      {
       "output_type": "stream",
       "stream": "stdout",
       "text": [
        "\r",
        " 36 4649k   36 1681k    0     0   256k      0  0:00:18  0:00"
       ]
      },
      {
       "output_type": "stream",
       "stream": "stdout",
       "text": [
        ":06  0:00:12  344k"
       ]
      },
      {
       "output_type": "stream",
       "stream": "stdout",
       "text": [
        "\r",
        " 44 4649k   44 2061k    0     0   273k      0  0:00:17  0:00:07  0:00:10  391k"
       ]
      },
      {
       "output_type": "stream",
       "stream": "stdout",
       "text": [
        "\r",
        " 51 4649k   51 2405k    0     0   280k      0  0:00:16  0:00:08  0:00:08  385k"
       ]
      },
      {
       "output_type": "stream",
       "stream": "stdout",
       "text": [
        "\r",
        " 58 4649k   58 2730k    0     0   276k      0  0:00:16  0:00:09  0:00:07  320k"
       ]
      },
      {
       "output_type": "stream",
       "stream": "stdout",
       "text": [
        "\r",
        " 63 4649k   63 2944k    0     0   277k      0  0:00:16  0:00:10  0:00:06  309k"
       ]
      },
      {
       "output_type": "stream",
       "stream": "stdout",
       "text": [
        "\r",
        " 68 4649k   68 3207k    0     0   273k      0  0:00"
       ]
      },
      {
       "output_type": "stream",
       "stream": "stdout",
       "text": [
        ":16  0:00:11  0:00:05  295k"
       ]
      },
      {
       "output_type": "stream",
       "stream": "stdout",
       "text": [
        "\r",
        " 73 4649k   73 3397k    0     0   270k      0  0:00:17  0:00:12  0:00:05  266k"
       ]
      },
      {
       "output_type": "stream",
       "stream": "stdout",
       "text": [
        "\r",
        " 78 4649k   78 3645k    0     0   268k      0  0:00:17  0:00:13  0:00:04  247k"
       ]
      },
      {
       "output_type": "stream",
       "stream": "stdout",
       "text": [
        "\r",
        " 82 4649k   82 3845k    0     0   264k      0  0:00:17  0:00:14  0:00:03  239k"
       ]
      },
      {
       "output_type": "stream",
       "stream": "stdout",
       "text": [
        "\r",
        " 88 4649k   88 4091k    0     0   262k      0  0:00:17  0:00:15  0:00:02  231k"
       ]
      },
      {
       "output_type": "stream",
       "stream": "stdout",
       "text": [
        "\r",
        " 93 4649k   93 4344k    0     0   261k      0  0:00:17  0:00:16  0:00:01  231k"
       ]
      },
      {
       "output_type": "stream",
       "stream": "stdout",
       "text": [
        "\r",
        " 97 4649k   97 4533k    0     0   257k      0  0:00:18  0:00:17  0:00:01  226k"
       ]
      },
      {
       "output_type": "stream",
       "stream": "stdout",
       "text": [
        "\r",
        "100 4649k  100 4649k    0     0   259k      0  0:00:17  0:00:17 --:--:--  233k\r\n"
       ]
      },
      {
       "output_type": "stream",
       "stream": "stdout",
       "text": [
        "  % Total    % Received % Xferd  Average Speed   Time    Time     Time  Current\r\n",
        "                                 Dload  Upload   Total   Spent    Left  Speed\r\n",
        "\r",
        "  0     0    0     0    0     0      0      0 --:--:-- --:--:-- --:--:--     0"
       ]
      },
      {
       "output_type": "stream",
       "stream": "stdout",
       "text": [
        "\r",
        "  0     0    0     0    0     0      0      0 --:--:-- --:--:-- --:--:--     0"
       ]
      },
      {
       "output_type": "stream",
       "stream": "stdout",
       "text": [
        "\r",
        "  0 4444k    0 22992    0     0  13539      0  0:05:36  0:00:01  0:05:35 13532"
       ]
      },
      {
       "output_type": "stream",
       "stream": "stdout",
       "text": [
        "\r",
        "  3 4444k    3  140k    0     0  53903      0  0:01:24  0:00:02  0:01:22 53900"
       ]
      },
      {
       "output_type": "stream",
       "stream": "stdout",
       "text": [
        "\r",
        "  7 4444k    7  331k    0     0  95861      0  0:00:47  0:00:03  0:00:44 95843"
       ]
      },
      {
       "output_type": "stream",
       "stream": "stdout",
       "text": [
        "\r",
        "  8 4444k    8  363k    0     0  80986      0  0:00:56  0:00:04  0:00:52 80973"
       ]
      },
      {
       "output_type": "stream",
       "stream": "stdout",
       "text": [
        "\r",
        "  8 4444k    8  397k    0     0  73734      0  0:01:01  0:00:05  0:00:56 82236"
       ]
      },
      {
       "output_type": "stream",
       "stream": "stdout",
       "text": [
        "\r",
        " 14 4444k   14  639k    0     0  98045      0  0:00:46  0:00:06  0:00:40  123k"
       ]
      },
      {
       "output_type": "stream",
       "stream": "stdout",
       "text": [
        "\r",
        " 18 4444k   18  829k    0     0   110k      0  0:00:40  0:00:07  0:00:33  141k"
       ]
      },
      {
       "output_type": "stream",
       "stream": "stdout",
       "text": [
        "\r",
        " 24 4444k   24 1081k    0     0   124k      0  0:00:35  0:00:08  0:00:27  146k"
       ]
      },
      {
       "output_type": "stream",
       "stream": "stdout",
       "text": [
        "\r",
        " 28 4444k   28 1272k    0     0   133k      0  0:00:33  0:00:09  0:00:24  184k"
       ]
      },
      {
       "output_type": "stream",
       "stream": "stdout",
       "text": [
        "\r",
        " 34 4444k   34 1552k    0     0   147k      0  0:00:30  0:00:10  0:00:20  230k"
       ]
      },
      {
       "output_type": "stream",
       "stream": "stdout",
       "text": [
        "\r",
        " 41 4444k   41 1828k    0     0   156k      0  0:00:28  0:00:11  0:00:17  236k"
       ]
      },
      {
       "output_type": "stream",
       "stream": "stdout",
       "text": [
        "\r",
        " 46 4444k   46 2085k    0     0   163k      0  0:00:27  0:00:12  0:00:15  241k"
       ]
      },
      {
       "output_type": "stream",
       "stream": "stdout",
       "text": [
        "\r",
        " 52 4444k   52 2333k    0     0   170k      0  0:00:26  0:00:13  0:00:13  249k"
       ]
      },
      {
       "output_type": "stream",
       "stream": "stdout",
       "text": [
        "\r",
        " 58 4444k   58 2586k    0     0   176k      0  0:00:25  0:00:14  0:00:11  256k"
       ]
      },
      {
       "output_type": "stream",
       "stream": "stdout",
       "text": [
        "\r",
        " 62 4444k   62 2787k    0     0   179k      0  0:00:24  0:00:15  0:00:09  247k"
       ]
      },
      {
       "output_type": "stream",
       "stream": "stdout",
       "text": [
        "\r",
        " 69 4444k   69 3088k    0     0   184k      0  0:00:24  0:00:16  0:00:08  252k"
       ]
      },
      {
       "output_type": "stream",
       "stream": "stdout",
       "text": [
        "\r",
        " 75 4444k   75 3340k    0     0   189k      0  0:00:23  0:00:17  0:00:06  254k"
       ]
      },
      {
       "output_type": "stream",
       "stream": "stdout",
       "text": [
        "\r",
        " 80 4444k   80 3593k    0     0   193k      0  0:00:23  0:00:18  0:00:05  255k"
       ]
      },
      {
       "output_type": "stream",
       "stream": "stdout",
       "text": [
        "\r",
        " 86 4444k   86 3824k    0     0   195k      0  0:00:22  0:00:19  0:00:0"
       ]
      },
      {
       "output_type": "stream",
       "stream": "stdout",
       "text": [
        "3  252k"
       ]
      },
      {
       "output_type": "stream",
       "stream": "stdout",
       "text": [
        "\r",
        " 91 4444k   91 4065k    0     0   197k      0  0:00:22  0:00:20  0:00:02  253k"
       ]
      },
      {
       "output_type": "stream",
       "stream": "stdout",
       "text": [
        "\r",
        " 96 4444k   96 4286k    0     0   199k      0  0:00:22  0:00:21  0:00:01  248k"
       ]
      },
      {
       "output_type": "stream",
       "stream": "stdout",
       "text": [
        "\r",
        "100 4444k  100 4444k    0     0   202k      0  0:00:21  0:00:21 --:--:--  257k\r\n"
       ]
      },
      {
       "output_type": "stream",
       "stream": "stdout",
       "text": [
        "  % Total    % Received % Xferd  Average Speed   Time    Time     Time  Current\r\n",
        "                                 Dload  Upload   Total   Spent    Left  Speed\r\n",
        "\r",
        "  0     0    0     0    0     0      0      0 --:--:-- --:--:-- --:--:--     0"
       ]
      },
      {
       "output_type": "stream",
       "stream": "stdout",
       "text": [
        "\r",
        "  0 3743k    0  1104    0     0   2276      0  0:28:04 --:--:--  0:28:04  2276"
       ]
      },
      {
       "output_type": "stream",
       "stream": "stdout",
       "text": [
        "\r",
        "  1 3743k    1 40776    0     0  28268      0  0:02:15  0:00:01  0:02:14 28257"
       ]
      },
      {
       "output_type": "stream",
       "stream": "stdout",
       "text": [
        "\r",
        "  6 3743k    6  229k    0     0  96274      0  0:00:39  0:00:02  0:00:37 96245"
       ]
      },
      {
       "output_type": "stream",
       "stream": "stdout",
       "text": [
        "\r",
        " 15 3743k   15  587k    0     0   152k      0  0:00:24  0:00:03  0:00:21  152k"
       ]
      },
      {
       "output_type": "stream",
       "stream": "stdout",
       "text": [
        "\r",
        " 16 3743k   16  632k    0     0   139k      0  0:00:26  0:00:04  0:00:22  139k"
       ]
      },
      {
       "output_type": "stream",
       "stream": "stdout",
       "text": [
        "\r",
        " 23 3743k   23  894k    0     0   164k      0  0:00:22  0:00:05  0:00:17  179k"
       ]
      },
      {
       "output_type": "stream",
       "stream": "stdout",
       "text": [
        "\r",
        " 26 3743k   26  997k    0     0   153k      0  0:00:24  0:00:06  0:00:18  189k"
       ]
      },
      {
       "output_type": "stream",
       "stream": "stdout",
       "text": [
        "\r",
        " 29 3743k   29 1100k    0     0   147k      0  0:00:25  0:00:07  0:00:18  173k"
       ]
      },
      {
       "output_type": "stream",
       "stream": "stdout",
       "text": [
        "\r",
        " 32 3743k   32 1203k    0     0   142k      0  0:00:26  0:00:08  0:00:18  133k"
       ]
      },
      {
       "output_type": "stream",
       "stream": "stdout",
       "text": [
        "\r",
        " 34 3743k   34 1300k    0     0   137k      0  0:00:27  0:00:09  0:00:18  135k"
       ]
      },
      {
       "output_type": "stream",
       "stream": "stdout",
       "text": [
        "\r",
        " 37 3743k   37 1417k    0     0   134k      0  0:00:27  0:00:10  0:00:17  102k"
       ]
      },
      {
       "output_type": "stream",
       "stream": "stdout",
       "text": [
        "\r",
        " 41 3743k   41 1541k    0     0   132k      0  0:00:28  0:00:11  0:00:17  104k"
       ]
      },
      {
       "output_type": "stream",
       "stream": "stdout",
       "text": [
        "\r",
        " 43 3743k   43 1629k    0     0   130k      0  0:00:28  0:00:12  0:00:16  105k"
       ]
      },
      {
       "output_type": "stream",
       "stream": "stdout",
       "text": [
        "\r",
        " 46 3743k   46 1724k    0     0   128k      0  0:00:29  0:00:13  0:00:16  104k"
       ]
      },
      {
       "output_type": "stream",
       "stream": "stdout",
       "text": [
        "\r",
        " 49 3743k   49 1847k    0     0   127k      0  0:00:29  0:00:14  0:00:15  108k"
       ]
      },
      {
       "output_type": "stream",
       "stream": "stdout",
       "text": [
        "\r",
        " 52 3743k   52 1951k    0     0   126k      0  0:00:29  0:00:15  0:00:14  108k"
       ]
      },
      {
       "output_type": "stream",
       "stream": "stdout",
       "text": [
        "\r",
        " 57 3743k   57 2167k    0     0   131k      0  0:00:28  0:00:16  0:00:12  130k"
       ]
      },
      {
       "output_type": "stream",
       "stream": "stdout",
       "text": [
        "\r",
        " 58 3743k   58 2201k    0     0   125k      0  0:00:29  0:00:17  0:00:12  114k"
       ]
      },
      {
       "output_type": "stream",
       "stream": "stdout",
       "text": [
        "\r",
        " 66 3743k   66 2471k    0     0   133k      0  0:00:27  0:00:18  0:00:09  148k"
       ]
      },
      {
       "output_type": "stream",
       "stream": "stdout",
       "text": [
        "\r",
        " 71 3743k   71 2674k    0     0   137k      0  0:00:27  0:00:19  0:00:08  165k"
       ]
      },
      {
       "output_type": "stream",
       "stream": "stdout",
       "text": [
        "\r",
        " 76 3743k   76 2851k    0     0   139k      0  0:00:26  0:00:20  0:00:06  180k"
       ]
      },
      {
       "output_type": "stream",
       "stream": "stdout",
       "text": [
        "\r",
        " 82 3743k   82 3085k    0     0   143k      0  0:"
       ]
      },
      {
       "output_type": "stream",
       "stream": "stdout",
       "text": [
        "00:26  0:00:21  0:00:05  182k"
       ]
      },
      {
       "output_type": "stream",
       "stream": "stdout",
       "text": [
        "\r",
        " 94 3743k   94 3538k    0     0   156k      0  0:00:23  0:00:22  0:00:01  260k"
       ]
      },
      {
       "output_type": "stream",
       "stream": "stdout",
       "text": [
        "\r",
        "100 3743k  100 3743k    0     0   159k      0  0:00:23  0:00:23 --:--:--  258k\r\n"
       ]
      },
      {
       "output_type": "stream",
       "stream": "stdout",
       "text": [
        "  % Total    % Received % Xferd  Average Speed   Time    Time     Time  Current\r\n",
        "                                 Dload  Upload   Total   Spent    Left  Speed\r\n",
        "\r",
        "  0     0    0     0    0     0      0      0 --:--:-- --:--:-- --:--:--     0"
       ]
      },
      {
       "output_type": "stream",
       "stream": "stdout",
       "text": [
        "\r",
        "  0 7696k    0 12048    0     0  10666      0  0:12:18  0:00:01  0:12:17 10671"
       ]
      },
      {
       "output_type": "stream",
       "stream": "stdout",
       "text": [
        "\r",
        "  1 7696k    1 90024    0     0  44899      0  0:02:55  0:00:02  0:02:53 44922"
       ]
      },
      {
       "output_type": "stream",
       "stream": "stdout",
       "text": [
        "\r",
        "  5 7696k    5  413k    0     0   134k      0  0:00:57  0:00:03  0:00:54  134k"
       ]
      },
      {
       "output_type": "stream",
       "stream": "stdout",
       "text": [
        "\r",
        " 11 7696k   11  909k    0     0   232k      0  0:00:33  0:00:03  0:00:30  232k"
       ]
      },
      {
       "output_type": "stream",
       "stream": "stdout",
       "text": [
        "\r",
        " 16 7696k   16 1271k    0     0   231k      0  0:00:33  0:00:05  0:00:28  231k"
       ]
      },
      {
       "output_type": "stream",
       "stream": "stdout",
       "text": [
        "\r",
        " 19 7696k   19 1481k    0     0   245k      0  0:00:31  0:00:06  0:00:25  299k"
       ]
      },
      {
       "output_type": "stream",
       "stream": "stdout",
       "text": [
        "\r",
        " 24 7696k   24 1862k    0     0   261k      0  0:00:29  0:00:07  0:00:22  346k"
       ]
      },
      {
       "output_type": "stream",
       "stream": "stdout",
       "text": [
        "\r",
        " 24 7696k   24 1900k    0     0   238k      0  0:00:32  0:00:07  0:00:25  304k"
       ]
      },
      {
       "output_type": "stream",
       "stream": "stdout",
       "text": [
        "\r",
        " 26 7696k   26 2065k    0     0   229k      0  0:00:33  0:00:08  0:00:25  227k"
       ]
      },
      {
       "output_type": "stream",
       "stream": "stdout",
       "text": [
        "\r",
        " 30 7696k   30 2373k    0     0   238k      0  0:00:32  0:00:09  0:00:23  247k"
       ]
      },
      {
       "output_type": "stream",
       "stream": "stdout",
       "text": [
        "\r",
        " 39 7696k   39 3055k    0     0   267k      0  0:00:28  0:00:11  0:00:17  291k"
       ]
      },
      {
       "output_type": "stream",
       "stream": "stdout",
       "text": [
        "\r",
        " 45 7696k   45 3507k    0     0   294k      0  0:00:26  0:00:11  0:00:15  343k"
       ]
      },
      {
       "output_type": "stream",
       "stream": "stdout",
       "text": [
        "\r",
        " 51 7696k   51 3988k    0     0   302k      0  0:00:25  0:00:13  0:00:12  398k"
       ]
      },
      {
       "output_type": "stream",
       "stream": "stdout",
       "text": [
        "\r",
        " 56 7696k   56 4342k    0     0   311k      0  0:00:24  0:00:13  0:00:11  459k"
       ]
      },
      {
       "output_type": "stream",
       "stream": "stdout",
       "text": [
        "\r",
        " 57 7696k   57 4435k    0     0   294k      0  0:00:26  0:00:15  0:00:11  404k"
       ]
      },
      {
       "output_type": "stream",
       "stream": "stdout",
       "text": [
        "\r",
        " 61 7696k   61 4696k    0     0   287k      0  0:00:26  0:00:16  0:00:10  335k"
       ]
      },
      {
       "output_type": "stream",
       "stream": "stdout",
       "text": [
        "\r",
        " 66 7696k   66 5080k    0     0   300k      0  0:00:25  0:00:16  0:00:09  314k"
       ]
      },
      {
       "output_type": "stream",
       "stream": "stdout",
       "text": [
        "\r",
        " 70 7696k   70 5395k    0     0   298k      0  0:00:25  0:00:18  0:00:07  288k"
       ]
      },
      {
       "output_type": "stream",
       "stream": "stdout",
       "text": [
        "\r",
        " 73 7696k   73 5618k    0     0   295k      0  0:00"
       ]
      },
      {
       "output_type": "stream",
       "stream": "stdout",
       "text": [
        ":26  0:00:19  0:00:07  251k"
       ]
      },
      {
       "output_type": "stream",
       "stream": "stdout",
       "text": [
        "\r",
        " 76 7696k   76 5883k    0     0   292k      0  0:00:26  0:00:20  0:00:06  285k"
       ]
      },
      {
       "output_type": "stream",
       "stream": "stdout",
       "text": [
        "\r",
        " 78 7696k   78 6071k    0     0   290k      0  0:00:26  0:00:20  0:00:06  297k"
       ]
      },
      {
       "output_type": "stream",
       "stream": "stdout",
       "text": [
        "\r",
        " 82 7696k   82 6322k    0     0   286k      0  0:00:26  0:00:22  0:00:04  240k"
       ]
      },
      {
       "output_type": "stream",
       "stream": "stdout",
       "text": [
        "\r",
        " 85 7696k   85 6572k    0     0   285k      0  0:00:26  0:00:23  0:00:03  237k"
       ]
      },
      {
       "output_type": "stream",
       "stream": "stdout",
       "text": [
        "\r",
        " 87 7696k   87 6735k    0     0   280k      0  0:00:27  0:00:23  0:00:04  224k"
       ]
      },
      {
       "output_type": "stream",
       "stream": "stdout",
       "text": [
        "\r",
        " 88 7696k   88 6843k    0     0   273k      0 "
       ]
      },
      {
       "output_type": "stream",
       "stream": "stdout",
       "text": [
        " 0:00:28  0:00:24  0:00:04  197k"
       ]
      },
      {
       "output_type": "stream",
       "stream": "stdout",
       "text": [
        "\r",
        " 90 7696k   90 6963k    0     0   267k      0  0:00:28  0:00:26  0:00:02  176k"
       ]
      },
      {
       "output_type": "stream",
       "stream": "stdout",
       "text": [
        "\r",
        " 92 7696k   92 7106k    0     0   263k      0  0:00:29  0:00:26  0:00:03  159k"
       ]
      },
      {
       "output_type": "stream",
       "stream": "stdout",
       "text": [
        "\r",
        " 94 7696k   94 7265k    0     0   260k      0  0:00:29  0:00:27  0:00:02  141k"
       ]
      },
      {
       "output_type": "stream",
       "stream": "stdout",
       "text": [
        "\r",
        " 96 7696k   96 7436k    0     0   256k      0  0:00:30  0:00:28  0:00:02  140k"
       ]
      },
      {
       "output_type": "stream",
       "stream": "stdout",
       "text": [
        "\r",
        " 98 7696k   98 7614k    0     0   252k      0  0:00:30  0:00:30 --:--:--  150k"
       ]
      },
      {
       "output_type": "stream",
       "stream": "stdout",
       "text": [
        "\r",
        "100 7696k  100 7696k    0     0   252k      0  0:00:30  0:00:30 --:--:--  163k\r\n"
       ]
      },
      {
       "output_type": "stream",
       "stream": "stdout",
       "text": [
        "  % Total    % Received % Xferd  Average Speed   Time    Time     Time  Current\r\n",
        "                                 Dload  Upload   Total   Spent    Left  Speed\r\n",
        "\r",
        "  0     0    0     0    0     0      0      0 --:--:-- --:--:-- --:--:--     0"
       ]
      },
      {
       "output_type": "stream",
       "stream": "stdout",
       "text": [
        "\r",
        "  0 4595k    0  2472    0     0   4653      0  0:16:51 --:--:--  0:16:51  4646"
       ]
      },
      {
       "output_type": "stream",
       "stream": "stdout",
       "text": [
        "\r",
        "  0 4595k    0 22992    0     0  15754      0  0:04:58  0:00:01  0:04:57 15747"
       ]
      },
      {
       "output_type": "stream",
       "stream": "stdout",
       "text": [
        "\r",
        "  3 4595k    3  165k    0     0  67362      0  0:01:09  0:00:02  0:01:07 67343"
       ]
      },
      {
       "output_type": "stream",
       "stream": "stdout",
       "text": [
        "\r",
        "  8 4595k    8  384k    0     0   111k      0  0:00:41  0:00:03  0:00:38  111k"
       ]
      },
      {
       "output_type": "stream",
       "stream": "stdout",
       "text": [
        "\r",
        " 15 4595k   15  710k    0     0   163k      0  0:00:28  0:00:04  0:00:24  163k"
       ]
      },
      {
       "output_type": "stream",
       "stream": "stdout",
       "text": [
        "\r",
        " 29 4595k   29 1350k    0     0   243k      0  0:00:18  0:00:05  0:00:13  269k"
       ]
      },
      {
       "output_type": "stream",
       "stream": "stdout",
       "text": [
        "\r",
        " 42 4595k   42 1956k    0     0   292k      0  0:00:15  0:00:06  0:00:09  369k"
       ]
      },
      {
       "output_type": "stream",
       "stream": "stdout",
       "text": [
        "\r",
        " 52 4595k   52 2419k    0     0   324k      0  0:00:14  0:00:07  0:00:07  455k"
       ]
      },
      {
       "output_type": "stream",
       "stream": "stdout",
       "text": [
        "\r",
        " 67 4595k   67 3104k    0     0   366k      0  0:00:12  0:00:08  0:00:04  542k"
       ]
      },
      {
       "output_type": "stream",
       "stream": "stdout",
       "text": [
        "\r",
        " 74 4595k   74 3443k    0     0   367k      0  0:00:12  0:00:09  0:00:03  543k"
       ]
      },
      {
       "output_type": "stream",
       "stream": "stdout",
       "text": [
        "\r",
        " 84 4595k   84 3906k    0     0   372k      0  0:00:12  0:00:10  0:00:02  516k"
       ]
      },
      {
       "output_type": "stream",
       "stream": "stdout",
       "text": [
        "\r",
        " 91 4595k   91 4183k    0     0   369k      0  0:00:12  0:00:11  0:00:01  481k"
       ]
      },
      {
       "output_type": "stream",
       "stream": "stdout",
       "text": [
        "\r",
        " 96 4595k   96 4441k    0     0   351k      0  0:00:13  0:00:12  0:00:01  390k\r",
        "100 4595k  100 4595k    0     0   363k      0  0:00:12  0:00:12 --:--:--  356k\r\n"
       ]
      },
      {
       "output_type": "stream",
       "stream": "stdout",
       "text": [
        "  % Total    % Received % Xferd  Average Speed   Time    Time     Time  Current\r\n",
        "                                 Dload  Upload   Total   Spent    Left  Speed\r\n",
        "\r",
        "  0     0    0     0    0     0      0      0 --:--:-- --:--:-- --:--:--     0"
       ]
      },
      {
       "output_type": "stream",
       "stream": "stdout",
       "text": [
        "\r",
        "  0 4783k    0  9312    0     0  11462      0  0:07:07 --:--:--  0:07:07 11453"
       ]
      },
      {
       "output_type": "stream",
       "stream": "stdout",
       "text": [
        "\r",
        "  0 4783k    0 36672    0     0  22255      0  0:03:40  0:00:01  0:03:39 22252"
       ]
      },
      {
       "output_type": "stream",
       "stream": "stdout",
       "text": [
        "\r",
        "  4 4783k    4  198k    0     0  75559      0  0:01:04  0:00:02  0:01:02 75535"
       ]
      },
      {
       "output_type": "stream",
       "stream": "stdout",
       "text": [
        "\r",
        " 13 4783k   13  626k    0     0   177k      0  0:00:27  0:00:03  0:00:24  176k"
       ]
      },
      {
       "output_type": "stream",
       "stream": "stdout",
       "text": [
        "\r",
        " 22 4783k   22 1092k    0     0   232k      0  0:00:20  0:00:04  0:00:16  232k"
       ]
      },
      {
       "output_type": "stream",
       "stream": "stdout",
       "text": [
        "\r",
        " 31 4783k   31 1501k    0     0   263k      0  0:00:18  0:00:05  0:00:13"
       ]
      },
      {
       "output_type": "stream",
       "stream": "stdout",
       "text": [
        "  306k"
       ]
      },
      {
       "output_type": "stream",
       "stream": "stdout",
       "text": [
        "\r",
        " 41 4783k   41 1992k    0     0   299k      0  0:0"
       ]
      },
      {
       "output_type": "stream",
       "stream": "stdout",
       "text": [
        "0:15  0:00:06  0:00:09  391k"
       ]
      },
      {
       "output_type": "stream",
       "stream": "stdout",
       "text": [
        "\r",
        " 55 4783k   55 2668k    0     0   334k      0  0:00:14  0:00:07  0:00:07  468k"
       ]
      },
      {
       "output_type": "stream",
       "stream": "stdout",
       "text": [
        "\r",
        " 60 4783k   60 2914k    0     0   340k      0  0:00:14  0:00:08  0:00:06  454k"
       ]
      },
      {
       "output_type": "stream",
       "stream": "stdout",
       "text": [
        "\r",
        " 67 4783k   67 3243k    0     0   336k      0  0:00:14  0:00:09  0:00:05  435k"
       ]
      },
      {
       "output_type": "stream",
       "stream": "stdout",
       "text": [
        "\r",
        " 73 4783k   73 3526k    0     0   330k      0  0:00:14  0:00:10  0:00:04  406k"
       ]
      },
      {
       "output_type": "stream",
       "stream": "stdout",
       "text": [
        "\r",
        " 78 4783k   78 3740k    0     0   322k      0  0:00:14  0:00:11  0:00:03  352k"
       ]
      },
      {
       "output_type": "stream",
       "stream": "stdout",
       "text": [
        "\r",
        " 84 4783k   84 4030k    0     0   319k      0  0:00:14  0:00:12  0:00:02  293k"
       ]
      },
      {
       "output_type": "stream",
       "stream": "stdout",
       "text": [
        "\r",
        " 87 4783k   87 4202k    0     0   308k      0  0:00:15  0:00:13  0:00:02  255k"
       ]
      },
      {
       "output_type": "stream",
       "stream": "stdout",
       "text": [
        "\r",
        " 91 4783k   91 4362k    0     0   296k      0  0:00:16  0:00:14  0:00:02  221k"
       ]
      },
      {
       "output_type": "stream",
       "stream": "stdout",
       "text": [
        "\r",
        " 94 4783k   94 4535k    0     0   289k      0  0:00:16  0:00:15  0:00:01  201k"
       ]
      },
      {
       "output_type": "stream",
       "stream": "stdout",
       "text": [
        "\r",
        " 98 4783k   98 4706k    0     0   282k      0  0:00:16  0:00:16 --:--:--  192k"
       ]
      },
      {
       "output_type": "stream",
       "stream": "stdout",
       "text": [
        "\r",
        "100 4783k  100 4783k    0     0   282k      0  0:00:16  0:00:16 --:--:--  174k\r\n"
       ]
      },
      {
       "output_type": "stream",
       "stream": "stdout",
       "text": [
        "  % Total    % Received % Xferd  Average Speed   Time    Time     Time  Current\r\n",
        "                                 Dload  Upload   Total   Spent    Left  Speed\r\n",
        "\r",
        "  0     0    0     0    0     0      0      0 --:--:-- --:--:-- --:--:--     0"
       ]
      },
      {
       "output_type": "stream",
       "stream": "stdout",
       "text": [
        "\r",
        "  0 4674k    0  1104    0     0   2309      0  0:34:33 --:--:--  0:34:33  2309"
       ]
      },
      {
       "output_type": "stream",
       "stream": "stdout",
       "text": [
        "\r",
        "  1 4674k    1 72240    0     0  43208      0  0:01:50  0:00:01  0:01:49 43205"
       ]
      },
      {
       "output_type": "stream",
       "stream": "stdout",
       "text": [
        "\r",
        "  4 4674k    4  209k    0     0  86599      0  0:00:55  0:00:02  0:00:53 86601"
       ]
      },
      {
       "output_type": "stream",
       "stream": "stdout",
       "text": [
        "\r",
        " 15 4674k   15  725k    0     0   196k      0  0:00:23  0:00:03  0:00:20  196k"
       ]
      },
      {
       "output_type": "stream",
       "stream": "stdout",
       "text": [
        "\r",
        " 24 4674k   24 1155k    0     0   249k      0  0:00:18  0:00:04  0:00:14  249k"
       ]
      },
      {
       "output_type": "stream",
       "stream": "stdout",
       "text": [
        "\r",
        " 34 4674k   34 1616k    0     0   289k      0  0:00:16  0:00:05  0:00:11  316k"
       ]
      },
      {
       "output_type": "stream",
       "stream": "stdout",
       "text": [
        "\r",
        " 44 4674k   44 2101k    0     0   317k      0  0:00:14  0:00:06  0:00:08  411k"
       ]
      },
      {
       "output_type": "stream",
       "stream": "stdout",
       "text": [
        "\r",
        " 53 4674k   53 2508k    0     0   326k      0  0:00:14  0:00:07  0:00:07  442k"
       ]
      },
      {
       "output_type": "stream",
       "stream": "stdout",
       "text": [
        "\r",
        " 59 4674k   59 2786k    0     0   327k      0  0:00:14  0:00:08  0:00:06  428k"
       ]
      },
      {
       "output_type": "stream",
       "stream": "stdout",
       "text": [
        "\r",
        " 69 4674k   69 3226k    0     0   338k      0  0:00:13  0:00:09  0:00:04  422k"
       ]
      },
      {
       "output_type": "stream",
       "stream": "stdout",
       "text": [
        "\r",
        " 77 4674k   77 3624k    0     0   344k      0  0:00:13  0:00:10  0:00:03  406k"
       ]
      },
      {
       "output_type": "stream",
       "stream": "stdout",
       "text": [
        "\r",
        " 85 4674k   85 3979k    0     0   343k      0  0:00:13  0:00:11  0:00:02  376k"
       ]
      },
      {
       "output_type": "stream",
       "stream": "stdout",
       "text": [
        "\r",
        " 90 4674k   90 4249k    0     0   337k      0  0:00:13  0:00:12  0:00:01  353k"
       ]
      },
      {
       "output_type": "stream",
       "stream": "stdout",
       "text": [
        "\r",
        " 96 4674k   96 4501k    0     0   332k      0  0:00:14  0:00:13  0:00:01  340k"
       ]
      },
      {
       "output_type": "stream",
       "stream": "stdout",
       "text": [
        "\r",
        "100 4674k  100 4674k    0     0   337k      0  0:00:13  0:00:13 --:--:--  336k\r\n"
       ]
      }
     ],
     "prompt_number": 2
    },
    {
     "cell_type": "markdown",
     "metadata": {},
     "source": [
      "\n",
      "#### Import pandas and check using the first data file:"
     ]
    },
    {
     "cell_type": "code",
     "collapsed": false,
     "input": [
      "import pandas as pd\n",
      "\n",
      "df = pd.read_csv('../data/NYTdata/nyt1.csv')  # May need to adjust to correct directory\n",
      "print df.count()"
     ],
     "language": "python",
     "metadata": {},
     "outputs": [
      {
       "output_type": "stream",
       "stream": "stdout",
       "text": [
        "Age            458441\n",
        "Gender         458441\n",
        "Impressions    458441\n",
        "Clicks         458441\n",
        "Signed_In      458441\n",
        "dtype: int64\n"
       ]
      }
     ],
     "prompt_number": 1
    },
    {
     "cell_type": "markdown",
     "metadata": {},
     "source": [
      "\n",
      "####Merge data sets together:"
     ]
    },
    {
     "cell_type": "code",
     "collapsed": false,
     "input": [
      "datasets = []\n",
      "for x in range(2,31):\n",
      "    newFile = pd.read_csv('../data/NYTdata/nyt' + str(x) + '.csv')\n",
      "    datasets.append(newFile)"
     ],
     "language": "python",
     "metadata": {},
     "outputs": [],
     "prompt_number": 2
    },
    {
     "cell_type": "code",
     "collapsed": false,
     "input": [
      "df = pd.concat(datasets)\n",
      "df.describe()"
     ],
     "language": "python",
     "metadata": {},
     "outputs": [
      {
       "html": [
        "<div style=\"max-height:1000px;max-width:1500px;overflow:auto;\">\n",
        "<table border=\"1\" class=\"dataframe\">\n",
        "  <thead>\n",
        "    <tr style=\"text-align: right;\">\n",
        "      <th></th>\n",
        "      <th>Age</th>\n",
        "      <th>Gender</th>\n",
        "      <th>Impressions</th>\n",
        "      <th>Clicks</th>\n",
        "      <th>Signed_In</th>\n",
        "    </tr>\n",
        "  </thead>\n",
        "  <tbody>\n",
        "    <tr>\n",
        "      <th>count</th>\n",
        "      <td> 14007312.000000</td>\n",
        "      <td> 14007312.000000</td>\n",
        "      <td> 14007312.000000</td>\n",
        "      <td> 14007312.000000</td>\n",
        "      <td> 14007312.000000</td>\n",
        "    </tr>\n",
        "    <tr>\n",
        "      <th>mean</th>\n",
        "      <td>       26.035602</td>\n",
        "      <td>        0.320587</td>\n",
        "      <td>        4.999439</td>\n",
        "      <td>        0.098049</td>\n",
        "      <td>        0.618472</td>\n",
        "    </tr>\n",
        "    <tr>\n",
        "      <th>std</th>\n",
        "      <td>       24.146331</td>\n",
        "      <td>        0.466702</td>\n",
        "      <td>        2.235641</td>\n",
        "      <td>        0.319541</td>\n",
        "      <td>        0.485762</td>\n",
        "    </tr>\n",
        "    <tr>\n",
        "      <th>min</th>\n",
        "      <td>        0.000000</td>\n",
        "      <td>        0.000000</td>\n",
        "      <td>        0.000000</td>\n",
        "      <td>        0.000000</td>\n",
        "      <td>        0.000000</td>\n",
        "    </tr>\n",
        "    <tr>\n",
        "      <th>25%</th>\n",
        "      <td>        0.000000</td>\n",
        "      <td>        0.000000</td>\n",
        "      <td>        3.000000</td>\n",
        "      <td>        0.000000</td>\n",
        "      <td>        0.000000</td>\n",
        "    </tr>\n",
        "    <tr>\n",
        "      <th>50%</th>\n",
        "      <td>       26.000000</td>\n",
        "      <td>        0.000000</td>\n",
        "      <td>        5.000000</td>\n",
        "      <td>        0.000000</td>\n",
        "      <td>        1.000000</td>\n",
        "    </tr>\n",
        "    <tr>\n",
        "      <th>75%</th>\n",
        "      <td>       46.000000</td>\n",
        "      <td>        1.000000</td>\n",
        "      <td>        6.000000</td>\n",
        "      <td>        0.000000</td>\n",
        "      <td>        1.000000</td>\n",
        "    </tr>\n",
        "    <tr>\n",
        "      <th>max</th>\n",
        "      <td>      115.000000</td>\n",
        "      <td>        1.000000</td>\n",
        "      <td>       21.000000</td>\n",
        "      <td>        6.000000</td>\n",
        "      <td>        1.000000</td>\n",
        "    </tr>\n",
        "  </tbody>\n",
        "</table>\n",
        "</div>"
       ],
       "metadata": {},
       "output_type": "pyout",
       "prompt_number": 3,
       "text": [
        "                   Age           Gender      Impressions           Clicks  \\\n",
        "count  14007312.000000  14007312.000000  14007312.000000  14007312.000000   \n",
        "mean         26.035602         0.320587         4.999439         0.098049   \n",
        "std          24.146331         0.466702         2.235641         0.319541   \n",
        "min           0.000000         0.000000         0.000000         0.000000   \n",
        "25%           0.000000         0.000000         3.000000         0.000000   \n",
        "50%          26.000000         0.000000         5.000000         0.000000   \n",
        "75%          46.000000         1.000000         6.000000         0.000000   \n",
        "max         115.000000         1.000000        21.000000         6.000000   \n",
        "\n",
        "             Signed_In  \n",
        "count  14007312.000000  \n",
        "mean          0.618472  \n",
        "std           0.485762  \n",
        "min           0.000000  \n",
        "25%           0.000000  \n",
        "50%           1.000000  \n",
        "75%           1.000000  \n",
        "max           1.000000  "
       ]
      }
     ],
     "prompt_number": 3
    },
    {
     "cell_type": "markdown",
     "metadata": {},
     "source": [
      "\n",
      "\n",
      "####Dataframe of click through rate per age, gender, and signed_in:"
     ]
    },
    {
     "cell_type": "markdown",
     "metadata": {},
     "source": [
      "Add a new column - CTR (clicks / impressions)"
     ]
    },
    {
     "cell_type": "code",
     "collapsed": false,
     "input": [
      "dfCTR = df[\"Clicks\"] / df[\"Impressions\"]\n",
      "df[\"CTR\"] = dfCTR\n",
      "df.head()"
     ],
     "language": "python",
     "metadata": {},
     "outputs": [
      {
       "html": [
        "<div style=\"max-height:1000px;max-width:1500px;overflow:auto;\">\n",
        "<table border=\"1\" class=\"dataframe\">\n",
        "  <thead>\n",
        "    <tr style=\"text-align: right;\">\n",
        "      <th></th>\n",
        "      <th>Age</th>\n",
        "      <th>Gender</th>\n",
        "      <th>Impressions</th>\n",
        "      <th>Clicks</th>\n",
        "      <th>Signed_In</th>\n",
        "      <th>CTR</th>\n",
        "    </tr>\n",
        "  </thead>\n",
        "  <tbody>\n",
        "    <tr>\n",
        "      <th>0</th>\n",
        "      <td> 48</td>\n",
        "      <td> 1</td>\n",
        "      <td> 3</td>\n",
        "      <td> 0</td>\n",
        "      <td> 1</td>\n",
        "      <td> 0.000000</td>\n",
        "    </tr>\n",
        "    <tr>\n",
        "      <th>1</th>\n",
        "      <td>  0</td>\n",
        "      <td> 0</td>\n",
        "      <td> 9</td>\n",
        "      <td> 1</td>\n",
        "      <td> 0</td>\n",
        "      <td> 0.111111</td>\n",
        "    </tr>\n",
        "    <tr>\n",
        "      <th>2</th>\n",
        "      <td> 15</td>\n",
        "      <td> 1</td>\n",
        "      <td> 4</td>\n",
        "      <td> 0</td>\n",
        "      <td> 1</td>\n",
        "      <td> 0.000000</td>\n",
        "    </tr>\n",
        "    <tr>\n",
        "      <th>3</th>\n",
        "      <td>  0</td>\n",
        "      <td> 0</td>\n",
        "      <td> 5</td>\n",
        "      <td> 0</td>\n",
        "      <td> 0</td>\n",
        "      <td> 0.000000</td>\n",
        "    </tr>\n",
        "    <tr>\n",
        "      <th>4</th>\n",
        "      <td>  0</td>\n",
        "      <td> 0</td>\n",
        "      <td> 7</td>\n",
        "      <td> 1</td>\n",
        "      <td> 0</td>\n",
        "      <td> 0.142857</td>\n",
        "    </tr>\n",
        "  </tbody>\n",
        "</table>\n",
        "</div>"
       ],
       "metadata": {},
       "output_type": "pyout",
       "prompt_number": 4,
       "text": [
        "   Age  Gender  Impressions  Clicks  Signed_In       CTR\n",
        "0   48       1            3       0          1  0.000000\n",
        "1    0       0            9       1          0  0.111111\n",
        "2   15       1            4       0          1  0.000000\n",
        "3    0       0            5       0          0  0.000000\n",
        "4    0       0            7       1          0  0.142857"
       ]
      }
     ],
     "prompt_number": 4
    },
    {
     "cell_type": "code",
     "collapsed": false,
     "input": [
      "df = df.groupby([\"Age\", \"Gender\", \"Signed_In\"], sort=True)\n",
      "df.head()"
     ],
     "language": "python",
     "metadata": {},
     "outputs": [
      {
       "html": [
        "<div style=\"max-height:1000px;max-width:1500px;overflow:auto;\">\n",
        "<table border=\"1\" class=\"dataframe\">\n",
        "  <thead>\n",
        "    <tr style=\"text-align: right;\">\n",
        "      <th></th>\n",
        "      <th>Age</th>\n",
        "      <th>Gender</th>\n",
        "      <th>Impressions</th>\n",
        "      <th>Clicks</th>\n",
        "      <th>Signed_In</th>\n",
        "      <th>CTR</th>\n",
        "    </tr>\n",
        "  </thead>\n",
        "  <tbody>\n",
        "    <tr>\n",
        "      <th>0     </th>\n",
        "      <td>  48</td>\n",
        "      <td> 1</td>\n",
        "      <td>  3</td>\n",
        "      <td> 0</td>\n",
        "      <td> 1</td>\n",
        "      <td> 0.000000</td>\n",
        "    </tr>\n",
        "    <tr>\n",
        "      <th>1     </th>\n",
        "      <td>   0</td>\n",
        "      <td> 0</td>\n",
        "      <td>  9</td>\n",
        "      <td> 1</td>\n",
        "      <td> 0</td>\n",
        "      <td> 0.111111</td>\n",
        "    </tr>\n",
        "    <tr>\n",
        "      <th>2     </th>\n",
        "      <td>  15</td>\n",
        "      <td> 1</td>\n",
        "      <td>  4</td>\n",
        "      <td> 0</td>\n",
        "      <td> 1</td>\n",
        "      <td> 0.000000</td>\n",
        "    </tr>\n",
        "    <tr>\n",
        "      <th>3     </th>\n",
        "      <td>   0</td>\n",
        "      <td> 0</td>\n",
        "      <td>  5</td>\n",
        "      <td> 0</td>\n",
        "      <td> 0</td>\n",
        "      <td> 0.000000</td>\n",
        "    </tr>\n",
        "    <tr>\n",
        "      <th>4     </th>\n",
        "      <td>   0</td>\n",
        "      <td> 0</td>\n",
        "      <td>  7</td>\n",
        "      <td> 1</td>\n",
        "      <td> 0</td>\n",
        "      <td> 0.142857</td>\n",
        "    </tr>\n",
        "    <tr>\n",
        "      <th>5     </th>\n",
        "      <td>   0</td>\n",
        "      <td> 0</td>\n",
        "      <td> 11</td>\n",
        "      <td> 0</td>\n",
        "      <td> 0</td>\n",
        "      <td> 0.000000</td>\n",
        "    </tr>\n",
        "    <tr>\n",
        "      <th>6     </th>\n",
        "      <td>  63</td>\n",
        "      <td> 0</td>\n",
        "      <td>  3</td>\n",
        "      <td> 0</td>\n",
        "      <td> 1</td>\n",
        "      <td> 0.000000</td>\n",
        "    </tr>\n",
        "    <tr>\n",
        "      <th>7     </th>\n",
        "      <td>   0</td>\n",
        "      <td> 0</td>\n",
        "      <td>  4</td>\n",
        "      <td> 0</td>\n",
        "      <td> 0</td>\n",
        "      <td> 0.000000</td>\n",
        "    </tr>\n",
        "    <tr>\n",
        "      <th>8     </th>\n",
        "      <td>  24</td>\n",
        "      <td> 1</td>\n",
        "      <td>  2</td>\n",
        "      <td> 0</td>\n",
        "      <td> 1</td>\n",
        "      <td> 0.000000</td>\n",
        "    </tr>\n",
        "    <tr>\n",
        "      <th>9     </th>\n",
        "      <td>  16</td>\n",
        "      <td> 0</td>\n",
        "      <td>  7</td>\n",
        "      <td> 0</td>\n",
        "      <td> 1</td>\n",
        "      <td> 0.000000</td>\n",
        "    </tr>\n",
        "    <tr>\n",
        "      <th>10    </th>\n",
        "      <td>  31</td>\n",
        "      <td> 1</td>\n",
        "      <td>  5</td>\n",
        "      <td> 0</td>\n",
        "      <td> 1</td>\n",
        "      <td> 0.000000</td>\n",
        "    </tr>\n",
        "    <tr>\n",
        "      <th>12    </th>\n",
        "      <td>  56</td>\n",
        "      <td> 1</td>\n",
        "      <td>  5</td>\n",
        "      <td> 0</td>\n",
        "      <td> 1</td>\n",
        "      <td> 0.000000</td>\n",
        "    </tr>\n",
        "    <tr>\n",
        "      <th>13    </th>\n",
        "      <td>  52</td>\n",
        "      <td> 1</td>\n",
        "      <td>  6</td>\n",
        "      <td> 0</td>\n",
        "      <td> 1</td>\n",
        "      <td> 0.000000</td>\n",
        "    </tr>\n",
        "    <tr>\n",
        "      <th>14    </th>\n",
        "      <td>  48</td>\n",
        "      <td> 1</td>\n",
        "      <td>  2</td>\n",
        "      <td> 0</td>\n",
        "      <td> 1</td>\n",
        "      <td> 0.000000</td>\n",
        "    </tr>\n",
        "    <tr>\n",
        "      <th>15    </th>\n",
        "      <td>  20</td>\n",
        "      <td> 0</td>\n",
        "      <td>  5</td>\n",
        "      <td> 0</td>\n",
        "      <td> 1</td>\n",
        "      <td> 0.000000</td>\n",
        "    </tr>\n",
        "    <tr>\n",
        "      <th>16    </th>\n",
        "      <td>  47</td>\n",
        "      <td> 1</td>\n",
        "      <td>  4</td>\n",
        "      <td> 0</td>\n",
        "      <td> 1</td>\n",
        "      <td> 0.000000</td>\n",
        "    </tr>\n",
        "    <tr>\n",
        "      <th>17    </th>\n",
        "      <td>  53</td>\n",
        "      <td> 0</td>\n",
        "      <td>  4</td>\n",
        "      <td> 0</td>\n",
        "      <td> 1</td>\n",
        "      <td> 0.000000</td>\n",
        "    </tr>\n",
        "    <tr>\n",
        "      <th>18    </th>\n",
        "      <td>  22</td>\n",
        "      <td> 0</td>\n",
        "      <td>  2</td>\n",
        "      <td> 0</td>\n",
        "      <td> 1</td>\n",
        "      <td> 0.000000</td>\n",
        "    </tr>\n",
        "    <tr>\n",
        "      <th>20    </th>\n",
        "      <td>  28</td>\n",
        "      <td> 0</td>\n",
        "      <td>  3</td>\n",
        "      <td> 0</td>\n",
        "      <td> 1</td>\n",
        "      <td> 0.000000</td>\n",
        "    </tr>\n",
        "    <tr>\n",
        "      <th>24    </th>\n",
        "      <td>  25</td>\n",
        "      <td> 1</td>\n",
        "      <td>  8</td>\n",
        "      <td> 0</td>\n",
        "      <td> 1</td>\n",
        "      <td> 0.000000</td>\n",
        "    </tr>\n",
        "    <tr>\n",
        "      <th>25    </th>\n",
        "      <td>  62</td>\n",
        "      <td> 0</td>\n",
        "      <td>  6</td>\n",
        "      <td> 0</td>\n",
        "      <td> 1</td>\n",
        "      <td> 0.000000</td>\n",
        "    </tr>\n",
        "    <tr>\n",
        "      <th>26    </th>\n",
        "      <td>  56</td>\n",
        "      <td> 0</td>\n",
        "      <td>  7</td>\n",
        "      <td> 0</td>\n",
        "      <td> 1</td>\n",
        "      <td> 0.000000</td>\n",
        "    </tr>\n",
        "    <tr>\n",
        "      <th>27    </th>\n",
        "      <td>  42</td>\n",
        "      <td> 1</td>\n",
        "      <td>  3</td>\n",
        "      <td> 0</td>\n",
        "      <td> 1</td>\n",
        "      <td> 0.000000</td>\n",
        "    </tr>\n",
        "    <tr>\n",
        "      <th>28    </th>\n",
        "      <td>  30</td>\n",
        "      <td> 1</td>\n",
        "      <td>  7</td>\n",
        "      <td> 0</td>\n",
        "      <td> 1</td>\n",
        "      <td> 0.000000</td>\n",
        "    </tr>\n",
        "    <tr>\n",
        "      <th>31    </th>\n",
        "      <td>  57</td>\n",
        "      <td> 0</td>\n",
        "      <td>  1</td>\n",
        "      <td> 0</td>\n",
        "      <td> 1</td>\n",
        "      <td> 0.000000</td>\n",
        "    </tr>\n",
        "    <tr>\n",
        "      <th>32    </th>\n",
        "      <td>  24</td>\n",
        "      <td> 0</td>\n",
        "      <td>  5</td>\n",
        "      <td> 0</td>\n",
        "      <td> 1</td>\n",
        "      <td> 0.000000</td>\n",
        "    </tr>\n",
        "    <tr>\n",
        "      <th>34    </th>\n",
        "      <td>  47</td>\n",
        "      <td> 1</td>\n",
        "      <td>  4</td>\n",
        "      <td> 0</td>\n",
        "      <td> 1</td>\n",
        "      <td> 0.000000</td>\n",
        "    </tr>\n",
        "    <tr>\n",
        "      <th>36    </th>\n",
        "      <td>  39</td>\n",
        "      <td> 1</td>\n",
        "      <td>  6</td>\n",
        "      <td> 0</td>\n",
        "      <td> 1</td>\n",
        "      <td> 0.000000</td>\n",
        "    </tr>\n",
        "    <tr>\n",
        "      <th>37    </th>\n",
        "      <td>  24</td>\n",
        "      <td> 1</td>\n",
        "      <td>  6</td>\n",
        "      <td> 0</td>\n",
        "      <td> 1</td>\n",
        "      <td> 0.000000</td>\n",
        "    </tr>\n",
        "    <tr>\n",
        "      <th>38    </th>\n",
        "      <td>  28</td>\n",
        "      <td> 0</td>\n",
        "      <td>  3</td>\n",
        "      <td> 0</td>\n",
        "      <td> 1</td>\n",
        "      <td> 0.000000</td>\n",
        "    </tr>\n",
        "    <tr>\n",
        "      <th>...</th>\n",
        "      <td>...</td>\n",
        "      <td>...</td>\n",
        "      <td>...</td>\n",
        "      <td>...</td>\n",
        "      <td>...</td>\n",
        "      <td>...</td>\n",
        "    </tr>\n",
        "    <tr>\n",
        "      <th>366865</th>\n",
        "      <td>   6</td>\n",
        "      <td> 0</td>\n",
        "      <td>  3</td>\n",
        "      <td> 0</td>\n",
        "      <td> 1</td>\n",
        "      <td> 0.000000</td>\n",
        "    </tr>\n",
        "    <tr>\n",
        "      <th>422547</th>\n",
        "      <td> 104</td>\n",
        "      <td> 1</td>\n",
        "      <td>  8</td>\n",
        "      <td> 0</td>\n",
        "      <td> 1</td>\n",
        "      <td> 0.000000</td>\n",
        "    </tr>\n",
        "    <tr>\n",
        "      <th>149103</th>\n",
        "      <td> 105</td>\n",
        "      <td> 1</td>\n",
        "      <td>  4</td>\n",
        "      <td> 1</td>\n",
        "      <td> 1</td>\n",
        "      <td> 0.250000</td>\n",
        "    </tr>\n",
        "    <tr>\n",
        "      <th>193038</th>\n",
        "      <td>   6</td>\n",
        "      <td> 0</td>\n",
        "      <td>  2</td>\n",
        "      <td> 0</td>\n",
        "      <td> 1</td>\n",
        "      <td> 0.000000</td>\n",
        "    </tr>\n",
        "    <tr>\n",
        "      <th>217229</th>\n",
        "      <td>   6</td>\n",
        "      <td> 1</td>\n",
        "      <td>  6</td>\n",
        "      <td> 0</td>\n",
        "      <td> 1</td>\n",
        "      <td> 0.000000</td>\n",
        "    </tr>\n",
        "    <tr>\n",
        "      <th>228930</th>\n",
        "      <td> 108</td>\n",
        "      <td> 0</td>\n",
        "      <td>  4</td>\n",
        "      <td> 0</td>\n",
        "      <td> 1</td>\n",
        "      <td> 0.000000</td>\n",
        "    </tr>\n",
        "    <tr>\n",
        "      <th>2881  </th>\n",
        "      <td> 106</td>\n",
        "      <td> 0</td>\n",
        "      <td>  3</td>\n",
        "      <td> 0</td>\n",
        "      <td> 1</td>\n",
        "      <td> 0.000000</td>\n",
        "    </tr>\n",
        "    <tr>\n",
        "      <th>294357</th>\n",
        "      <td> 105</td>\n",
        "      <td> 1</td>\n",
        "      <td>  6</td>\n",
        "      <td> 1</td>\n",
        "      <td> 1</td>\n",
        "      <td> 0.166667</td>\n",
        "    </tr>\n",
        "    <tr>\n",
        "      <th>118153</th>\n",
        "      <td> 111</td>\n",
        "      <td> 0</td>\n",
        "      <td>  4</td>\n",
        "      <td> 0</td>\n",
        "      <td> 1</td>\n",
        "      <td> 0.000000</td>\n",
        "    </tr>\n",
        "    <tr>\n",
        "      <th>231922</th>\n",
        "      <td> 107</td>\n",
        "      <td> 0</td>\n",
        "      <td>  4</td>\n",
        "      <td> 1</td>\n",
        "      <td> 1</td>\n",
        "      <td> 0.250000</td>\n",
        "    </tr>\n",
        "    <tr>\n",
        "      <th>243885</th>\n",
        "      <td>   5</td>\n",
        "      <td> 0</td>\n",
        "      <td>  6</td>\n",
        "      <td> 0</td>\n",
        "      <td> 1</td>\n",
        "      <td> 0.000000</td>\n",
        "    </tr>\n",
        "    <tr>\n",
        "      <th>482589</th>\n",
        "      <td>   5</td>\n",
        "      <td> 1</td>\n",
        "      <td>  7</td>\n",
        "      <td> 0</td>\n",
        "      <td> 1</td>\n",
        "      <td> 0.000000</td>\n",
        "    </tr>\n",
        "    <tr>\n",
        "      <th>552686</th>\n",
        "      <td>   5</td>\n",
        "      <td> 0</td>\n",
        "      <td>  6</td>\n",
        "      <td> 0</td>\n",
        "      <td> 1</td>\n",
        "      <td> 0.000000</td>\n",
        "    </tr>\n",
        "    <tr>\n",
        "      <th>282119</th>\n",
        "      <td>   3</td>\n",
        "      <td> 1</td>\n",
        "      <td>  2</td>\n",
        "      <td> 0</td>\n",
        "      <td> 1</td>\n",
        "      <td> 0.000000</td>\n",
        "    </tr>\n",
        "    <tr>\n",
        "      <th>227450</th>\n",
        "      <td> 107</td>\n",
        "      <td> 0</td>\n",
        "      <td>  6</td>\n",
        "      <td> 0</td>\n",
        "      <td> 1</td>\n",
        "      <td> 0.000000</td>\n",
        "    </tr>\n",
        "    <tr>\n",
        "      <th>112809</th>\n",
        "      <td> 115</td>\n",
        "      <td> 0</td>\n",
        "      <td>  9</td>\n",
        "      <td> 0</td>\n",
        "      <td> 1</td>\n",
        "      <td> 0.000000</td>\n",
        "    </tr>\n",
        "    <tr>\n",
        "      <th>341153</th>\n",
        "      <td> 108</td>\n",
        "      <td> 1</td>\n",
        "      <td>  6</td>\n",
        "      <td> 0</td>\n",
        "      <td> 1</td>\n",
        "      <td> 0.000000</td>\n",
        "    </tr>\n",
        "    <tr>\n",
        "      <th>318114</th>\n",
        "      <td> 107</td>\n",
        "      <td> 0</td>\n",
        "      <td>  5</td>\n",
        "      <td> 0</td>\n",
        "      <td> 1</td>\n",
        "      <td> 0.000000</td>\n",
        "    </tr>\n",
        "    <tr>\n",
        "      <th>437269</th>\n",
        "      <td>   5</td>\n",
        "      <td> 1</td>\n",
        "      <td>  1</td>\n",
        "      <td> 0</td>\n",
        "      <td> 1</td>\n",
        "      <td> 0.000000</td>\n",
        "    </tr>\n",
        "    <tr>\n",
        "      <th>139586</th>\n",
        "      <td> 108</td>\n",
        "      <td> 1</td>\n",
        "      <td>  7</td>\n",
        "      <td> 0</td>\n",
        "      <td> 1</td>\n",
        "      <td> 0.000000</td>\n",
        "    </tr>\n",
        "    <tr>\n",
        "      <th>235659</th>\n",
        "      <td>   5</td>\n",
        "      <td> 1</td>\n",
        "      <td> 12</td>\n",
        "      <td> 0</td>\n",
        "      <td> 1</td>\n",
        "      <td> 0.000000</td>\n",
        "    </tr>\n",
        "    <tr>\n",
        "      <th>22098 </th>\n",
        "      <td> 113</td>\n",
        "      <td> 0</td>\n",
        "      <td> 10</td>\n",
        "      <td> 0</td>\n",
        "      <td> 1</td>\n",
        "      <td> 0.000000</td>\n",
        "    </tr>\n",
        "    <tr>\n",
        "      <th>178715</th>\n",
        "      <td>   5</td>\n",
        "      <td> 0</td>\n",
        "      <td>  9</td>\n",
        "      <td> 0</td>\n",
        "      <td> 1</td>\n",
        "      <td> 0.000000</td>\n",
        "    </tr>\n",
        "    <tr>\n",
        "      <th>263345</th>\n",
        "      <td>   3</td>\n",
        "      <td> 0</td>\n",
        "      <td>  2</td>\n",
        "      <td> 0</td>\n",
        "      <td> 1</td>\n",
        "      <td> 0.000000</td>\n",
        "    </tr>\n",
        "    <tr>\n",
        "      <th>388659</th>\n",
        "      <td> 107</td>\n",
        "      <td> 1</td>\n",
        "      <td>  5</td>\n",
        "      <td> 0</td>\n",
        "      <td> 1</td>\n",
        "      <td> 0.000000</td>\n",
        "    </tr>\n",
        "    <tr>\n",
        "      <th>38680 </th>\n",
        "      <td>   5</td>\n",
        "      <td> 1</td>\n",
        "      <td>  3</td>\n",
        "      <td> 1</td>\n",
        "      <td> 1</td>\n",
        "      <td> 0.333333</td>\n",
        "    </tr>\n",
        "    <tr>\n",
        "      <th>94828 </th>\n",
        "      <td> 111</td>\n",
        "      <td> 1</td>\n",
        "      <td>  5</td>\n",
        "      <td> 0</td>\n",
        "      <td> 1</td>\n",
        "      <td> 0.000000</td>\n",
        "    </tr>\n",
        "    <tr>\n",
        "      <th>212721</th>\n",
        "      <td> 108</td>\n",
        "      <td> 1</td>\n",
        "      <td>  7</td>\n",
        "      <td> 0</td>\n",
        "      <td> 1</td>\n",
        "      <td> 0.000000</td>\n",
        "    </tr>\n",
        "    <tr>\n",
        "      <th>9819  </th>\n",
        "      <td>   5</td>\n",
        "      <td> 0</td>\n",
        "      <td>  4</td>\n",
        "      <td> 0</td>\n",
        "      <td> 1</td>\n",
        "      <td> 0.000000</td>\n",
        "    </tr>\n",
        "    <tr>\n",
        "      <th>355516</th>\n",
        "      <td>   5</td>\n",
        "      <td> 1</td>\n",
        "      <td>  4</td>\n",
        "      <td> 1</td>\n",
        "      <td> 1</td>\n",
        "      <td> 0.250000</td>\n",
        "    </tr>\n",
        "  </tbody>\n",
        "</table>\n",
        "<p>1042 rows \u00d7 6 columns</p>\n",
        "</div>"
       ],
       "metadata": {},
       "output_type": "pyout",
       "prompt_number": 5,
       "text": [
        "        Age  Gender  Impressions  Clicks  Signed_In       CTR\n",
        "0        48       1            3       0          1  0.000000\n",
        "1         0       0            9       1          0  0.111111\n",
        "2        15       1            4       0          1  0.000000\n",
        "3         0       0            5       0          0  0.000000\n",
        "4         0       0            7       1          0  0.142857\n",
        "5         0       0           11       0          0  0.000000\n",
        "6        63       0            3       0          1  0.000000\n",
        "7         0       0            4       0          0  0.000000\n",
        "8        24       1            2       0          1  0.000000\n",
        "9        16       0            7       0          1  0.000000\n",
        "10       31       1            5       0          1  0.000000\n",
        "12       56       1            5       0          1  0.000000\n",
        "13       52       1            6       0          1  0.000000\n",
        "14       48       1            2       0          1  0.000000\n",
        "15       20       0            5       0          1  0.000000\n",
        "16       47       1            4       0          1  0.000000\n",
        "17       53       0            4       0          1  0.000000\n",
        "18       22       0            2       0          1  0.000000\n",
        "20       28       0            3       0          1  0.000000\n",
        "24       25       1            8       0          1  0.000000\n",
        "25       62       0            6       0          1  0.000000\n",
        "26       56       0            7       0          1  0.000000\n",
        "27       42       1            3       0          1  0.000000\n",
        "28       30       1            7       0          1  0.000000\n",
        "31       57       0            1       0          1  0.000000\n",
        "32       24       0            5       0          1  0.000000\n",
        "34       47       1            4       0          1  0.000000\n",
        "36       39       1            6       0          1  0.000000\n",
        "37       24       1            6       0          1  0.000000\n",
        "38       28       0            3       0          1  0.000000\n",
        "...     ...     ...          ...     ...        ...       ...\n",
        "366865    6       0            3       0          1  0.000000\n",
        "422547  104       1            8       0          1  0.000000\n",
        "149103  105       1            4       1          1  0.250000\n",
        "193038    6       0            2       0          1  0.000000\n",
        "217229    6       1            6       0          1  0.000000\n",
        "228930  108       0            4       0          1  0.000000\n",
        "2881    106       0            3       0          1  0.000000\n",
        "294357  105       1            6       1          1  0.166667\n",
        "118153  111       0            4       0          1  0.000000\n",
        "231922  107       0            4       1          1  0.250000\n",
        "243885    5       0            6       0          1  0.000000\n",
        "482589    5       1            7       0          1  0.000000\n",
        "552686    5       0            6       0          1  0.000000\n",
        "282119    3       1            2       0          1  0.000000\n",
        "227450  107       0            6       0          1  0.000000\n",
        "112809  115       0            9       0          1  0.000000\n",
        "341153  108       1            6       0          1  0.000000\n",
        "318114  107       0            5       0          1  0.000000\n",
        "437269    5       1            1       0          1  0.000000\n",
        "139586  108       1            7       0          1  0.000000\n",
        "235659    5       1           12       0          1  0.000000\n",
        "22098   113       0           10       0          1  0.000000\n",
        "178715    5       0            9       0          1  0.000000\n",
        "263345    3       0            2       0          1  0.000000\n",
        "388659  107       1            5       0          1  0.000000\n",
        "38680     5       1            3       1          1  0.333333\n",
        "94828   111       1            5       0          1  0.000000\n",
        "212721  108       1            7       0          1  0.000000\n",
        "9819      5       0            4       0          1  0.000000\n",
        "355516    5       1            4       1          1  0.250000\n",
        "\n",
        "[1042 rows x 6 columns]"
       ]
      }
     ],
     "prompt_number": 5
    },
    {
     "cell_type": "markdown",
     "metadata": {},
     "source": [
      "####Export to CSV"
     ]
    },
    {
     "cell_type": "code",
     "collapsed": false,
     "input": [
      "df.to_csv('nytimes_aggregation.csv')"
     ],
     "language": "python",
     "metadata": {},
     "outputs": [
      {
       "ename": "AttributeError",
       "evalue": "Cannot access callable attribute 'to_csv' of 'DataFrameGroupBy' objects, try using the 'apply' method",
       "output_type": "pyerr",
       "traceback": [
        "\u001b[1;31m---------------------------------------------------------------------------\u001b[0m\n\u001b[1;31mAttributeError\u001b[0m                            Traceback (most recent call last)",
        "\u001b[1;32m<ipython-input-6-1e35f259089b>\u001b[0m in \u001b[0;36m<module>\u001b[1;34m()\u001b[0m\n\u001b[1;32m----> 1\u001b[1;33m \u001b[0mdf\u001b[0m\u001b[1;33m.\u001b[0m\u001b[0mto_csv\u001b[0m\u001b[1;33m(\u001b[0m\u001b[1;34m'nytimes_aggregation.csv'\u001b[0m\u001b[1;33m)\u001b[0m\u001b[1;33m\u001b[0m\u001b[0m\n\u001b[0m",
        "\u001b[1;32m/usr/local/lib/python2.7/dist-packages/pandas/core/groupby.pyc\u001b[0m in \u001b[0;36m__getattr__\u001b[1;34m(self, attr)\u001b[0m\n\u001b[0;32m    483\u001b[0m             \u001b[1;32mreturn\u001b[0m \u001b[0mself\u001b[0m\u001b[1;33m[\u001b[0m\u001b[0mattr\u001b[0m\u001b[1;33m]\u001b[0m\u001b[1;33m\u001b[0m\u001b[0m\n\u001b[0;32m    484\u001b[0m         \u001b[1;32mif\u001b[0m \u001b[0mhasattr\u001b[0m\u001b[1;33m(\u001b[0m\u001b[0mself\u001b[0m\u001b[1;33m.\u001b[0m\u001b[0mobj\u001b[0m\u001b[1;33m,\u001b[0m \u001b[0mattr\u001b[0m\u001b[1;33m)\u001b[0m\u001b[1;33m:\u001b[0m\u001b[1;33m\u001b[0m\u001b[0m\n\u001b[1;32m--> 485\u001b[1;33m             \u001b[1;32mreturn\u001b[0m \u001b[0mself\u001b[0m\u001b[1;33m.\u001b[0m\u001b[0m_make_wrapper\u001b[0m\u001b[1;33m(\u001b[0m\u001b[0mattr\u001b[0m\u001b[1;33m)\u001b[0m\u001b[1;33m\u001b[0m\u001b[0m\n\u001b[0m\u001b[0;32m    486\u001b[0m \u001b[1;33m\u001b[0m\u001b[0m\n\u001b[0;32m    487\u001b[0m         raise AttributeError(\"%r object has no attribute %r\" %\n",
        "\u001b[1;32m/usr/local/lib/python2.7/dist-packages/pandas/core/groupby.pyc\u001b[0m in \u001b[0;36m_make_wrapper\u001b[1;34m(self, name)\u001b[0m\n\u001b[0;32m    498\u001b[0m                    \"using the 'apply' method\".format(kind, name,\n\u001b[0;32m    499\u001b[0m                                                      type(self).__name__))\n\u001b[1;32m--> 500\u001b[1;33m             \u001b[1;32mraise\u001b[0m \u001b[0mAttributeError\u001b[0m\u001b[1;33m(\u001b[0m\u001b[0mmsg\u001b[0m\u001b[1;33m)\u001b[0m\u001b[1;33m\u001b[0m\u001b[0m\n\u001b[0m\u001b[0;32m    501\u001b[0m \u001b[1;33m\u001b[0m\u001b[0m\n\u001b[0;32m    502\u001b[0m         \u001b[1;31m# need to setup the selection\u001b[0m\u001b[1;33m\u001b[0m\u001b[1;33m\u001b[0m\u001b[0m\n",
        "\u001b[1;31mAttributeError\u001b[0m: Cannot access callable attribute 'to_csv' of 'DataFrameGroupBy' objects, try using the 'apply' method"
       ]
      }
     ],
     "prompt_number": 6
    }
   ],
   "metadata": {}
  }
 ]
}